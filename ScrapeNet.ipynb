{
 "cells": [
  {
   "cell_type": "code",
   "execution_count": 1,
   "metadata": {},
   "outputs": [
    {
     "name": "stderr",
     "output_type": "stream",
     "text": [
      "Using TensorFlow backend.\n"
     ]
    }
   ],
   "source": [
    "from keras.models import load_model\n",
    "import os\n",
    "import keras.backend.tensorflow_backend as tb\n",
    "tb._SYMBOLIC_SCOPE.value = True\n",
    "os.environ['KMP_DUPLICATE_LIB_OK']='True'\n",
    "from keras_facenet import FaceNet\n",
    "\n",
    "\n",
    "import time\n",
    "import json\n",
    "import mysql.connector\n",
    "from SocialProcessor import SocialProcessor\n",
    "\n",
    "import vk_api\n",
    "import threading\n",
    "\n",
    "%matplotlib inline"
   ]
  },
  {
   "cell_type": "code",
   "execution_count": 2,
   "metadata": {},
   "outputs": [],
   "source": [
    "class StoppableThread(threading.Thread):\n",
    "    \"\"\"\n",
    "    Thread class with a stop() method. The thread itself has to check\n",
    "    regularly for the stopped() condition.\n",
    "    \n",
    "    \"\"\"\n",
    "    func = None\n",
    "    args = {}\n",
    "\n",
    "    def __init__(self,  *args, **kwargs):\n",
    "        super(StoppableThread, self).__init__(*args, **kwargs)\n",
    "        self._stop_event = threading.Event()\n",
    "\n",
    "    def stop(self):\n",
    "        self._stop_event.set()\n",
    "\n",
    "    def stopped(self):\n",
    "        return self._stop_event.is_set()\n",
    "    \n",
    "    def run(self):\n",
    "        self.args['thread'] = self\n",
    "        self.func(**self.args)\n",
    "    "
   ]
  },
  {
   "cell_type": "code",
   "execution_count": 3,
   "metadata": {},
   "outputs": [
    {
     "name": "stderr",
     "output_type": "stream",
     "text": [
      "/Users/aleksandrdremov/anaconda3/envs/FaceScrape/lib/python3.7/site-packages/keras/engine/saving.py:341: UserWarning: No training configuration found in save file: the model was *not* compiled. Compile it manually.\n",
      "  warnings.warn('No training configuration found in save file: '\n"
     ]
    }
   ],
   "source": [
    "model_path = 'keras-facenet-master/model/keras/model/facenet_keras.h5'\n",
    "model = load_model(model_path)"
   ]
  },
  {
   "cell_type": "code",
   "execution_count": 4,
   "metadata": {},
   "outputs": [],
   "source": [
    "def aunt_vk():\n",
    "    return input(), True\n",
    "\n",
    "\n",
    "def capt_vk(captcha):\n",
    "    print(captcha.get_url())\n",
    "    inp = input()\n",
    "    captcha.try_again(inp)"
   ]
  },
  {
   "cell_type": "code",
   "execution_count": 5,
   "metadata": {},
   "outputs": [],
   "source": [
    "credentials = {}\n",
    "with open('credentials.json', 'r') as file:\n",
    "    credentials = json.load(file)"
   ]
  },
  {
   "cell_type": "code",
   "execution_count": 6,
   "metadata": {
    "pycharm": {
     "name": "#%%\n"
    }
   },
   "outputs": [],
   "source": [
    "vk_session = vk_api.VkApi(credentials['login'], credentials['password'], auth_handler=aunt_vk, captcha_handler=capt_vk)\n",
    "vk_session.auth()\n",
    "\n",
    "api = vk_session.get_api()"
   ]
  },
  {
   "cell_type": "code",
   "execution_count": 7,
   "metadata": {},
   "outputs": [],
   "source": [
    "def performVkProcessing(delay=0, count=1, thread=False):\n",
    "    conn = mysql.connector.connect(user='face', host=\"localhost\", password=\"Hr3mI3PM5JlFWrub\", database='global_scrape', port=8889, collation=\"utf8mb4_general_ci\")\n",
    "    processor = SocialProcessor(conn, model, prefix='/Users/aleksandrdremov/PycharmProjects/GlobalScraper/', batch=600, limit=500)\n",
    "    time.sleep(delay)\n",
    "    while count>0:\n",
    "        if type(thread) != type(False):\n",
    "            if thread.stopped():\n",
    "                break\n",
    "        try:\n",
    "            task = processor.getTask()\n",
    "        except:\n",
    "            return\n",
    "        user_id = task[0]\n",
    "        query_id = task[-1]\n",
    "        processor.delTask(query_id)\n",
    "        \n",
    "        processor.processVkUser(api, user_id, des_type=\"y\")\n",
    "        count-=1"
   ]
  },
  {
   "cell_type": "code",
   "execution_count": 8,
   "metadata": {},
   "outputs": [
    {
     "name": "stdout",
     "output_type": "stream",
     "text": [
      "Procesing 185313244\n"
     ]
    },
    {
     "data": {
      "application/vnd.jupyter.widget-view+json": {
       "model_id": "19b89619bca047bf9f831eca3ee72aac",
       "version_major": 2,
       "version_minor": 0
      },
      "text/plain": [
       "HBox(children=(FloatProgress(value=0.0, max=500.0), HTML(value='')))"
      ]
     },
     "metadata": {},
     "output_type": "display_data"
    },
    {
     "name": "stdout",
     "output_type": "stream",
     "text": [
      "Empty face: https://sun9-38.userapi.com/c623229/v623229244/20643/_lGnL4928qs.jpg (2536, 2478, 1280, 960)\n",
      "Empty face: https://sun9-30.userapi.com/c834303/v834303111/197a0/clzhyQWEMxY.jpg (142, 141, 75, 75)\n",
      "Empty face: https://sun9-30.userapi.com/c834303/v834303111/197a0/clzhyQWEMxY.jpg (207, 143, 75, 75)\n",
      "Empty face: https://sun9-30.userapi.com/c834303/v834303111/197a0/clzhyQWEMxY.jpg (149, 214, 75, 75)\n",
      "Empty face: https://sun9-30.userapi.com/c834303/v834303111/197a0/clzhyQWEMxY.jpg (149, 83, 75, 75)\n",
      "Empty face: https://sun9-30.userapi.com/c834303/v834303111/197a0/clzhyQWEMxY.jpg (80, 143, 75, 75)\n",
      "Empty face: https://sun9-30.userapi.com/c834303/v834303111/197a0/clzhyQWEMxY.jpg (215, 82, 75, 75)\n",
      "Empty face: https://sun9-30.userapi.com/c834303/v834303111/197a0/clzhyQWEMxY.jpg (218, 219, 75, 75)\n",
      "Empty face: https://sun9-30.userapi.com/c834303/v834303111/197a0/clzhyQWEMxY.jpg (87, 220, 75, 75)\n",
      "Empty face: https://sun9-30.userapi.com/c834303/v834303111/197a0/clzhyQWEMxY.jpg (85, 81, 75, 75)\n",
      "Empty face: https://sun9-6.userapi.com/c841630/v841630612/de70/mOyly6qz1ls.jpg (148, 143, 75, 69)\n",
      "\n",
      "185313244:\n",
      "Added 223 rows\n"
     ]
    }
   ],
   "source": [
    "performVkProcessing(0, 1)"
   ]
  },
  {
   "cell_type": "code",
   "execution_count": null,
   "metadata": {},
   "outputs": [],
   "source": []
  },
  {
   "cell_type": "code",
   "execution_count": 8,
   "metadata": {},
   "outputs": [
    {
     "data": {
      "text/plain": [
       "5"
      ]
     },
     "execution_count": 8,
     "metadata": {},
     "output_type": "execute_result"
    }
   ],
   "source": [
    "threads = []\n",
    "threading.active_count()"
   ]
  },
  {
   "cell_type": "code",
   "execution_count": 9,
   "metadata": {},
   "outputs": [],
   "source": [
    "def addThreads(current_num, max_num=50):\n",
    "    t_num = max(0, max_num - current_num)\n",
    "    limits = 10\n",
    "    step = 1.5\n",
    "    params = [(i*step, limits) for i in range(t_num)]\n",
    "    print(\"Added %s threads\"% (len(params)))\n",
    "    for args in params:\n",
    "        x = StoppableThread()\n",
    "        x.func = performVkProcessing\n",
    "        args = {\"delay\": args[0], \"count\": args[1]}\n",
    "        x.args = args\n",
    "        x.start()\n",
    "        threads.append(x)"
   ]
  },
  {
   "cell_type": "code",
   "execution_count": null,
   "metadata": {},
   "outputs": [
    {
     "name": "stdout",
     "output_type": "stream",
     "text": [
      "Active threads: 0\n",
      "Added 50 threads\n",
      "Active threads: 50\n",
      "Procesing 231754426\n"
     ]
    },
    {
     "data": {
      "application/vnd.jupyter.widget-view+json": {
       "model_id": "dcb4c6d9df264d79a7f3b74ec86b8de1",
       "version_major": 2,
       "version_minor": 0
      },
      "text/plain": [
       "HBox(children=(FloatProgress(value=0.0, max=13.0), HTML(value='')))"
      ]
     },
     "metadata": {},
     "output_type": "display_data"
    },
    {
     "name": "stdout",
     "output_type": "stream",
     "text": [
      "Procesing 500962980\n"
     ]
    },
    {
     "data": {
      "application/vnd.jupyter.widget-view+json": {
       "model_id": "93522be4a9564b9194983f2dbe0369a9",
       "version_major": 2,
       "version_minor": 0
      },
      "text/plain": [
       "HBox(children=(FloatProgress(value=0.0, max=5.0), HTML(value='')))"
      ]
     },
     "metadata": {},
     "output_type": "display_data"
    },
    {
     "name": "stdout",
     "output_type": "stream",
     "text": [
      "Procesing 155305675\n"
     ]
    },
    {
     "data": {
      "application/vnd.jupyter.widget-view+json": {
       "model_id": "6307a84c564f436085afd7d5c4c9ddf1",
       "version_major": 2,
       "version_minor": 0
      },
      "text/plain": [
       "HBox(children=(FloatProgress(value=0.0, max=5.0), HTML(value='')))"
      ]
     },
     "metadata": {},
     "output_type": "display_data"
    },
    {
     "name": "stdout",
     "output_type": "stream",
     "text": [
      "\n",
      "\n",
      "\n",
      "Procesing 427967982\n"
     ]
    },
    {
     "data": {
      "application/vnd.jupyter.widget-view+json": {
       "model_id": "32a05111e81e4521b2b5d64a79c9cd41",
       "version_major": 2,
       "version_minor": 0
      },
      "text/plain": [
       "HBox(children=(FloatProgress(value=0.0, max=9.0), HTML(value='')))"
      ]
     },
     "metadata": {},
     "output_type": "display_data"
    },
    {
     "name": "stdout",
     "output_type": "stream",
     "text": [
      "Procesing 4814936\n"
     ]
    },
    {
     "data": {
      "application/vnd.jupyter.widget-view+json": {
       "model_id": "ada94eab14634d4490e98e3c64a7695c",
       "version_major": 2,
       "version_minor": 0
      },
      "text/plain": [
       "HBox(children=(FloatProgress(value=0.0, max=1.0), HTML(value='')))"
      ]
     },
     "metadata": {},
     "output_type": "display_data"
    },
    {
     "name": "stdout",
     "output_type": "stream",
     "text": [
      "\n",
      "\n",
      "Procesing 225362920\n"
     ]
    },
    {
     "data": {
      "application/vnd.jupyter.widget-view+json": {
       "model_id": "9e59845196a44a0ca5b2a12495639bb1",
       "version_major": 2,
       "version_minor": 0
      },
      "text/plain": [
       "HBox(children=(FloatProgress(value=0.0, max=40.0), HTML(value='')))"
      ]
     },
     "metadata": {},
     "output_type": "display_data"
    },
    {
     "name": "stdout",
     "output_type": "stream",
     "text": [
      "Procesing 109531743\n"
     ]
    },
    {
     "data": {
      "application/vnd.jupyter.widget-view+json": {
       "model_id": "1a28d8e24e6e47b0ba7c3126190b6776",
       "version_major": 2,
       "version_minor": 0
      },
      "text/plain": [
       "HBox(children=(FloatProgress(value=0.0, max=23.0), HTML(value='')))"
      ]
     },
     "metadata": {},
     "output_type": "display_data"
    },
    {
     "name": "stdout",
     "output_type": "stream",
     "text": [
      "\n",
      "\n",
      "Procesing 551607522\n"
     ]
    },
    {
     "data": {
      "application/vnd.jupyter.widget-view+json": {
       "model_id": "fb77c82dea6b4771936cdcc580a7ab80",
       "version_major": 2,
       "version_minor": 0
      },
      "text/plain": [
       "HBox(children=(FloatProgress(value=0.0, max=1.0), HTML(value='')))"
      ]
     },
     "metadata": {},
     "output_type": "display_data"
    },
    {
     "name": "stdout",
     "output_type": "stream",
     "text": [
      "\n",
      "551607522:\n",
      "Added 0 rows\n",
      "Procesing 289526889\n"
     ]
    },
    {
     "data": {
      "application/vnd.jupyter.widget-view+json": {
       "model_id": "4d5f54664af7431c988feb0db1358d4b",
       "version_major": 2,
       "version_minor": 0
      },
      "text/plain": [
       "HBox(children=(FloatProgress(value=0.0, max=500.0), HTML(value='')))"
      ]
     },
     "metadata": {},
     "output_type": "display_data"
    },
    {
     "name": "stdout",
     "output_type": "stream",
     "text": [
      "Procesing 40739132\n"
     ]
    },
    {
     "data": {
      "application/vnd.jupyter.widget-view+json": {
       "model_id": "ea0798671d724819ba784405290066a1",
       "version_major": 2,
       "version_minor": 0
      },
      "text/plain": [
       "HBox(children=(FloatProgress(value=0.0, max=23.0), HTML(value='')))"
      ]
     },
     "metadata": {},
     "output_type": "display_data"
    },
    {
     "name": "stdout",
     "output_type": "stream",
     "text": [
      "Procesing 94311557\n"
     ]
    },
    {
     "data": {
      "application/vnd.jupyter.widget-view+json": {
       "model_id": "697b0b9eb21c41f9816ecb9739b88866",
       "version_major": 2,
       "version_minor": 0
      },
      "text/plain": [
       "HBox(children=(FloatProgress(value=0.0, max=1.0), HTML(value='')))"
      ]
     },
     "metadata": {},
     "output_type": "display_data"
    },
    {
     "name": "stdout",
     "output_type": "stream",
     "text": [
      "\n",
      "94311557:\n",
      "Added 0 rows\n",
      "Procesing 251253599\n"
     ]
    },
    {
     "data": {
      "application/vnd.jupyter.widget-view+json": {
       "model_id": "fa6db956e9ad4c87964d60193b5ee7a1",
       "version_major": 2,
       "version_minor": 0
      },
      "text/plain": [
       "HBox(children=(FloatProgress(value=0.0, max=59.0), HTML(value='')))"
      ]
     },
     "metadata": {},
     "output_type": "display_data"
    },
    {
     "name": "stdout",
     "output_type": "stream",
     "text": [
      "Procesing 195204502\n"
     ]
    },
    {
     "data": {
      "application/vnd.jupyter.widget-view+json": {
       "model_id": "72c1848004154a80ada73889ced9e04c",
       "version_major": 2,
       "version_minor": 0
      },
      "text/plain": [
       "HBox(children=(FloatProgress(value=0.0, max=1.0), HTML(value='')))"
      ]
     },
     "metadata": {},
     "output_type": "display_data"
    },
    {
     "name": "stdout",
     "output_type": "stream",
     "text": [
      "Active threads: 50\n",
      "Added 0 threads\n",
      "Active threads: 50\n",
      "Procesing 277115846\n"
     ]
    },
    {
     "data": {
      "application/vnd.jupyter.widget-view+json": {
       "model_id": "56855b8e7b29473f873832257d1b6d11",
       "version_major": 2,
       "version_minor": 0
      },
      "text/plain": [
       "HBox(children=(FloatProgress(value=0.0, max=500.0), HTML(value='')))"
      ]
     },
     "metadata": {},
     "output_type": "display_data"
    },
    {
     "name": "stdout",
     "output_type": "stream",
     "text": [
      "\n",
      "195204502:\n",
      "Added 0 rows\n",
      "Procesing 38320262\n"
     ]
    },
    {
     "data": {
      "application/vnd.jupyter.widget-view+json": {
       "model_id": "4c3ad773c3a041a2b88b4e1954c46af9",
       "version_major": 2,
       "version_minor": 0
      },
      "text/plain": [
       "HBox(children=(FloatProgress(value=0.0, max=39.0), HTML(value='')))"
      ]
     },
     "metadata": {},
     "output_type": "display_data"
    },
    {
     "name": "stdout",
     "output_type": "stream",
     "text": [
      "Procesing 3735159\n"
     ]
    },
    {
     "data": {
      "application/vnd.jupyter.widget-view+json": {
       "model_id": "c0d331da5d07427f9949c5f64b22e774",
       "version_major": 2,
       "version_minor": 0
      },
      "text/plain": [
       "HBox(children=(FloatProgress(value=0.0, max=245.0), HTML(value='')))"
      ]
     },
     "metadata": {},
     "output_type": "display_data"
    },
    {
     "name": "stdout",
     "output_type": "stream",
     "text": [
      "Procesing 381354531\n",
      "\n"
     ]
    },
    {
     "data": {
      "application/vnd.jupyter.widget-view+json": {
       "model_id": "a92f71225883457881f6f83239c2140d",
       "version_major": 2,
       "version_minor": 0
      },
      "text/plain": [
       "HBox(children=(FloatProgress(value=0.0, max=12.0), HTML(value='')))"
      ]
     },
     "metadata": {},
     "output_type": "display_data"
    },
    {
     "name": "stdout",
     "output_type": "stream",
     "text": [
      "Procesing 553834792\n"
     ]
    },
    {
     "data": {
      "application/vnd.jupyter.widget-view+json": {
       "model_id": "5c6d4a192ea8493c8935d0953cb51d25",
       "version_major": 2,
       "version_minor": 0
      },
      "text/plain": [
       "HBox(children=(FloatProgress(value=0.0, max=1.0), HTML(value='')))"
      ]
     },
     "metadata": {},
     "output_type": "display_data"
    },
    {
     "name": "stdout",
     "output_type": "stream",
     "text": [
      "\n",
      "553834792:\n",
      "Added 0 rows\n",
      "Procesing 138200480\n"
     ]
    },
    {
     "data": {
      "application/vnd.jupyter.widget-view+json": {
       "model_id": "8a8454e2639b4e85a53336230136dbcf",
       "version_major": 2,
       "version_minor": 0
      },
      "text/plain": [
       "HBox(children=(FloatProgress(value=0.0, max=27.0), HTML(value='')))"
      ]
     },
     "metadata": {},
     "output_type": "display_data"
    },
    {
     "name": "stdout",
     "output_type": "stream",
     "text": [
      "Empty face: https://sun3-12.userapi.com/MucTnzTLu3B8NhqstVRgrcrpX-yxOKsgko-kYw/bcZ6XMtNe5A.jpg (1392, 1575, 466, 807)\n",
      "Empty face: https://sun3-12.userapi.com/MucTnzTLu3B8NhqstVRgrcrpX-yxOKsgko-kYw/bcZ6XMtNe5A.jpg (1424, 848, 466, 807)\n",
      "Empty face: https://sun3-12.userapi.com/MucTnzTLu3B8NhqstVRgrcrpX-yxOKsgko-kYw/bcZ6XMtNe5A.jpg (1456, 2356, 466, 807)\n",
      "Empty face: https://sun3-12.userapi.com/MucTnzTLu3B8NhqstVRgrcrpX-yxOKsgko-kYw/bcZ6XMtNe5A.jpg (2035, 1562, 466, 807)\n",
      "Empty face: https://sun3-12.userapi.com/MucTnzTLu3B8NhqstVRgrcrpX-yxOKsgko-kYw/bcZ6XMtNe5A.jpg (734, 1552, 466, 807)\n",
      "Procesing 138200480\n"
     ]
    },
    {
     "data": {
      "application/vnd.jupyter.widget-view+json": {
       "model_id": "eb1dbcb0bbe7475ba1690a3e012e6ffe",
       "version_major": 2,
       "version_minor": 0
      },
      "text/plain": [
       "HBox(children=(FloatProgress(value=0.0, max=27.0), HTML(value='')))"
      ]
     },
     "metadata": {},
     "output_type": "display_data"
    },
    {
     "name": "stdout",
     "output_type": "stream",
     "text": [
      "Procesing 101632105\n"
     ]
    },
    {
     "data": {
      "application/vnd.jupyter.widget-view+json": {
       "model_id": "62ade71ff56e4343bf262f560fe89c16",
       "version_major": 2,
       "version_minor": 0
      },
      "text/plain": [
       "HBox(children=(FloatProgress(value=0.0, max=44.0), HTML(value='')))"
      ]
     },
     "metadata": {},
     "output_type": "display_data"
    },
    {
     "name": "stdout",
     "output_type": "stream",
     "text": [
      "Empty face: https://sun9-61.userapi.com/9X8XXRTarYbmJy7mbnVMw3STkbxnrSY5Tb_LlQ/IqF_8nNXvQI.jpg (128, 146, 45, 75)\n",
      "Procesing 38853\n"
     ]
    },
    {
     "data": {
      "application/vnd.jupyter.widget-view+json": {
       "model_id": "46288f85e5cd423ca627f13086a080f6",
       "version_major": 2,
       "version_minor": 0
      },
      "text/plain": [
       "HBox(children=(FloatProgress(value=0.0, max=48.0), HTML(value='')))"
      ]
     },
     "metadata": {},
     "output_type": "display_data"
    },
    {
     "name": "stdout",
     "output_type": "stream",
     "text": [
      "Empty face: https://sun9-61.userapi.com/9X8XXRTarYbmJy7mbnVMw3STkbxnrSY5Tb_LlQ/IqF_8nNXvQI.jpg (128, 146, 45, 75)\n",
      "Procesing 167196653\n"
     ]
    },
    {
     "data": {
      "application/vnd.jupyter.widget-view+json": {
       "model_id": "81dac8a5f7224851909ab2142c3c4039",
       "version_major": 2,
       "version_minor": 0
      },
      "text/plain": [
       "HBox(children=(FloatProgress(value=0.0, max=64.0), HTML(value='')))"
      ]
     },
     "metadata": {},
     "output_type": "display_data"
    },
    {
     "name": "stdout",
     "output_type": "stream",
     "text": [
      "\n",
      "Procesing 379824435\n"
     ]
    },
    {
     "data": {
      "application/vnd.jupyter.widget-view+json": {
       "model_id": "54b4b7aeb3ea455c81077aa9865fdbb3",
       "version_major": 2,
       "version_minor": 0
      },
      "text/plain": [
       "HBox(children=(FloatProgress(value=0.0, max=2.0), HTML(value='')))"
      ]
     },
     "metadata": {},
     "output_type": "display_data"
    },
    {
     "name": "stdout",
     "output_type": "stream",
     "text": [
      "Procesing 379824435\n"
     ]
    },
    {
     "data": {
      "application/vnd.jupyter.widget-view+json": {
       "model_id": "580b3c62a19a490da1bfb6483f35541a",
       "version_major": 2,
       "version_minor": 0
      },
      "text/plain": [
       "HBox(children=(FloatProgress(value=0.0, max=2.0), HTML(value='')))"
      ]
     },
     "metadata": {},
     "output_type": "display_data"
    },
    {
     "name": "stdout",
     "output_type": "stream",
     "text": [
      "Empty face: https://sun9-47.userapi.com/c830401/v830401924/120b92/qrER03ZJVGE.jpg (146, 152, 75, 75)\n",
      "Empty face: https://sun9-47.userapi.com/c830401/v830401924/120b92/qrER03ZJVGE.jpg (78, 152, 75, 75)\n",
      "\n",
      "\n",
      "Procesing 6754845\n"
     ]
    },
    {
     "data": {
      "application/vnd.jupyter.widget-view+json": {
       "model_id": "ab74a30c355c4be886d4efe590a920ad",
       "version_major": 2,
       "version_minor": 0
      },
      "text/plain": [
       "HBox(children=(FloatProgress(value=0.0, max=5.0), HTML(value='')))"
      ]
     },
     "metadata": {},
     "output_type": "display_data"
    },
    {
     "name": "stdout",
     "output_type": "stream",
     "text": [
      "Procesing 17241092\n"
     ]
    },
    {
     "data": {
      "application/vnd.jupyter.widget-view+json": {
       "model_id": "aad2492fa5dc46c086bda1e86e701743",
       "version_major": 2,
       "version_minor": 0
      },
      "text/plain": [
       "HBox(children=(FloatProgress(value=0.0, max=141.0), HTML(value='')))"
      ]
     },
     "metadata": {},
     "output_type": "display_data"
    },
    {
     "name": "stdout",
     "output_type": "stream",
     "text": [
      "Procesing 377327366\n"
     ]
    },
    {
     "data": {
      "application/vnd.jupyter.widget-view+json": {
       "model_id": "7a04d796bb6e44f6bb7bfd5a01f1ef1d",
       "version_major": 2,
       "version_minor": 0
      },
      "text/plain": [
       "HBox(children=(FloatProgress(value=0.0, max=2.0), HTML(value='')))"
      ]
     },
     "metadata": {},
     "output_type": "display_data"
    },
    {
     "name": "stdout",
     "output_type": "stream",
     "text": [
      "Procesing 142840437\n"
     ]
    },
    {
     "data": {
      "application/vnd.jupyter.widget-view+json": {
       "model_id": "79bd6158c3364cb080a66e5ee680e24c",
       "version_major": 2,
       "version_minor": 0
      },
      "text/plain": [
       "HBox(children=(FloatProgress(value=0.0, max=161.0), HTML(value='')))"
      ]
     },
     "metadata": {},
     "output_type": "display_data"
    },
    {
     "name": "stdout",
     "output_type": "stream",
     "text": [
      "Procesing 131511280\n"
     ]
    },
    {
     "data": {
      "application/vnd.jupyter.widget-view+json": {
       "model_id": "987692f2720f4388adfe3d425488ac2c",
       "version_major": 2,
       "version_minor": 0
      },
      "text/plain": [
       "HBox(children=(FloatProgress(value=0.0, max=500.0), HTML(value='')))"
      ]
     },
     "metadata": {},
     "output_type": "display_data"
    },
    {
     "name": "stdout",
     "output_type": "stream",
     "text": [
      "Procesing 109039577\n"
     ]
    },
    {
     "data": {
      "application/vnd.jupyter.widget-view+json": {
       "model_id": "642476b5a0a84bcb8efdb91b2a07df6c",
       "version_major": 2,
       "version_minor": 0
      },
      "text/plain": [
       "HBox(children=(FloatProgress(value=0.0, max=3.0), HTML(value='')))"
      ]
     },
     "metadata": {},
     "output_type": "display_data"
    },
    {
     "name": "stdout",
     "output_type": "stream",
     "text": [
      "\n",
      "\n",
      "\n",
      "109039577:\n",
      "Added 0 rows\n",
      "Active threads: 50\n",
      "Added 0 threads\n",
      "Active threads: 50\n",
      "Procesing 194265927\n"
     ]
    },
    {
     "data": {
      "application/vnd.jupyter.widget-view+json": {
       "model_id": "9652e175d75b4e38905d7babbd5e6376",
       "version_major": 2,
       "version_minor": 0
      },
      "text/plain": [
       "HBox(children=(FloatProgress(value=0.0, max=94.0), HTML(value='')))"
      ]
     },
     "metadata": {},
     "output_type": "display_data"
    },
    {
     "name": "stdout",
     "output_type": "stream",
     "text": [
      "Empty face: https://sun3-13.userapi.com/dWso7fotiZ2shrnNlx0dmGs9zCQ3wI_eVwTBHw/e_LkBQ3XQZY.jpg (2375, 1655, 774, 807)\n",
      "Empty face: https://sun3-13.userapi.com/dWso7fotiZ2shrnNlx0dmGs9zCQ3wI_eVwTBHw/e_LkBQ3XQZY.jpg (1688, 1658, 774, 807)\n",
      "\n",
      "500962980:\n",
      "Added 2 rows\n",
      "Procesing 437125251\n"
     ]
    },
    {
     "data": {
      "application/vnd.jupyter.widget-view+json": {
       "model_id": "33194875101c4f04a41a606c21914465",
       "version_major": 2,
       "version_minor": 0
      },
      "text/plain": [
       "HBox(children=(FloatProgress(value=0.0, max=4.0), HTML(value='')))"
      ]
     },
     "metadata": {},
     "output_type": "display_data"
    },
    {
     "name": "stdout",
     "output_type": "stream",
     "text": [
      "Procesing 275330400\n"
     ]
    },
    {
     "data": {
      "application/vnd.jupyter.widget-view+json": {
       "model_id": "4ff06697dee14b8d9355fc71d02460bf",
       "version_major": 2,
       "version_minor": 0
      },
      "text/plain": [
       "HBox(children=(FloatProgress(value=0.0, max=56.0), HTML(value='')))"
      ]
     },
     "metadata": {},
     "output_type": "display_data"
    },
    {
     "name": "stdout",
     "output_type": "stream",
     "text": [
      "\n",
      "Procesing 202288374\n"
     ]
    },
    {
     "data": {
      "application/vnd.jupyter.widget-view+json": {
       "model_id": "11145e786c484ed590c7382af262acf4",
       "version_major": 2,
       "version_minor": 0
      },
      "text/plain": [
       "HBox(children=(FloatProgress(value=0.0, max=12.0), HTML(value='')))"
      ]
     },
     "metadata": {},
     "output_type": "display_data"
    },
    {
     "name": "stdout",
     "output_type": "stream",
     "text": [
      "Procesing 353848652\n"
     ]
    },
    {
     "data": {
      "application/vnd.jupyter.widget-view+json": {
       "model_id": "7bbb11abc6394fddbab0d098da6b3b39",
       "version_major": 2,
       "version_minor": 0
      },
      "text/plain": [
       "HBox(children=(FloatProgress(value=0.0, max=74.0), HTML(value='')))"
      ]
     },
     "metadata": {},
     "output_type": "display_data"
    },
    {
     "name": "stdout",
     "output_type": "stream",
     "text": [
      "Empty face: https://sun9-67.userapi.com/K6XHaEXlf__0p4FN3MVt7qvrvVYwa3v1MJhjFA/epAkFhjcgw4.jpg (149, 151, 75, 75)\n",
      "Procesing 2202072\n"
     ]
    },
    {
     "data": {
      "application/vnd.jupyter.widget-view+json": {
       "model_id": "5c469310964941baa73b449dd5a3c7e2",
       "version_major": 2,
       "version_minor": 0
      },
      "text/plain": [
       "HBox(children=(FloatProgress(value=0.0, max=47.0), HTML(value='')))"
      ]
     },
     "metadata": {},
     "output_type": "display_data"
    },
    {
     "name": "stdout",
     "output_type": "stream",
     "text": [
      "231754426:\n",
      "Procesing 77441610\n"
     ]
    },
    {
     "data": {
      "application/vnd.jupyter.widget-view+json": {
       "model_id": "35a56e4092034f31bf38f93513e6abb9",
       "version_major": 2,
       "version_minor": 0
      },
      "text/plain": [
       "HBox(children=(FloatProgress(value=0.0, max=6.0), HTML(value='')))"
      ]
     },
     "metadata": {},
     "output_type": "display_data"
    },
    {
     "name": "stdout",
     "output_type": "stream",
     "text": [
      "Procesing 177787443\n"
     ]
    },
    {
     "data": {
      "application/vnd.jupyter.widget-view+json": {
       "model_id": "b1ada9fcfa4c44d098f48cdda1dfb7cc",
       "version_major": 2,
       "version_minor": 0
      },
      "text/plain": [
       "HBox(children=(FloatProgress(value=0.0, max=8.0), HTML(value='')))"
      ]
     },
     "metadata": {},
     "output_type": "display_data"
    },
    {
     "name": "stdout",
     "output_type": "stream",
     "text": [
      "\n",
      "Added 11 rows\n",
      "\n",
      "Procesing 100747166\n"
     ]
    },
    {
     "data": {
      "application/vnd.jupyter.widget-view+json": {
       "model_id": "67ef3c95f69942b486af96e27461638f",
       "version_major": 2,
       "version_minor": 0
      },
      "text/plain": [
       "HBox(children=(FloatProgress(value=0.0, max=191.0), HTML(value='')))"
      ]
     },
     "metadata": {},
     "output_type": "display_data"
    },
    {
     "name": "stdout",
     "output_type": "stream",
     "text": [
      "Procesing 3540368\n"
     ]
    },
    {
     "data": {
      "application/vnd.jupyter.widget-view+json": {
       "model_id": "ceb37a64e5cb4540a020b7e24cbbb1fd",
       "version_major": 2,
       "version_minor": 0
      },
      "text/plain": [
       "HBox(children=(FloatProgress(value=0.0, max=4.0), HTML(value='')))"
      ]
     },
     "metadata": {},
     "output_type": "display_data"
    },
    {
     "name": "stdout",
     "output_type": "stream",
     "text": [
      "Procesing 159472241\n"
     ]
    },
    {
     "data": {
      "application/vnd.jupyter.widget-view+json": {
       "model_id": "c2bc48537f1b4b65b4a55fc4f0cfd12e",
       "version_major": 2,
       "version_minor": 0
      },
      "text/plain": [
       "HBox(children=(FloatProgress(value=0.0, max=173.0), HTML(value='')))"
      ]
     },
     "metadata": {},
     "output_type": "display_data"
    },
    {
     "name": "stdout",
     "output_type": "stream",
     "text": [
      "Procesing 357593028\n"
     ]
    },
    {
     "data": {
      "application/vnd.jupyter.widget-view+json": {
       "model_id": "6fbbe04289c54050aaab1de292db563d",
       "version_major": 2,
       "version_minor": 0
      },
      "text/plain": [
       "HBox(children=(FloatProgress(value=0.0, max=3.0), HTML(value='')))"
      ]
     },
     "metadata": {},
     "output_type": "display_data"
    },
    {
     "name": "stdout",
     "output_type": "stream",
     "text": [
      "Procesing 223636486\n"
     ]
    },
    {
     "data": {
      "application/vnd.jupyter.widget-view+json": {
       "model_id": "0484ecf538e945c386cffa0c9b630049",
       "version_major": 2,
       "version_minor": 0
      },
      "text/plain": [
       "HBox(children=(FloatProgress(value=0.0, max=500.0), HTML(value='')))"
      ]
     },
     "metadata": {},
     "output_type": "display_data"
    },
    {
     "name": "stdout",
     "output_type": "stream",
     "text": [
      "Empty face: https://sun9-15.userapi.com/c841434/v841434454/6f094/t4r6CR40RjE.jpg (151, 150, 75, 75)\n",
      "Empty face: https://sun9-15.userapi.com/c841434/v841434454/6f094/t4r6CR40RjE.jpg (151, 83, 75, 75)\n",
      "Empty face: https://sun9-15.userapi.com/c841434/v841434454/6f094/t4r6CR40RjE.jpg (210, 148, 75, 75)\n",
      "Empty face: https://sun9-15.userapi.com/c841434/v841434454/6f094/t4r6CR40RjE.jpg (154, 219, 75, 75)\n",
      "\n",
      "3540368:\n",
      "Added 0 rows\n",
      "Procesing 270097792\n"
     ]
    },
    {
     "data": {
      "application/vnd.jupyter.widget-view+json": {
       "model_id": "07d12bfe27f94d6f83247762ce7e9a7f",
       "version_major": 2,
       "version_minor": 0
      },
      "text/plain": [
       "HBox(children=(FloatProgress(value=0.0, max=25.0), HTML(value='')))"
      ]
     },
     "metadata": {},
     "output_type": "display_data"
    },
    {
     "name": "stdout",
     "output_type": "stream",
     "text": [
      "\n",
      "357593028:\n",
      "Added 0 rows\n",
      "Empty face: https://sun9-57.userapi.com/c638521/v638521610/27874/WdpBvdnI_yA.jpg (142, 155, 62, 75)\n",
      "Empty face: https://sun9-57.userapi.com/c638521/v638521610/27874/WdpBvdnI_yA.jpg (143, 219, 62, 75)\n",
      "\n",
      "Procesing 38134320\n"
     ]
    },
    {
     "data": {
      "application/vnd.jupyter.widget-view+json": {
       "model_id": "f7feea17cc1b488481f9475b2579cad5",
       "version_major": 2,
       "version_minor": 0
      },
      "text/plain": [
       "HBox(children=(FloatProgress(value=0.0, max=65.0), HTML(value='')))"
      ]
     },
     "metadata": {},
     "output_type": "display_data"
    },
    {
     "name": "stdout",
     "output_type": "stream",
     "text": [
      "Empty face: https://sun9-22.userapi.com/ynMEhwcEYsRGl2INaHBnrv1P2e1TYOmCd-fMOQ/2n2mDdMEW94.jpg (217, 145, 75, 75)\n",
      "\n",
      "202288374:\n",
      "Added 0 rows\n",
      "Procesing 496673675\n"
     ]
    },
    {
     "data": {
      "application/vnd.jupyter.widget-view+json": {
       "model_id": "0e691d2c851f47078fae7f6d064bb5ad",
       "version_major": 2,
       "version_minor": 0
      },
      "text/plain": [
       "HBox(children=(FloatProgress(value=0.0, max=17.0), HTML(value='')))"
      ]
     },
     "metadata": {},
     "output_type": "display_data"
    },
    {
     "name": "stdout",
     "output_type": "stream",
     "text": [
      "\n",
      "\n",
      "Procesing 184833287\n"
     ]
    },
    {
     "data": {
      "application/vnd.jupyter.widget-view+json": {
       "model_id": "105ff0ab7b674dbf929943cc295a5cd0",
       "version_major": 2,
       "version_minor": 0
      },
      "text/plain": [
       "HBox(children=(FloatProgress(value=0.0, max=20.0), HTML(value='')))"
      ]
     },
     "metadata": {},
     "output_type": "display_data"
    },
    {
     "name": "stdout",
     "output_type": "stream",
     "text": [
      "Procesing 226333756\n"
     ]
    },
    {
     "data": {
      "application/vnd.jupyter.widget-view+json": {
       "model_id": "390955d371784013b27bff29c1c07224",
       "version_major": 2,
       "version_minor": 0
      },
      "text/plain": [
       "HBox(children=(FloatProgress(value=0.0, max=13.0), HTML(value='')))"
      ]
     },
     "metadata": {},
     "output_type": "display_data"
    },
    {
     "name": "stdout",
     "output_type": "stream",
     "text": [
      "Procesing 226333756\n"
     ]
    },
    {
     "data": {
      "application/vnd.jupyter.widget-view+json": {
       "model_id": "04f48a6700e0439ab2200379289a0726",
       "version_major": 2,
       "version_minor": 0
      },
      "text/plain": [
       "HBox(children=(FloatProgress(value=0.0, max=13.0), HTML(value='')))"
      ]
     },
     "metadata": {},
     "output_type": "display_data"
    },
    {
     "name": "stdout",
     "output_type": "stream",
     "text": [
      "Procesing 166664552\n"
     ]
    },
    {
     "data": {
      "application/vnd.jupyter.widget-view+json": {
       "model_id": "1c8688e919e24894b7dcfc9d897bf45f",
       "version_major": 2,
       "version_minor": 0
      },
      "text/plain": [
       "HBox(children=(FloatProgress(value=0.0, max=20.0), HTML(value='')))"
      ]
     },
     "metadata": {},
     "output_type": "display_data"
    },
    {
     "name": "stdout",
     "output_type": "stream",
     "text": [
      "Active threads: 50\n",
      "Added 0 threads\n",
      "Active threads: 50\n",
      "Empty face: https://sun9-40.userapi.com/c624123/v624123552/1a110/ksksKrplnVk.jpg (151, 148, 75, 75)\n",
      "Procesing 82185380\n"
     ]
    },
    {
     "data": {
      "application/vnd.jupyter.widget-view+json": {
       "model_id": "c2c8ec7662854f1dbcb0af08f39c0ae2",
       "version_major": 2,
       "version_minor": 0
      },
      "text/plain": [
       "HBox(children=(FloatProgress(value=0.0, max=2.0), HTML(value='')))"
      ]
     },
     "metadata": {},
     "output_type": "display_data"
    },
    {
     "name": "stdout",
     "output_type": "stream",
     "text": [
      "Procesing 376214406\n"
     ]
    },
    {
     "data": {
      "application/vnd.jupyter.widget-view+json": {
       "model_id": "b88a23df9ca849ac93cb730fd298b51b",
       "version_major": 2,
       "version_minor": 0
      },
      "text/plain": [
       "HBox(children=(FloatProgress(value=0.0, max=2.0), HTML(value='')))"
      ]
     },
     "metadata": {},
     "output_type": "display_data"
    },
    {
     "name": "stdout",
     "output_type": "stream",
     "text": [
      "155305675:\n",
      "Added 1 rows\n",
      "\n",
      "82185380:\n",
      "Added 0 rows\n",
      "Procesing 73197194\n"
     ]
    },
    {
     "data": {
      "application/vnd.jupyter.widget-view+json": {
       "model_id": "7f36be8a75b847a29a91856bf94b336f",
       "version_major": 2,
       "version_minor": 0
      },
      "text/plain": [
       "HBox(children=(FloatProgress(value=0.0, max=220.0), HTML(value='')))"
      ]
     },
     "metadata": {},
     "output_type": "display_data"
    },
    {
     "name": "stdout",
     "output_type": "stream",
     "text": [
      "Procesing 464455\n",
      "109531743:\n",
      "\n"
     ]
    },
    {
     "data": {
      "application/vnd.jupyter.widget-view+json": {
       "model_id": "a569bb8f3805489b81cc3fd12b417647",
       "version_major": 2,
       "version_minor": 0
      },
      "text/plain": [
       "HBox(children=(FloatProgress(value=0.0, max=1.0), HTML(value='')))"
      ]
     },
     "metadata": {},
     "output_type": "display_data"
    },
    {
     "name": "stdout",
     "output_type": "stream",
     "text": [
      "Procesing 273676\n"
     ]
    },
    {
     "data": {
      "application/vnd.jupyter.widget-view+json": {
       "model_id": "f2b6ae9270f44fb99343c8a3edea0801",
       "version_major": 2,
       "version_minor": 0
      },
      "text/plain": [
       "HBox(children=(FloatProgress(value=0.0, max=500.0), HTML(value='')))"
      ]
     },
     "metadata": {},
     "output_type": "display_data"
    },
    {
     "name": "stdout",
     "output_type": "stream",
     "text": [
      "\n",
      "Procesing 214441744\n"
     ]
    },
    {
     "data": {
      "application/vnd.jupyter.widget-view+json": {
       "model_id": "521a1d4d37014dfcbb91a181ea72b567",
       "version_major": 2,
       "version_minor": 0
      },
      "text/plain": [
       "HBox(children=(FloatProgress(value=0.0, max=159.0), HTML(value='')))"
      ]
     },
     "metadata": {},
     "output_type": "display_data"
    },
    {
     "name": "stdout",
     "output_type": "stream",
     "text": [
      "Procesing 329859902\n"
     ]
    },
    {
     "data": {
      "application/vnd.jupyter.widget-view+json": {
       "model_id": "b79a968cd5f640c48823d15b3f51427e",
       "version_major": 2,
       "version_minor": 0
      },
      "text/plain": [
       "HBox(children=(FloatProgress(value=0.0, max=3.0), HTML(value='')))"
      ]
     },
     "metadata": {},
     "output_type": "display_data"
    },
    {
     "name": "stdout",
     "output_type": "stream",
     "text": [
      "Added 23 rows\n",
      "\n",
      "\n",
      "Procesing 273474640\n"
     ]
    },
    {
     "data": {
      "application/vnd.jupyter.widget-view+json": {
       "model_id": "95faddc442e043e6b016fe1d59596d0d",
       "version_major": 2,
       "version_minor": 0
      },
      "text/plain": [
       "HBox(children=(FloatProgress(value=0.0, max=12.0), HTML(value='')))"
      ]
     },
     "metadata": {},
     "output_type": "display_data"
    },
    {
     "name": "stdout",
     "output_type": "stream",
     "text": [
      "Procesing 429093787\n",
      "\n"
     ]
    },
    {
     "data": {
      "application/vnd.jupyter.widget-view+json": {
       "model_id": "533d9c5a0a274cda9150239bfdff2d7c",
       "version_major": 2,
       "version_minor": 0
      },
      "text/plain": [
       "HBox(children=(FloatProgress(value=0.0, max=6.0), HTML(value='')))"
      ]
     },
     "metadata": {},
     "output_type": "display_data"
    },
    {
     "name": "stdout",
     "output_type": "stream",
     "text": [
      "\n",
      "Procesing 151864074\n"
     ]
    },
    {
     "data": {
      "application/vnd.jupyter.widget-view+json": {
       "model_id": "4ebe2d6a833f438a9e4b00147efa8b64",
       "version_major": 2,
       "version_minor": 0
      },
      "text/plain": [
       "HBox(children=(FloatProgress(value=0.0, max=11.0), HTML(value='')))"
      ]
     },
     "metadata": {},
     "output_type": "display_data"
    },
    {
     "name": "stdout",
     "output_type": "stream",
     "text": [
      "Procesing 244076217\n"
     ]
    },
    {
     "data": {
      "application/vnd.jupyter.widget-view+json": {
       "model_id": "b065b3abae3b46e48ad7375055426d32",
       "version_major": 2,
       "version_minor": 0
      },
      "text/plain": [
       "HBox(children=(FloatProgress(value=0.0, max=500.0), HTML(value='')))"
      ]
     },
     "metadata": {},
     "output_type": "display_data"
    },
    {
     "name": "stdout",
     "output_type": "stream",
     "text": [
      "Active threads: 50\n",
      "Added 0 threads\n",
      "Active threads: 50\n",
      "Empty face: https://sun9-56.userapi.com/5_6u-soG-gn4mepyR2Iso6w3JLKURL2K6ZRS3w/K0T3q8P3o9M.jpg (153, 220, 75, 75)\n",
      "Empty face: https://sun9-56.userapi.com/5_6u-soG-gn4mepyR2Iso6w3JLKURL2K6ZRS3w/K0T3q8P3o9M.jpg (153, 160, 75, 75)\n",
      "Empty face: https://sun9-56.userapi.com/5_6u-soG-gn4mepyR2Iso6w3JLKURL2K6ZRS3w/K0T3q8P3o9M.jpg (220, 222, 75, 75)\n",
      "Empty face: https://sun9-56.userapi.com/5_6u-soG-gn4mepyR2Iso6w3JLKURL2K6ZRS3w/K0T3q8P3o9M.jpg (216, 155, 75, 75)\n",
      "\n",
      "Procesing 6001065\n"
     ]
    },
    {
     "data": {
      "application/vnd.jupyter.widget-view+json": {
       "model_id": "ee735aee5e504827a12a1dc40bf5dd3d",
       "version_major": 2,
       "version_minor": 0
      },
      "text/plain": [
       "HBox(children=(FloatProgress(value=0.0, max=500.0), HTML(value='')))"
      ]
     },
     "metadata": {},
     "output_type": "display_data"
    },
    {
     "name": "stdout",
     "output_type": "stream",
     "text": [
      "\n",
      "\n",
      "\n",
      "Empty face: https://sun9-57.userapi.com/c627920/v627920927/37ba7/EFpWccBwpag.jpg (152, 148, 75, 75)\n",
      "\n",
      "Empty face: https://sun9-40.userapi.com/c836636/v836636672/65575/TACUcePKceM.jpg (218, 150, 75, 75)\n",
      "Empty face: https://sun9-40.userapi.com/c836636/v836636672/65575/TACUcePKceM.jpg (154, 151, 75, 75)\n",
      "Empty face: https://sun9-40.userapi.com/c836636/v836636672/65575/TACUcePKceM.jpg (224, 223, 75, 75)\n",
      "Empty face: https://sun9-40.userapi.com/c836636/v836636672/65575/TACUcePKceM.jpg (158, 223, 75, 75)\n",
      "\n",
      "\n",
      "\n",
      "4814936:\n",
      "Active threads: 50\n",
      "Added 0 threads\n",
      "Active threads: 50\n",
      "Added 1 rows\n",
      "Procesing 82708218\n"
     ]
    },
    {
     "data": {
      "application/vnd.jupyter.widget-view+json": {
       "model_id": "d478f54219064bc5b02fe2f023e10d67",
       "version_major": 2,
       "version_minor": 0
      },
      "text/plain": [
       "HBox(children=(FloatProgress(value=0.0, max=8.0), HTML(value='')))"
      ]
     },
     "metadata": {},
     "output_type": "display_data"
    },
    {
     "name": "stdout",
     "output_type": "stream",
     "text": [
      "427967982:\n",
      "Added 3 rows\n",
      "Procesing 358924285\n"
     ]
    },
    {
     "data": {
      "application/vnd.jupyter.widget-view+json": {
       "model_id": "28e1d8cfcd984209961f6759fe70c642",
       "version_major": 2,
       "version_minor": 0
      },
      "text/plain": [
       "HBox(children=(FloatProgress(value=0.0, max=1.0), HTML(value='')))"
      ]
     },
     "metadata": {},
     "output_type": "display_data"
    },
    {
     "name": "stdout",
     "output_type": "stream",
     "text": [
      "\n",
      "\n",
      "358924285:\n",
      "Added 1 rows\n",
      "225362920:\n",
      "Procesing 247587648\n",
      "Added 4 rows\n"
     ]
    },
    {
     "data": {
      "application/vnd.jupyter.widget-view+json": {
       "model_id": "b1f8ad38ac764b8a89d2d763e1d01b83",
       "version_major": 2,
       "version_minor": 0
      },
      "text/plain": [
       "HBox(children=(FloatProgress(value=0.0, max=288.0), HTML(value='')))"
      ]
     },
     "metadata": {},
     "output_type": "display_data"
    },
    {
     "name": "stdout",
     "output_type": "stream",
     "text": [
      "\n",
      "Procesing 245855204\n"
     ]
    },
    {
     "data": {
      "application/vnd.jupyter.widget-view+json": {
       "model_id": "79233b634770409e991f34f50650aee1",
       "version_major": 2,
       "version_minor": 0
      },
      "text/plain": [
       "HBox(children=(FloatProgress(value=0.0, max=7.0), HTML(value='')))"
      ]
     },
     "metadata": {},
     "output_type": "display_data"
    },
    {
     "name": "stdout",
     "output_type": "stream",
     "text": [
      "\n",
      "Active threads:Empty face: 50 https://sun9-20.userapi.com/c622520/v622520166/173f/3Vvnl1aa_OU.jpg (144, 147, 68, 75)\n",
      "\n",
      "Added 0 threads\n",
      "Active threads: 50\n",
      "Empty face: https://sun9-20.userapi.com/c622520/v622520166/173f/3Vvnl1aa_OU.jpg (76, 147, 68, 75)\n",
      "\n",
      "2202072:\n",
      "\n",
      "245855204:\n",
      "Added 3 rows\n",
      "Added 16 rows\n",
      "Procesing 172537250\n"
     ]
    },
    {
     "data": {
      "application/vnd.jupyter.widget-view+json": {
       "model_id": "0e3fb215f1f746ff834ba480b6b416e2",
       "version_major": 2,
       "version_minor": 0
      },
      "text/plain": [
       "HBox(children=(FloatProgress(value=0.0, max=59.0), HTML(value='')))"
      ]
     },
     "metadata": {},
     "output_type": "display_data"
    },
    {
     "name": "stdout",
     "output_type": "stream",
     "text": [
      "Procesing 17570098\n"
     ]
    },
    {
     "data": {
      "application/vnd.jupyter.widget-view+json": {
       "model_id": "7cf8c601e48542b8b2833cc251e873be",
       "version_major": 2,
       "version_minor": 0
      },
      "text/plain": [
       "HBox(children=(FloatProgress(value=0.0, max=59.0), HTML(value='')))"
      ]
     },
     "metadata": {},
     "output_type": "display_data"
    },
    {
     "name": "stdout",
     "output_type": "stream",
     "text": [
      "Empty face: https://sun9-18.userapi.com/c633725/v633725927/19c57/tHgMasiv3cI.jpg (149, 144, 75, 75)\n",
      "Empty face: https://sun9-16.userapi.com/c836636/v836636672/6554f/ZJPYiFe14og.jpg (150, 144, 75, 75)\n",
      "Empty face: https://sun9-16.userapi.com/c836636/v836636672/6554f/ZJPYiFe14og.jpg (154, 79, 75, 75)\n",
      "Empty face: https://sun9-16.userapi.com/c836636/v836636672/6554f/ZJPYiFe14og.jpg (219, 145, 75, 75)\n",
      "Empty face: https://sun9-16.userapi.com/c836636/v836636672/6554f/ZJPYiFe14og.jpg (224, 82, 75, 75)\n",
      "Empty face: https://sun9-40.userapi.com/M3lp0H0Z346XDKCEn8HB3xQOZBo5xyKo-yZLbQ/PKSVzzsIDO0.jpg (156, 145, 75, 55)\n",
      "Active threads: 50\n",
      "Added 0 threads\n",
      "Active threads: 50\n",
      "Empty face: https://sun9-23.userapi.com/PRZsyRqAPqdT_V4s3cWEjLrT-QJhqH66PyiHJg/rJVQMh2oDtc.jpg (1483, 1550, 536, 807)\n",
      "Empty face: https://sun9-23.userapi.com/PRZsyRqAPqdT_V4s3cWEjLrT-QJhqH66PyiHJg/rJVQMh2oDtc.jpg (2119, 1552, 536, 807)\n",
      "Empty face: https://sun9-23.userapi.com/PRZsyRqAPqdT_V4s3cWEjLrT-QJhqH66PyiHJg/rJVQMh2oDtc.jpg (1508, 857, 536, 807)\n",
      "\n",
      "\n",
      "Empty face: https://sun9-21.userapi.com/c841434/v841434454/6f08d/GoaGw4ofx5U.jpg (150, 137, 75, 60)\n",
      "Empty face: https://sun9-21.userapi.com/c841434/v841434454/6f08d/GoaGw4ofx5U.jpg (218, 139, 75, 60)\n",
      "Empty face: https://sun9-21.userapi.com/c841434/v841434454/6f08d/GoaGw4ofx5U.jpg (149, 72, 75, 60)\n",
      "Empty face: https://sun9-21.userapi.com/c841434/v841434454/6f08d/GoaGw4ofx5U.jpg (220, 75, 75, 60)\n",
      "Empty face: https://sun9-21.userapi.com/c841434/v841434454/6f08d/GoaGw4ofx5U.jpg (83, 138, 75, 60)\n",
      "Empty face: https://sun9-21.userapi.com/c841434/v841434454/6f08d/GoaGw4ofx5U.jpg (152, 207, 75, 60)\n",
      "Empty face: https://sun9-21.userapi.com/c841434/v841434454/6f08d/GoaGw4ofx5U.jpg (83, 73, 75, 60)\n",
      "Empty face: https://sun9-11.userapi.com/c4301/u73197194/-7/m_d81b0f5c.jpg (265, 230, 130, 66)\n",
      "Active threads: 50\n",
      "Added 0 threads\n",
      "Active threads: 50\n",
      "\n",
      "Empty face: https://sun9-50.userapi.com/U5SF3yvA8T_gZI4ZCsusXpsb-19AfwdtXjJehA/nBaiCL19W4w.jpg (135, 142, 56, 75)\n",
      "Empty face: https://sun9-50.userapi.com/U5SF3yvA8T_gZI4ZCsusXpsb-19AfwdtXjJehA/nBaiCL19W4w.jpg (197, 143, 56, 75)\n",
      "Empty face: https://sun9-50.userapi.com/U5SF3yvA8T_gZI4ZCsusXpsb-19AfwdtXjJehA/nBaiCL19W4w.jpg (144, 219, 56, 75)\n",
      "Empty face: https://sun9-50.userapi.com/U5SF3yvA8T_gZI4ZCsusXpsb-19AfwdtXjJehA/nBaiCL19W4w.jpg (142, 81, 56, 75)\n",
      "Empty face: https://sun9-50.userapi.com/U5SF3yvA8T_gZI4ZCsusXpsb-19AfwdtXjJehA/nBaiCL19W4w.jpg (72, 143, 56, 75)\n",
      "Empty face: https://sun9-50.userapi.com/U5SF3yvA8T_gZI4ZCsusXpsb-19AfwdtXjJehA/nBaiCL19W4w.jpg (208, 220, 56, 75)\n",
      "Empty face: https://sun9-50.userapi.com/U5SF3yvA8T_gZI4ZCsusXpsb-19AfwdtXjJehA/nBaiCL19W4w.jpg (205, 79, 56, 75)\n",
      "Empty face: https://sun9-22.userapi.com/c627918/v627918486/22ff6/fHeyj4sXRmQ.jpg (136, 140, 70, 70)\n",
      "Empty face: https://sun9-22.userapi.com/c627918/v627918486/22ff6/fHeyj4sXRmQ.jpg (139, 204, 70, 70)\n",
      "Active threads: 50\n",
      "Added 0 threads\n",
      "Active threads: 50\n",
      "353848652:\n",
      "Empty face: https://sun9-13.userapi.com/c830508/v830508092/11e7cf/szLAMJ7IYTQ.jpg (1650, 2395, 693, 807)\n",
      "Empty face: https://sun9-13.userapi.com/c830508/v830508092/11e7cf/szLAMJ7IYTQ.jpg (2295, 2392, 693, 807)\n",
      "Empty face: https://sun9-13.userapi.com/c830508/v830508092/11e7cf/szLAMJ7IYTQ.jpg (1640, 1704, 693, 807)\n",
      "Empty face: https://sun9-13.userapi.com/c830508/v830508092/11e7cf/szLAMJ7IYTQ.jpg (2274, 1691, 693, 807)\n",
      "40739132:\n",
      "Added 6 rows\n",
      "Procesing 672636\n"
     ]
    },
    {
     "data": {
      "application/vnd.jupyter.widget-view+json": {
       "model_id": "8748a17030074fa89d62af665ae9d25e",
       "version_major": 2,
       "version_minor": 0
      },
      "text/plain": [
       "HBox(children=(FloatProgress(value=0.0, max=124.0), HTML(value='')))"
      ]
     },
     "metadata": {},
     "output_type": "display_data"
    },
    {
     "name": "stdout",
     "output_type": "stream",
     "text": [
      "Empty face: https://sun9-27.userapi.com/c623828/v623828676/285c4/NDzVoL985Io.jpg (139, 143, 75, 75)\n",
      "Empty face: https://sun9-27.userapi.com/c623828/v623828676/285c4/NDzVoL985Io.jpg (80, 144, 75, 75)\n",
      "Empty face: https://sun9-27.userapi.com/c623828/v623828676/285c4/NDzVoL985Io.jpg (149, 219, 75, 75)\n",
      "Empty face: https://sun9-27.userapi.com/c623828/v623828676/285c4/NDzVoL985Io.jpg (147, 83, 75, 75)\n",
      "Empty face: https://sun9-27.userapi.com/c623828/v623828676/285c4/NDzVoL985Io.jpg (87, 220, 75, 75)\n",
      "Empty face: https://sun9-27.userapi.com/c623828/v623828676/285c4/NDzVoL985Io.jpg (204, 143, 75, 75)\n",
      "Empty face: https://sun9-27.userapi.com/c623828/v623828676/285c4/NDzVoL985Io.jpg (84, 81, 75, 75)\n",
      "Added 44 rows\n",
      "Procesing 428130236\n"
     ]
    },
    {
     "data": {
      "application/vnd.jupyter.widget-view+json": {
       "model_id": "f42db471764547b2a918c8280ff41286",
       "version_major": 2,
       "version_minor": 0
      },
      "text/plain": [
       "HBox(children=(FloatProgress(value=0.0, max=50.0), HTML(value='')))"
      ]
     },
     "metadata": {},
     "output_type": "display_data"
    },
    {
     "name": "stdout",
     "output_type": "stream",
     "text": [
      "Empty face: https://sun9-38.userapi.com/c627219/v627219676/2a2aa/wU4b7inYpi4.jpg (152, 225, 68, 75)\n",
      "Active threads: 50\n",
      "Added 0 threads\n",
      "Active threads: 50\n",
      "379824435:\n",
      "Added 1 rows\n",
      "Procesing 2148743\n"
     ]
    },
    {
     "data": {
      "application/vnd.jupyter.widget-view+json": {
       "model_id": "37df0ecccf9b43c38ebc9143fa6094e5",
       "version_major": 2,
       "version_minor": 0
      },
      "text/plain": [
       "HBox(children=(FloatProgress(value=0.0, max=84.0), HTML(value='')))"
      ]
     },
     "metadata": {},
     "output_type": "display_data"
    },
    {
     "name": "stdout",
     "output_type": "stream",
     "text": [
      "379824435:\n",
      "Added 1 rows\n",
      "381354531:\n",
      "Procesing 3913266\n"
     ]
    },
    {
     "data": {
      "application/vnd.jupyter.widget-view+json": {
       "model_id": "b554da950cb94e549e6402c00b40afa5",
       "version_major": 2,
       "version_minor": 0
      },
      "text/plain": [
       "HBox(children=(FloatProgress(value=0.0, max=81.0), HTML(value='')))"
      ]
     },
     "metadata": {},
     "output_type": "display_data"
    },
    {
     "name": "stdout",
     "output_type": "stream",
     "text": [
      "Added 7 rows\n",
      "Empty face: https://sun9-14.userapi.com/c637328/v637328846/54698/Xz-mpoTMrJQ.jpg (1548, 1495, 807, 685)\n",
      "Empty face: https://sun9-14.userapi.com/c637328/v637328846/54698/Xz-mpoTMrJQ.jpg (917, 1591, 807, 685)\n",
      "Empty face: https://sun9-14.userapi.com/c637328/v637328846/54698/Xz-mpoTMrJQ.jpg (2375, 1589, 807, 685)\n",
      "Empty face: https://sun9-14.userapi.com/c637328/v637328846/54698/Xz-mpoTMrJQ.jpg (1557, 2169, 807, 685)\n",
      "Empty face: https://sun9-14.userapi.com/c637328/v637328846/54698/Xz-mpoTMrJQ.jpg (1556, 803, 807, 685)\n",
      "Procesing 40310285\n",
      "377327366:\n"
     ]
    },
    {
     "data": {
      "application/vnd.jupyter.widget-view+json": {
       "model_id": "e3596b487f554cc4b18477b72ac637dc",
       "version_major": 2,
       "version_minor": 0
      },
      "text/plain": [
       "HBox(children=(FloatProgress(value=0.0, max=4.0), HTML(value='')))"
      ]
     },
     "metadata": {},
     "output_type": "display_data"
    },
    {
     "name": "stdout",
     "output_type": "stream",
     "text": [
      "Added 1 rows\n",
      "Procesing 374535930\n"
     ]
    },
    {
     "data": {
      "application/vnd.jupyter.widget-view+json": {
       "model_id": "a31621270b1b46ce98b8cd8587b85711",
       "version_major": 2,
       "version_minor": 0
      },
      "text/plain": [
       "HBox(children=(FloatProgress(value=0.0, max=5.0), HTML(value='')))"
      ]
     },
     "metadata": {},
     "output_type": "display_data"
    },
    {
     "name": "stdout",
     "output_type": "stream",
     "text": [
      "6754845:\n",
      "Added 5 rows\n",
      "\n",
      "Procesing 58456293\n"
     ]
    },
    {
     "data": {
      "application/vnd.jupyter.widget-view+json": {
       "model_id": "bdd249e564a542b381d4b82f7bdc948d",
       "version_major": 2,
       "version_minor": 0
      },
      "text/plain": [
       "HBox(children=(FloatProgress(value=0.0, max=231.0), HTML(value='')))"
      ]
     },
     "metadata": {},
     "output_type": "display_data"
    },
    {
     "name": "stdout",
     "output_type": "stream",
     "text": [
      "Empty face: https://sun9-61.userapi.com/c841434/v841434454/6f070/pku28bgZIz8.jpg (147, 152, 70, 75)\n",
      "Empty face: https://sun9-61.userapi.com/c841434/v841434454/6f070/pku28bgZIz8.jpg (149, 220, 70, 75)\n",
      "Empty face: https://sun9-61.userapi.com/c841434/v841434454/6f070/pku28bgZIz8.jpg (213, 151, 70, 75)\n",
      "Empty face: https://sun9-61.userapi.com/c841434/v841434454/6f070/pku28bgZIz8.jpg (218, 223, 70, 75)\n",
      "Empty face: https://sun9-61.userapi.com/c841434/v841434454/6f070/pku28bgZIz8.jpg (79, 151, 70, 75)\n",
      "\n",
      "40310285:\n",
      "Added 2 rows\n",
      "\n",
      "Procesing 132510000\n"
     ]
    },
    {
     "data": {
      "application/vnd.jupyter.widget-view+json": {
       "model_id": "8d297cc1c3f64cfea13a905c66095f90",
       "version_major": 2,
       "version_minor": 0
      },
      "text/plain": [
       "HBox(children=(FloatProgress(value=0.0, max=87.0), HTML(value='')))"
      ]
     },
     "metadata": {},
     "output_type": "display_data"
    },
    {
     "name": "stdout",
     "output_type": "stream",
     "text": [
      "\n",
      "Active threads: 50\n",
      "Added 0 threads\n",
      "Active threads: 50\n",
      "Empty face: https://sun9-18.userapi.com/c4390/u142840437/-14/m_c5820573.jpg (246, 265, 93, 130)\n",
      "Empty face: https://sun9-45.userapi.com/c304706/v304706676/5d18/f8J4C08L1qo.jpg (145, 148, 75, 75)\n",
      "Empty face: https://sun9-72.userapi.com/c845120/v845120409/7bbd/-tiCbnsAqVA.jpg (149, 141, 75, 60)\n",
      "Empty face: https://sun9-72.userapi.com/c845120/v845120409/7bbd/-tiCbnsAqVA.jpg (217, 141, 75, 60)\n",
      "Empty face: https://sun9-72.userapi.com/c845120/v845120409/7bbd/-tiCbnsAqVA.jpg (151, 212, 75, 60)\n",
      "Empty face: https://sun9-72.userapi.com/c845120/v845120409/7bbd/-tiCbnsAqVA.jpg (149, 72, 75, 60)\n",
      "Active threads: 50\n",
      "Added 0 threads\n",
      "Active threads: 50\n",
      "437125251:\n",
      "374535930:\n",
      "Added 4 rows\n",
      "Added 5 rows\n",
      "Procesing 404856091\n"
     ]
    },
    {
     "data": {
      "application/vnd.jupyter.widget-view+json": {
       "model_id": "a6a0c1e55eab4b76bf72b0aaba2b1079",
       "version_major": 2,
       "version_minor": 0
      },
      "text/plain": [
       "HBox(children=(FloatProgress(value=0.0, max=63.0), HTML(value='')))"
      ]
     },
     "metadata": {},
     "output_type": "display_data"
    },
    {
     "name": "stdout",
     "output_type": "stream",
     "text": [
      "Procesing 210601989\n"
     ]
    },
    {
     "data": {
      "application/vnd.jupyter.widget-view+json": {
       "model_id": "bf034682dfad4c48ae1a564cd167a94e",
       "version_major": 2,
       "version_minor": 0
      },
      "text/plain": [
       "HBox(children=(FloatProgress(value=0.0, max=17.0), HTML(value='')))"
      ]
     },
     "metadata": {},
     "output_type": "display_data"
    },
    {
     "name": "stdout",
     "output_type": "stream",
     "text": [
      "177787443:\n",
      "Added 1 rows\n",
      "Procesing 9787526\n"
     ]
    },
    {
     "data": {
      "application/vnd.jupyter.widget-view+json": {
       "model_id": "8868568dd0764810bcb14424138718ac",
       "version_major": 2,
       "version_minor": 0
      },
      "text/plain": [
       "HBox(children=(FloatProgress(value=0.0, max=114.0), HTML(value='')))"
      ]
     },
     "metadata": {},
     "output_type": "display_data"
    },
    {
     "name": "stdout",
     "output_type": "stream",
     "text": [
      "\n",
      "376214406:\n",
      "Added 1 rows\n",
      "Procesing 339854686\n"
     ]
    },
    {
     "data": {
      "application/vnd.jupyter.widget-view+json": {
       "model_id": "0ccf8e3e54874a4ea915129a809cbad6",
       "version_major": 2,
       "version_minor": 0
      },
      "text/plain": [
       "HBox(children=(FloatProgress(value=0.0, max=15.0), HTML(value='')))"
      ]
     },
     "metadata": {},
     "output_type": "display_data"
    },
    {
     "name": "stdout",
     "output_type": "stream",
     "text": [
      "251253599:\n",
      "Empty face: https://sun9-19.userapi.com/c604528/v604528293/3e8ab/vGUm278zufE.jpg (150, 149, 75, 75)\n",
      "Empty face: https://sun9-19.userapi.com/c604528/v604528293/3e8ab/vGUm278zufE.jpg (216, 149, 75, 75)\n",
      "Empty face: https://sun9-19.userapi.com/c604528/v604528293/3e8ab/vGUm278zufE.jpg (152, 219, 75, 75)\n",
      "Empty face: https://sun9-19.userapi.com/c604528/v604528293/3e8ab/vGUm278zufE.jpg (221, 222, 75, 75)\n",
      "Empty face: https://sun9-19.userapi.com/c604528/v604528293/3e8ab/vGUm278zufE.jpg (152, 81, 75, 75)\n",
      "Empty face: https://sun9-19.userapi.com/c604528/v604528293/3e8ab/vGUm278zufE.jpg (81, 149, 75, 75)\n",
      "77441610:\n",
      "Empty face: https://sun9-11.userapi.com/c9220/u73197194/-14/m_5023348f.jpg (207, 209, 100, 106)\n",
      "Empty face: https://sun9-11.userapi.com/c9220/u73197194/-14/m_5023348f.jpg (304, 207, 100, 106)\n",
      "Empty face: https://sun9-11.userapi.com/c9220/u73197194/-14/m_5023348f.jpg (208, 309, 100, 106)\n",
      "Added 5 rows\n",
      "Added 7 rows\n",
      "Procesing 33511970\n"
     ]
    },
    {
     "data": {
      "application/vnd.jupyter.widget-view+json": {
       "model_id": "65247b634adc4b459a754d3f25f834b6",
       "version_major": 2,
       "version_minor": 0
      },
      "text/plain": [
       "HBox(children=(FloatProgress(value=0.0, max=9.0), HTML(value='')))"
      ]
     },
     "metadata": {},
     "output_type": "display_data"
    },
    {
     "name": "stdout",
     "output_type": "stream",
     "text": [
      "Empty face: https://sun9-5.userapi.com/c624418/v624418293/27817/PHKjAVJLZkE.jpg (146, 150, 67, 75)\n",
      "Empty face: https://sun9-5.userapi.com/c624418/v624418293/27817/PHKjAVJLZkE.jpg (211, 149, 67, 75)\n",
      "Empty face: https://sun9-5.userapi.com/c624418/v624418293/27817/PHKjAVJLZkE.jpg (150, 220, 67, 75)\n",
      "Empty face: https://sun9-5.userapi.com/c624418/v624418293/27817/PHKjAVJLZkE.jpg (77, 149, 67, 75)\n",
      "Empty face: https://sun9-5.userapi.com/c624418/v624418293/27817/PHKjAVJLZkE.jpg (217, 221, 67, 75)\n",
      "Procesing 543736\n"
     ]
    },
    {
     "data": {
      "application/vnd.jupyter.widget-view+json": {
       "model_id": "c8d14dccaac04399b23f337171e8d667",
       "version_major": 2,
       "version_minor": 0
      },
      "text/plain": [
       "HBox(children=(FloatProgress(value=0.0, max=331.0), HTML(value='')))"
      ]
     },
     "metadata": {},
     "output_type": "display_data"
    },
    {
     "name": "stdout",
     "output_type": "stream",
     "text": [
      "464455:\n",
      "Added 1 rows\n",
      "Active threads: 50\n",
      "Added 0 threads\n",
      "Active threads: 50\n",
      "Procesing 1428225\n"
     ]
    },
    {
     "data": {
      "application/vnd.jupyter.widget-view+json": {
       "model_id": "5b423070b74f4fcca85332a5f8fa8240",
       "version_major": 2,
       "version_minor": 0
      },
      "text/plain": [
       "HBox(children=(FloatProgress(value=0.0, max=132.0), HTML(value='')))"
      ]
     },
     "metadata": {},
     "output_type": "display_data"
    },
    {
     "name": "stdout",
     "output_type": "stream",
     "text": [
      "329859902:\n",
      "Added 2 rows\n",
      "Procesing 175078752\n"
     ]
    },
    {
     "data": {
      "application/vnd.jupyter.widget-view+json": {
       "model_id": "dbd0687bf6a74f13959a45293d900202",
       "version_major": 2,
       "version_minor": 0
      },
      "text/plain": [
       "HBox(children=(FloatProgress(value=0.0, max=331.0), HTML(value='')))"
      ]
     },
     "metadata": {},
     "output_type": "display_data"
    },
    {
     "name": "stdout",
     "output_type": "stream",
     "text": [
      "\n",
      "\n",
      "\n",
      "38320262:\n",
      "172537250:\n",
      "\n",
      "138200480:\n",
      "Added 28 rows\n",
      "Procesing 77937022\n"
     ]
    },
    {
     "data": {
      "application/vnd.jupyter.widget-view+json": {
       "model_id": "eb1a546f427947749ce64c193e5ef973",
       "version_major": 2,
       "version_minor": 0
      },
      "text/plain": [
       "HBox(children=(FloatProgress(value=0.0, max=56.0), HTML(value='')))"
      ]
     },
     "metadata": {},
     "output_type": "display_data"
    },
    {
     "name": "stdout",
     "output_type": "stream",
     "text": [
      "Added 29 rows\n",
      "\n",
      "Procesing 422484670\n"
     ]
    },
    {
     "data": {
      "application/vnd.jupyter.widget-view+json": {
       "model_id": "0bb126db4cf348169aadb18c77dd70ac",
       "version_major": 2,
       "version_minor": 0
      },
      "text/plain": [
       "HBox(children=(FloatProgress(value=0.0, max=11.0), HTML(value='')))"
      ]
     },
     "metadata": {},
     "output_type": "display_data"
    },
    {
     "name": "stdout",
     "output_type": "stream",
     "text": [
      "Active threads: 50\n",
      "Added 0 threads\n",
      "Active threads: 50\n",
      "Added 28 rows\n",
      "Procesing 10406150\n"
     ]
    },
    {
     "data": {
      "application/vnd.jupyter.widget-view+json": {
       "model_id": "71a7cc99e1734977b6b2321706405af4",
       "version_major": 2,
       "version_minor": 0
      },
      "text/plain": [
       "HBox(children=(FloatProgress(value=0.0, max=1.0), HTML(value='')))"
      ]
     },
     "metadata": {},
     "output_type": "display_data"
    },
    {
     "name": "stdout",
     "output_type": "stream",
     "text": [
      "Empty face: https://sun9-2.userapi.com/c10337/u63522726/106279624/m_c7b11a77.jpg (263, 263, 130, 119)\n",
      "\n",
      "10406150:\n",
      "Added 0 rows\n",
      "Procesing 31504498\n"
     ]
    },
    {
     "data": {
      "application/vnd.jupyter.widget-view+json": {
       "model_id": "b501d170b2dd4851b5ac950610ccf340",
       "version_major": 2,
       "version_minor": 0
      },
      "text/plain": [
       "HBox(children=(FloatProgress(value=0.0, max=5.0), HTML(value='')))"
      ]
     },
     "metadata": {},
     "output_type": "display_data"
    },
    {
     "name": "stdout",
     "output_type": "stream",
     "text": [
      "226333756:\n",
      "Added 5 rows\n",
      "Procesing 313017052\n"
     ]
    },
    {
     "data": {
      "application/vnd.jupyter.widget-view+json": {
       "model_id": "8a7822ff07d949dd98f901cf952bd636",
       "version_major": 2,
       "version_minor": 0
      },
      "text/plain": [
       "HBox(children=(FloatProgress(value=0.0, max=1.0), HTML(value='')))"
      ]
     },
     "metadata": {},
     "output_type": "display_data"
    },
    {
     "name": "stdout",
     "output_type": "stream",
     "text": [
      "\n",
      "Empty face: https://sun9-63.userapi.com/c5616/u77937022/137125344/y_896025fa.jpg (1634, 1528, 807, 605)\n",
      "138200480:\n",
      "Empty face: https://sun9-63.userapi.com/c5616/u77937022/137125344/y_896025fa.jpg (2364, 1531, 807, 605)\n",
      "Empty face: https://sun9-63.userapi.com/c5616/u77937022/137125344/y_896025fa.jpg (1629, 2230, 807, 605)\n",
      "496673675:\n",
      "Added 6 rows\n",
      "\n",
      "313017052:\n",
      "Added 1 rows\n",
      "Empty face: https://sun9-39.userapi.com/c855728/v855728004/14dd75/1M6MJD54HWs.jpg (1503, 1586, 605, 807)\n",
      "Empty face: https://sun9-39.userapi.com/c855728/v855728004/14dd75/1M6MJD54HWs.jpg (1508, 857, 605, 807)\n",
      "Procesing 4599545\n"
     ]
    },
    {
     "data": {
      "application/vnd.jupyter.widget-view+json": {
       "model_id": "434cebb7396f4182a430edb625f454cc",
       "version_major": 2,
       "version_minor": 0
      },
      "text/plain": [
       "HBox(children=(FloatProgress(value=0.0, max=404.0), HTML(value='')))"
      ]
     },
     "metadata": {},
     "output_type": "display_data"
    },
    {
     "name": "stdout",
     "output_type": "stream",
     "text": [
      "Procesing 53653412\n"
     ]
    },
    {
     "data": {
      "application/vnd.jupyter.widget-view+json": {
       "model_id": "102347b1345e4e429e1c8e86eda2b35d",
       "version_major": 2,
       "version_minor": 0
      },
      "text/plain": [
       "HBox(children=(FloatProgress(value=0.0, max=177.0), HTML(value='')))"
      ]
     },
     "metadata": {},
     "output_type": "display_data"
    },
    {
     "name": "stdout",
     "output_type": "stream",
     "text": [
      "\n",
      "\n",
      "273474640:\n",
      "Added 5 rows\n",
      "Added 30 rows\n",
      "Procesing 9258676\n"
     ]
    },
    {
     "data": {
      "application/vnd.jupyter.widget-view+json": {
       "model_id": "bd6266266adb4383a42cc6b2e1871003",
       "version_major": 2,
       "version_minor": 0
      },
      "text/plain": [
       "HBox(children=(FloatProgress(value=0.0, max=5.0), HTML(value='')))"
      ]
     },
     "metadata": {},
     "output_type": "display_data"
    },
    {
     "name": "stdout",
     "output_type": "stream",
     "text": [
      "Procesing 29217727\n"
     ]
    },
    {
     "data": {
      "application/vnd.jupyter.widget-view+json": {
       "model_id": "3c35db6ce52146409fdb6736b46f8787",
       "version_major": 2,
       "version_minor": 0
      },
      "text/plain": [
       "HBox(children=(FloatProgress(value=0.0, max=19.0), HTML(value='')))"
      ]
     },
     "metadata": {},
     "output_type": "display_data"
    },
    {
     "name": "stdout",
     "output_type": "stream",
     "text": [
      "210601989:\n",
      "Active threads: 50\n",
      "Added 0 threads\n",
      "Active threads: 50\n",
      "Added 12 rows\n",
      "Procesing 10665489\n"
     ]
    },
    {
     "data": {
      "application/vnd.jupyter.widget-view+json": {
       "model_id": "5a56a21e4de44ecdbc3de8c42c49d351",
       "version_major": 2,
       "version_minor": 0
      },
      "text/plain": [
       "HBox(children=(FloatProgress(value=0.0, max=14.0), HTML(value='')))"
      ]
     },
     "metadata": {},
     "output_type": "display_data"
    },
    {
     "name": "stdout",
     "output_type": "stream",
     "text": [
      "\n",
      "428130236:\n",
      "Empty face: https://sun9-4.userapi.com/c623724/v623724486/17ba5/MrlHCWfTrrQ.jpg (150, 150, 75, 75)\n",
      "Empty face: https://sun9-63.userapi.com/c5616/u77937022/-6/z_a96d056d.jpg (2595, 2429, 1280, 960)\n",
      "Empty face: https://sun9-63.userapi.com/c5616/u77937022/-6/z_a96d056d.jpg (3769, 2455, 1280, 960)\n",
      "Empty face: https://sun9-63.userapi.com/c5616/u77937022/-6/z_a96d056d.jpg (2584, 3527, 1280, 960)\n",
      "270097792:\n",
      "Added 15 rows\n",
      "Procesing 267753884\n"
     ]
    },
    {
     "data": {
      "application/vnd.jupyter.widget-view+json": {
       "model_id": "9382222685084ee7bcf7b6099d611497",
       "version_major": 2,
       "version_minor": 0
      },
      "text/plain": [
       "HBox(children=(FloatProgress(value=0.0, max=87.0), HTML(value='')))"
      ]
     },
     "metadata": {},
     "output_type": "display_data"
    },
    {
     "name": "stdout",
     "output_type": "stream",
     "text": [
      "Added 7 rows\n",
      "Procesing 181295370\n"
     ]
    },
    {
     "data": {
      "application/vnd.jupyter.widget-view+json": {
       "model_id": "ccb1c5d926024b4b8403e749b19a01af",
       "version_major": 2,
       "version_minor": 0
      },
      "text/plain": [
       "HBox(children=(FloatProgress(value=0.0, max=11.0), HTML(value='')))"
      ]
     },
     "metadata": {},
     "output_type": "display_data"
    },
    {
     "name": "stdout",
     "output_type": "stream",
     "text": [
      "339854686:\n",
      "Added 11 rows\n",
      "\n",
      "Procesing 364227143\n"
     ]
    },
    {
     "data": {
      "application/vnd.jupyter.widget-view+json": {
       "model_id": "a8384d49c60145fd8d61a19834d2500a",
       "version_major": 2,
       "version_minor": 0
      },
      "text/plain": [
       "HBox(children=(FloatProgress(value=0.0, max=1.0), HTML(value='')))"
      ]
     },
     "metadata": {},
     "output_type": "display_data"
    },
    {
     "name": "stdout",
     "output_type": "stream",
     "text": [
      "\n",
      "364227143:\n",
      "Added 0 rows\n",
      "Procesing 34086730\n"
     ]
    },
    {
     "data": {
      "application/vnd.jupyter.widget-view+json": {
       "model_id": "54ee5e04002c42a1b5f08d01031c23cf",
       "version_major": 2,
       "version_minor": 0
      },
      "text/plain": [
       "HBox(children=(FloatProgress(value=0.0, max=428.0), HTML(value='')))"
      ]
     },
     "metadata": {},
     "output_type": "display_data"
    },
    {
     "name": "stdout",
     "output_type": "stream",
     "text": [
      "Active threads: 50\n",
      "Added 0 threads\n",
      "Active threads: 50\n",
      "\n",
      "\n",
      "9258676:\n",
      "Added 3 rows\n",
      "Procesing 82676387\n"
     ]
    },
    {
     "data": {
      "application/vnd.jupyter.widget-view+json": {
       "model_id": "ee069b95ae0d41dca0b50eac4b8c8a1f",
       "version_major": 2,
       "version_minor": 0
      },
      "text/plain": [
       "HBox(children=(FloatProgress(value=0.0, max=500.0), HTML(value='')))"
      ]
     },
     "metadata": {},
     "output_type": "display_data"
    },
    {
     "name": "stdout",
     "output_type": "stream",
     "text": [
      "\n",
      "166664552:\n",
      "Empty face: https://sun9-46.userapi.com/c637327/v637327846/5ad9b/NlBqN7udzMw.jpg (156, 150, 75, 70)\n",
      "Empty face: https://sun9-46.userapi.com/c637327/v637327846/5ad9b/NlBqN7udzMw.jpg (219, 149, 75, 70)\n",
      "Empty face: https://sun9-46.userapi.com/c637327/v637327846/5ad9b/NlBqN7udzMw.jpg (154, 84, 75, 70)\n",
      "101632105:\n",
      "\n",
      "Added 9 rows\n",
      "\n",
      "Procesing 155075853\n"
     ]
    },
    {
     "data": {
      "application/vnd.jupyter.widget-view+json": {
       "model_id": "6d3858ec6fcf475ba8c643697f63a948",
       "version_major": 2,
       "version_minor": 0
      },
      "text/plain": [
       "HBox(children=(FloatProgress(value=0.0, max=2.0), HTML(value='')))"
      ]
     },
     "metadata": {},
     "output_type": "display_data"
    },
    {
     "name": "stdout",
     "output_type": "stream",
     "text": [
      "Empty face: https://sun9-61.userapi.com/e9968pUVB-58QyZ_0aVQLBzql5ciaqUnPrEZow/0OU0ZpWmQsY.jpg (149, 147, 75, 75)\n",
      "\n",
      "\n",
      "Added 31 rows\n",
      "\n",
      "Procesing 211795149\n"
     ]
    },
    {
     "data": {
      "application/vnd.jupyter.widget-view+json": {
       "model_id": "52eab7bf55a5439393839b6d316500c8",
       "version_major": 2,
       "version_minor": 0
      },
      "text/plain": [
       "HBox(children=(FloatProgress(value=0.0, max=15.0), HTML(value='')))"
      ]
     },
     "metadata": {},
     "output_type": "display_data"
    },
    {
     "name": "stdout",
     "output_type": "stream",
     "text": [
      "33511970:\n",
      "Added 9 rows\n",
      "Empty face: https://sun9-30.userapi.com/c845018/v845018997/12e076/He4gnKiBuOw.jpg (1329, 1337, 636, 670)\n",
      "\n",
      "Procesing 36836630\n",
      "Empty face: https://sun9-69.userapi.com/c630523/v630523736/3d0b6/b06nTqN-FYo.jpg (1288, 1222, 640, 480)\n"
     ]
    },
    {
     "data": {
      "application/vnd.jupyter.widget-view+json": {
       "model_id": "1780eb4472f0437cb766c756fc555e5e",
       "version_major": 2,
       "version_minor": 0
      },
      "text/plain": [
       "HBox(children=(FloatProgress(value=0.0, max=328.0), HTML(value='')))"
      ]
     },
     "metadata": {},
     "output_type": "display_data"
    },
    {
     "name": "stdout",
     "output_type": "stream",
     "text": [
      "226333756:Active threads:\n",
      " 50\n",
      "Added 0 threads\n",
      "Active threads: 50\n",
      "Added 6 rows\n",
      "Procesing 482059745\n"
     ]
    },
    {
     "data": {
      "application/vnd.jupyter.widget-view+json": {
       "model_id": "6da34fa14e4344ccb43a1c0756b4d6c9",
       "version_major": 2,
       "version_minor": 0
      },
      "text/plain": [
       "HBox(children=(FloatProgress(value=0.0, max=21.0), HTML(value='')))"
      ]
     },
     "metadata": {},
     "output_type": "display_data"
    },
    {
     "name": "stdout",
     "output_type": "stream",
     "text": [
      "Empty face: https://sun9-28.userapi.com/1srsZrON350tMdtntIRw0v-0sBKx-NXLhZ708w/vcoE0cGU-9g.jpg (151, 149, 75, 75)\n",
      "Empty face:429093787:\n",
      " https://sun9-28.userapi.com/1srsZrON350tMdtntIRw0v-0sBKx-NXLhZ708w/vcoE0cGU-9g.jpg (218, 149, 75, 75)\n",
      "Empty face: https://sun9-28.userapi.com/1srsZrON350tMdtntIRw0v-0sBKx-NXLhZ708w/vcoE0cGU-9g.jpg (153, 220, 75, 75)\n",
      "Empty face: https://sun9-28.userapi.com/1srsZrON350tMdtntIRw0v-0sBKx-NXLhZ708w/vcoE0cGU-9g.jpg (223, 222, 75, 75)\n",
      "Added 4 rows\n",
      "Procesing 202609897\n"
     ]
    },
    {
     "data": {
      "application/vnd.jupyter.widget-view+json": {
       "model_id": "7f2242825b1c43b6840f6480acd21c9c",
       "version_major": 2,
       "version_minor": 0
      },
      "text/plain": [
       "HBox(children=(FloatProgress(value=0.0, max=8.0), HTML(value='')))"
      ]
     },
     "metadata": {},
     "output_type": "display_data"
    },
    {
     "name": "stdout",
     "output_type": "stream",
     "text": [
      "Empty face: https://sun9-61.userapi.com/c627629/v627629217/31396/WaUXtFrc5Wo.jpg (1359, 1422, 589, 717)\n",
      "Empty face: https://sun9-61.userapi.com/c627629/v627629217/31396/WaUXtFrc5Wo.jpg (1958, 1406, 589, 717)\n",
      "Empty face: https://sun9-61.userapi.com/c627629/v627629217/31396/WaUXtFrc5Wo.jpg (1404, 2107, 589, 717)\n",
      "17570098:\n",
      "Empty face: https://sun9-72.userapi.com/c836636/v836636672/65556/JsIurtdCmtA.jpg (153, 151, 75, 75)\n",
      "Empty face: https://sun9-72.userapi.com/c836636/v836636672/65556/JsIurtdCmtA.jpg (218, 151, 75, 75)\n",
      "Empty face: https://sun9-72.userapi.com/c836636/v836636672/65556/JsIurtdCmtA.jpg (154, 220, 75, 75)\n",
      "\n",
      "\n",
      "202609897:\n",
      "Added 0 rows\n",
      "Procesing 274991789\n"
     ]
    },
    {
     "data": {
      "application/vnd.jupyter.widget-view+json": {
       "model_id": "714ca4ab59524402a2a835d30ec6e9fc",
       "version_major": 2,
       "version_minor": 0
      },
      "text/plain": [
       "HBox(children=(FloatProgress(value=0.0, max=7.0), HTML(value='')))"
      ]
     },
     "metadata": {},
     "output_type": "display_data"
    },
    {
     "name": "stdout",
     "output_type": "stream",
     "text": [
      "\n",
      "\n",
      "Added 61 rows\n",
      "151864074:\n",
      "Active threads: 50\n",
      "Added 0 threads\n",
      "Active threads: 50\n",
      "Added 5 rowsProcesing \n",
      "9925005\n",
      "\n"
     ]
    },
    {
     "data": {
      "application/vnd.jupyter.widget-view+json": {
       "model_id": "f21b473a325544f8a36ba8ee6a0c4857",
       "version_major": 2,
       "version_minor": 0
      },
      "text/plain": [
       "HBox(children=(FloatProgress(value=0.0, max=54.0), HTML(value='')))"
      ]
     },
     "metadata": {},
     "output_type": "display_data"
    },
    {
     "name": "stdout",
     "output_type": "stream",
     "text": [
      "Procesing 397539520\n"
     ]
    },
    {
     "data": {
      "application/vnd.jupyter.widget-view+json": {
       "model_id": "8b3661c0df4d4b9fadf78facb910359e",
       "version_major": 2,
       "version_minor": 0
      },
      "text/plain": [
       "HBox(children=(FloatProgress(value=0.0, max=5.0), HTML(value='')))"
      ]
     },
     "metadata": {},
     "output_type": "display_data"
    },
    {
     "name": "stdout",
     "output_type": "stream",
     "text": [
      "38853:\n",
      "Added 8 rows\n",
      "\n",
      "Procesing 7073994\n"
     ]
    },
    {
     "data": {
      "application/vnd.jupyter.widget-view+json": {
       "model_id": "6ddb4296913c4d4086c59cf6e9964a0b",
       "version_major": 2,
       "version_minor": 0
      },
      "text/plain": [
       "HBox(children=(FloatProgress(value=0.0, max=79.0), HTML(value='')))"
      ]
     },
     "metadata": {},
     "output_type": "display_data"
    },
    {
     "name": "stdout",
     "output_type": "stream",
     "text": [
      "31504498:\n",
      "Added 3 rows\n",
      "Procesing 249383616\n"
     ]
    },
    {
     "data": {
      "application/vnd.jupyter.widget-view+json": {
       "model_id": "57cb453f91dc4c6ba1f375f9d599bd6b",
       "version_major": 2,
       "version_minor": 0
      },
      "text/plain": [
       "HBox(children=(FloatProgress(value=0.0, max=160.0), HTML(value='')))"
      ]
     },
     "metadata": {},
     "output_type": "display_data"
    },
    {
     "name": "stdout",
     "output_type": "stream",
     "text": [
      "\n",
      "\n",
      "\n",
      "142840437:\n",
      "100747166:\n",
      "Active threads: 50\n",
      "Added 0 threads\n",
      "Active threads: 50\n",
      "Added 64 rowsAdded 27 rows\n",
      "\n",
      "Empty face: https://sun9-72.userapi.com/c626928/v626928005/6880/DLJpfjL6ETU.jpg (770, 2267, 576, 768)\n",
      "Empty face: https://sun9-72.userapi.com/c626928/v626928005/6880/DLJpfjL6ETU.jpg (1392, 2273, 576, 768)\n",
      "Procesing 308675578\n"
     ]
    },
    {
     "data": {
      "application/vnd.jupyter.widget-view+json": {
       "model_id": "1d07edb79b364f61bd956134a134398c",
       "version_major": 2,
       "version_minor": 0
      },
      "text/plain": [
       "HBox(children=(FloatProgress(value=0.0, max=5.0), HTML(value='')))"
      ]
     },
     "metadata": {},
     "output_type": "display_data"
    },
    {
     "name": "stdout",
     "output_type": "stream",
     "text": [
      "422484670:\n",
      "Procesing 268717\n"
     ]
    },
    {
     "data": {
      "application/vnd.jupyter.widget-view+json": {
       "model_id": "99e3f762da674986b59e6da731b97993",
       "version_major": 2,
       "version_minor": 0
      },
      "text/plain": [
       "HBox(children=(FloatProgress(value=0.0, max=463.0), HTML(value='')))"
      ]
     },
     "metadata": {},
     "output_type": "display_data"
    },
    {
     "name": "stdout",
     "output_type": "stream",
     "text": [
      "Added 6 rows\n",
      "Procesing 471589891\n"
     ]
    },
    {
     "data": {
      "application/vnd.jupyter.widget-view+json": {
       "model_id": "9ee3a8a343b041379e25b2c509706027",
       "version_major": 2,
       "version_minor": 0
      },
      "text/plain": [
       "HBox(children=(FloatProgress(value=0.0, max=22.0), HTML(value='')))"
      ]
     },
     "metadata": {},
     "output_type": "display_data"
    },
    {
     "name": "stdout",
     "output_type": "stream",
     "text": [
      "\n",
      "Empty face: https://sun9-68.userapi.com/c624918/v624918676/20765/Jzr5ezE8lLw.jpg (142, 146, 75, 75)\n",
      "Empty face: https://sun9-68.userapi.com/c624918/v624918676/20765/Jzr5ezE8lLw.jpg (79, 146, 75, 75)\n",
      "Empty face: https://sun9-37.userapi.com/c633729/v633729005/36410/fBtn59_hFpE.jpg (149, 152, 75, 75)\n",
      "10665489:\n",
      "Added 11 rows\n",
      "Procesing 511972621\n"
     ]
    },
    {
     "data": {
      "application/vnd.jupyter.widget-view+json": {
       "model_id": "ddb115601c5a4cbfb172f4a1dc0c8c92",
       "version_major": 2,
       "version_minor": 0
      },
      "text/plain": [
       "HBox(children=(FloatProgress(value=0.0, max=1.0), HTML(value='')))"
      ]
     },
     "metadata": {},
     "output_type": "display_data"
    },
    {
     "name": "stdout",
     "output_type": "stream",
     "text": [
      "\n",
      "511972621:\n",
      "Added 0 rows\n",
      "Empty face: https://sun9-32.userapi.com/c4160/u7073994/98674520/m_628abdcd.jpg (254, 119, 130, 96)\n",
      "Empty face: https://sun9-32.userapi.com/c4160/u7073994/98674520/m_628abdcd.jpg (254, 225, 130, 96)\n",
      "Empty face: https://sun9-32.userapi.com/c4160/u7073994/98674520/m_628abdcd.jpg (143, 124, 130, 96)\n",
      "Empty face: https://sun9-32.userapi.com/c4160/u7073994/98674520/m_628abdcd.jpg (144, 236, 130, 96)\n",
      "Empty face: https://sun9-32.userapi.com/c4160/u7073994/98674520/m_628abdcd.jpg (381, 125, 130, 96)\n",
      "Empty face: https://sun9-32.userapi.com/c4160/u7073994/98674520/m_628abdcd.jpg (383, 237, 130, 96)\n",
      "Empty face: https://sun9-11.userapi.com/c637224/v637224846/27498/NK4W6e9Pnis.jpg (148, 139, 75, 55)\n",
      "Procesing 1164675\n"
     ]
    },
    {
     "data": {
      "application/vnd.jupyter.widget-view+json": {
       "model_id": "01010eb35d5d4f8099200026f0975fe2",
       "version_major": 2,
       "version_minor": 0
      },
      "text/plain": [
       "HBox(children=(FloatProgress(value=0.0, max=389.0), HTML(value='')))"
      ]
     },
     "metadata": {},
     "output_type": "display_data"
    },
    {
     "name": "stdout",
     "output_type": "stream",
     "text": [
      "Empty face: https://sun9-54.userapi.com/c626928/v626928005/69bc/TLB3Zco_AuE.jpg (148, 155, 74, 75)\n",
      "Empty face: https://sun9-54.userapi.com/c626928/v626928005/69bc/TLB3Zco_AuE.jpg (86, 153, 74, 75)\n",
      "Empty face: https://sun9-54.userapi.com/c626928/v626928005/69bc/TLB3Zco_AuE.jpg (149, 220, 74, 75)\n",
      "Empty face: https://sun9-54.userapi.com/c626928/v626928005/69bc/TLB3Zco_AuE.jpg (88, 220, 74, 75)\n",
      "184833287:\n",
      "3913266:\n",
      "Added 17 rows\n",
      "Empty face: https://sun9-41.userapi.com/c623920/v623920676/21fc/URiHnyfAwBk.jpg (1400, 1369, 721, 720)\n",
      "Empty face: https://sun9-41.userapi.com/c623920/v623920676/21fc/URiHnyfAwBk.jpg (1399, 758, 721, 720)\n",
      "Empty face: https://sun9-41.userapi.com/c623920/v623920676/21fc/URiHnyfAwBk.jpg (2052, 1385, 721, 720)\n",
      "Empty face: https://sun9-41.userapi.com/c623920/v623920676/21fc/URiHnyfAwBk.jpg (779, 1385, 721, 720)\n",
      "Empty face: https://sun9-41.userapi.com/c623920/v623920676/21fc/URiHnyfAwBk.jpg (800, 789, 721, 720)\n",
      "Empty face: https://sun9-41.userapi.com/c623920/v623920676/21fc/URiHnyfAwBk.jpg (2100, 784, 721, 720)\n",
      "Empty face: https://sun9-41.userapi.com/c623920/v623920676/21fc/URiHnyfAwBk.jpg (1431, 2055, 721, 720)\n",
      "Empty face: https://sun9-41.userapi.com/c623920/v623920676/21fc/URiHnyfAwBk.jpg (2132, 2116, 721, 720)\n",
      "Active threads: 50\n",
      "Added 0 threads\n",
      "Active threads: 50\n",
      "Procesing 173280511\n"
     ]
    },
    {
     "data": {
      "application/vnd.jupyter.widget-view+json": {
       "model_id": "a2343cbe2eab49af895dbc488ca0c2dc",
       "version_major": 2,
       "version_minor": 0
      },
      "text/plain": [
       "HBox(children=(FloatProgress(value=0.0, max=500.0), HTML(value='')))"
      ]
     },
     "metadata": {},
     "output_type": "display_data"
    },
    {
     "name": "stdout",
     "output_type": "stream",
     "text": [
      "Added 39 rows\n",
      "Procesing 27046367\n"
     ]
    },
    {
     "data": {
      "application/vnd.jupyter.widget-view+json": {
       "model_id": "a24dc73c9bad4b3596c4a5483e1f9922",
       "version_major": 2,
       "version_minor": 0
      },
      "text/plain": [
       "HBox(children=(FloatProgress(value=0.0, max=20.0), HTML(value='')))"
      ]
     },
     "metadata": {},
     "output_type": "display_data"
    },
    {
     "name": "stdout",
     "output_type": "stream",
     "text": [
      "Empty face: https://sun9-32.userapi.com/c633423/v633423730/10821/5c47A6I9nlE.jpg (150, 147, 75, 75)\n",
      "\n",
      "\n",
      "\n",
      "159472241:\n",
      "Active threads: 50\n",
      "Added 0 threads\n",
      "Active threads: 50\n",
      "Empty face: https://sun9-43.userapi.com/c852136/v852136615/3cec8/BZi7lQ8rBWM.jpg (1574, 2351, 807, 807)\n",
      "\n",
      "\n",
      "\n",
      "Added 71 rows\n",
      "Procesing 53639298\n"
     ]
    },
    {
     "data": {
      "application/vnd.jupyter.widget-view+json": {
       "model_id": "ea540eae3d104c048613d4f5c3b16d8e",
       "version_major": 2,
       "version_minor": 0
      },
      "text/plain": [
       "HBox(children=(FloatProgress(value=0.0, max=1.0), HTML(value='')))"
      ]
     },
     "metadata": {},
     "output_type": "display_data"
    },
    {
     "name": "stdout",
     "output_type": "stream",
     "text": [
      "\n",
      "53639298:\n",
      "Added 0 rows\n",
      "Procesing 277230024\n"
     ]
    },
    {
     "data": {
      "application/vnd.jupyter.widget-view+json": {
       "model_id": "8051e7cbb872461dac0226b1551f6ba1",
       "version_major": 2,
       "version_minor": 0
      },
      "text/plain": [
       "HBox(children=(FloatProgress(value=0.0, max=9.0), HTML(value='')))"
      ]
     },
     "metadata": {},
     "output_type": "display_data"
    },
    {
     "name": "stdout",
     "output_type": "stream",
     "text": [
      "Empty face: https://sun9-3.userapi.com/c624021/v624021024/f85a/JpgQ1Cg2znI.jpg (145, 225, 66, 75)\n",
      "29217727:\n",
      "Active threads: 50\n",
      "Added 0 threads\n",
      "Active threads: 50\n",
      "3735159:\n",
      "\n",
      "Added 15 rows\n",
      "181295370:\n",
      "Added 1 rows\n",
      "267753884:\n",
      "Added 5 rows\n",
      "Procesing 144270222\n"
     ]
    },
    {
     "data": {
      "application/vnd.jupyter.widget-view+json": {
       "model_id": "17384f73812248e4bb537ea8ff14e302",
       "version_major": 2,
       "version_minor": 0
      },
      "text/plain": [
       "HBox(children=(FloatProgress(value=0.0, max=281.0), HTML(value='')))"
      ]
     },
     "metadata": {},
     "output_type": "display_data"
    },
    {
     "name": "stdout",
     "output_type": "stream",
     "text": [
      "Procesing 23274\n"
     ]
    },
    {
     "data": {
      "application/vnd.jupyter.widget-view+json": {
       "model_id": "862d5365536b4f4ab5888ff07c76f82a",
       "version_major": 2,
       "version_minor": 0
      },
      "text/plain": [
       "HBox(children=(FloatProgress(value=0.0, max=9.0), HTML(value='')))"
      ]
     },
     "metadata": {},
     "output_type": "display_data"
    },
    {
     "name": "stdout",
     "output_type": "stream",
     "text": [
      "275330400:\n",
      "\n",
      "155075853:\n",
      "Empty face: https://sun9-49.userapi.com/c851128/v851128825/378d2/ojqGrwB-vLA.jpg (1676, 848, 787, 807)\n",
      "Empty face: https://sun9-49.userapi.com/c851128/v851128825/378d2/ojqGrwB-vLA.jpg (2396, 878, 787, 807)\n",
      "Added 3 rows\n",
      "Added 43 rows\n",
      "277230024:\n",
      "Added 3 rows\n",
      "Added 19 rows\n",
      "Procesing 126906\n"
     ]
    },
    {
     "data": {
      "application/vnd.jupyter.widget-view+json": {
       "model_id": "058058d1774a4c16a1e064d2d2722e6d",
       "version_major": 2,
       "version_minor": 0
      },
      "text/plain": [
       "HBox(children=(FloatProgress(value=0.0, max=15.0), HTML(value='')))"
      ]
     },
     "metadata": {},
     "output_type": "display_data"
    },
    {
     "name": "stdout",
     "output_type": "stream",
     "text": [
      "Procesing 39604872\n"
     ]
    },
    {
     "data": {
      "application/vnd.jupyter.widget-view+json": {
       "model_id": "2cc65e18046a4138a74efc94468e479e",
       "version_major": 2,
       "version_minor": 0
      },
      "text/plain": [
       "HBox(children=(FloatProgress(value=0.0, max=1.0), HTML(value='')))"
      ]
     },
     "metadata": {},
     "output_type": "display_data"
    },
    {
     "name": "stdout",
     "output_type": "stream",
     "text": [
      "\n",
      "23274:\n",
      "Added 0 rows\n",
      "\n",
      "39604872:\n",
      "Added 0 rows\n",
      "Procesing 381769999\n"
     ]
    },
    {
     "data": {
      "application/vnd.jupyter.widget-view+json": {
       "model_id": "2cc1e6c8af1f4a7eaac2ea1b5c11da6b",
       "version_major": 2,
       "version_minor": 0
      },
      "text/plain": [
       "HBox(children=(FloatProgress(value=0.0, max=39.0), HTML(value='')))"
      ]
     },
     "metadata": {},
     "output_type": "display_data"
    },
    {
     "name": "stdout",
     "output_type": "stream",
     "text": [
      "Procesing 42287099\n"
     ]
    },
    {
     "data": {
      "application/vnd.jupyter.widget-view+json": {
       "model_id": "c70193cbb83148168e0474210ca4ab62",
       "version_major": 2,
       "version_minor": 0
      },
      "text/plain": [
       "HBox(children=(FloatProgress(value=0.0, max=36.0), HTML(value='')))"
      ]
     },
     "metadata": {},
     "output_type": "display_data"
    },
    {
     "name": "stdout",
     "output_type": "stream",
     "text": [
      "Procesing 58863626\n"
     ]
    },
    {
     "data": {
      "application/vnd.jupyter.widget-view+json": {
       "model_id": "b89a84d0fa75419aa4f213b237590a09",
       "version_major": 2,
       "version_minor": 0
      },
      "text/plain": [
       "HBox(children=(FloatProgress(value=0.0, max=10.0), HTML(value='')))"
      ]
     },
     "metadata": {},
     "output_type": "display_data"
    },
    {
     "name": "stdout",
     "output_type": "stream",
     "text": [
      "Procesing 62433694\n"
     ]
    },
    {
     "data": {
      "application/vnd.jupyter.widget-view+json": {
       "model_id": "f625d4f1990744779016cd7c20317807",
       "version_major": 2,
       "version_minor": 0
      },
      "text/plain": [
       "HBox(children=(FloatProgress(value=0.0, max=500.0), HTML(value='')))"
      ]
     },
     "metadata": {},
     "output_type": "display_data"
    },
    {
     "name": "stdout",
     "output_type": "stream",
     "text": [
      "Procesing 46367220\n"
     ]
    },
    {
     "data": {
      "application/vnd.jupyter.widget-view+json": {
       "model_id": "1abcaeefe1af416898ab3ce6f1890730",
       "version_major": 2,
       "version_minor": 0
      },
      "text/plain": [
       "HBox(children=(FloatProgress(value=0.0, max=381.0), HTML(value='')))"
      ]
     },
     "metadata": {},
     "output_type": "display_data"
    },
    {
     "name": "stdout",
     "output_type": "stream",
     "text": [
      "Active threads: 50\n",
      "Added 0 threads\n",
      "Active threads: 50\n",
      "Empty face: https://sun3-11.userapi.com/c836531/v836531220/14421/6chPLZGR1pI.jpg (1375, 1566, 454, 807)\n",
      "Empty face: https://sun3-11.userapi.com/c836531/v836531220/14421/6chPLZGR1pI.jpg (1428, 2347, 454, 807)\n",
      "Empty face: https://sun3-11.userapi.com/c836531/v836531220/14421/6chPLZGR1pI.jpg (1420, 848, 454, 807)\n",
      "Empty face: https://sun3-11.userapi.com/c836531/v836531220/14421/6chPLZGR1pI.jpg (2022, 1553, 454, 807)\n",
      "Empty face: https://sun3-11.userapi.com/c836531/v836531220/14421/6chPLZGR1pI.jpg (717, 1553, 454, 807)\n",
      "Empty face: https://sun9-25.userapi.com/c624126/v624126846/d17f/cF9rRlYqNzs.jpg (147, 148, 74, 75)\n",
      "132510000:\n",
      "\n",
      "672636:\n",
      "194265927:\n",
      "Added 36 rows\n",
      "\n",
      "Procesing 428444435\n"
     ]
    },
    {
     "data": {
      "application/vnd.jupyter.widget-view+json": {
       "model_id": "8c6ae4c718a84d16bab572930e669948",
       "version_major": 2,
       "version_minor": 0
      },
      "text/plain": [
       "HBox(children=(FloatProgress(value=0.0, max=26.0), HTML(value='')))"
      ]
     },
     "metadata": {},
     "output_type": "display_data"
    },
    {
     "name": "stdout",
     "output_type": "stream",
     "text": [
      "Added 16 rows\n",
      "Procesing 450580052\n"
     ]
    },
    {
     "data": {
      "application/vnd.jupyter.widget-view+json": {
       "model_id": "081a03d697e349b08ae2c59780ed65a4",
       "version_major": 2,
       "version_minor": 0
      },
      "text/plain": [
       "HBox(children=(FloatProgress(value=0.0, max=4.0), HTML(value='')))"
      ]
     },
     "metadata": {},
     "output_type": "display_data"
    },
    {
     "name": "stdout",
     "output_type": "stream",
     "text": [
      "58863626:\n",
      "Added 2 rows\n",
      "Added 46 rows\n",
      "Procesing 357147881\n"
     ]
    },
    {
     "data": {
      "application/vnd.jupyter.widget-view+json": {
       "model_id": "9f5925b4f2234aabad77e6725b52761e",
       "version_major": 2,
       "version_minor": 0
      },
      "text/plain": [
       "HBox(children=(FloatProgress(value=0.0, max=244.0), HTML(value='')))"
      ]
     },
     "metadata": {},
     "output_type": "display_data"
    },
    {
     "name": "stdout",
     "output_type": "stream",
     "text": [
      "\n",
      "Active threads: 50\n",
      "Added 0 threads\n",
      "Active threads: 50\n",
      "Procesing 57242941\n"
     ]
    },
    {
     "data": {
      "application/vnd.jupyter.widget-view+json": {
       "model_id": "1ca31dd74c2644e4abec1dd1ac0645ec",
       "version_major": 2,
       "version_minor": 0
      },
      "text/plain": [
       "HBox(children=(FloatProgress(value=0.0, max=234.0), HTML(value='')))"
      ]
     },
     "metadata": {},
     "output_type": "display_data"
    },
    {
     "name": "stdout",
     "output_type": "stream",
     "text": [
      "27046367:\n",
      "Added 16 rows\n",
      "Procesing 25835276\n"
     ]
    },
    {
     "data": {
      "application/vnd.jupyter.widget-view+json": {
       "model_id": "7a7e97bb766744a89660d4ee4ea57442",
       "version_major": 2,
       "version_minor": 0
      },
      "text/plain": [
       "HBox(children=(FloatProgress(value=0.0, max=140.0), HTML(value='')))"
      ]
     },
     "metadata": {},
     "output_type": "display_data"
    },
    {
     "name": "stdout",
     "output_type": "stream",
     "text": [
      "Empty face: https://sun9-9.userapi.com/c623430/v623430648/e82a/NF5H6yRe7NU.jpg (1497, 1614, 605, 807)\n",
      "\n",
      "Empty face: https://sun9-49.userapi.com/c834400/v834400454/bec75/zVDMv-VQENU.jpg (144, 147, 75, 75)\n",
      "Empty face: https://sun9-49.userapi.com/c834400/v834400454/bec75/zVDMv-VQENU.jpg (146, 216, 75, 75)\n",
      "Empty face: https://sun9-49.userapi.com/c834400/v834400454/bec75/zVDMv-VQENU.jpg (78, 149, 75, 75)\n",
      "Empty face: https://sun9-49.userapi.com/c834400/v834400454/bec75/zVDMv-VQENU.jpg (215, 148, 75, 75)\n",
      "Empty face: https://sun9-49.userapi.com/c834400/v834400454/bec75/zVDMv-VQENU.jpg (83, 222, 75, 75)\n",
      "Empty face: https://sun9-49.userapi.com/c834400/v834400454/bec75/zVDMv-VQENU.jpg (222, 222, 75, 75)\n",
      "Empty face: https://sun9-49.userapi.com/c834400/v834400454/bec75/zVDMv-VQENU.jpg (148, 79, 75, 75)\n",
      "450580052:\n",
      "Added 4 rows\n",
      "Procesing 276043162\n"
     ]
    },
    {
     "data": {
      "application/vnd.jupyter.widget-view+json": {
       "model_id": "aa254fc980ea4a9f8c430c16af6dcd60",
       "version_major": 2,
       "version_minor": 0
      },
      "text/plain": [
       "HBox(children=(FloatProgress(value=0.0, max=63.0), HTML(value='')))"
      ]
     },
     "metadata": {},
     "output_type": "display_data"
    },
    {
     "name": "stdout",
     "output_type": "stream",
     "text": [
      "Active threads: 50\n",
      "Added 0 threads\n",
      "Active threads: 50\n",
      "\n",
      "Empty face: https://sun9-56.userapi.com/c628325/v628325717/4e20f/_J3Ww7uvY0Q.jpg (1580, 1609, 604, 807)\n",
      "\n",
      "\n",
      "126906:\n",
      "\n",
      "Added 16 rows\n",
      "Procesing 287247786\n"
     ]
    },
    {
     "data": {
      "application/vnd.jupyter.widget-view+json": {
       "model_id": "00f7b01a2801482da3a57180c741ecf4",
       "version_major": 2,
       "version_minor": 0
      },
      "text/plain": [
       "HBox(children=(FloatProgress(value=0.0, max=12.0), HTML(value='')))"
      ]
     },
     "metadata": {},
     "output_type": "display_data"
    },
    {
     "name": "stdout",
     "output_type": "stream",
     "text": [
      "9925005:\n",
      "Empty face: https://sun9-57.userapi.com/c637927/v637927846/54c7d/aT1VtkdDBqQ.jpg (151, 153, 75, 75)\n",
      "Empty face: https://sun9-57.userapi.com/c637927/v637927846/54c7d/aT1VtkdDBqQ.jpg (155, 220, 75, 75)\n",
      "Empty face: https://sun9-57.userapi.com/c637927/v637927846/54c7d/aT1VtkdDBqQ.jpg (210, 151, 75, 75)\n",
      "Empty face: https://sun9-57.userapi.com/c637927/v637927846/54c7d/aT1VtkdDBqQ.jpg (215, 219, 75, 75)\n",
      "Empty face: https://sun9-57.userapi.com/c637927/v637927846/54c7d/aT1VtkdDBqQ.jpg (86, 150, 75, 75)\n",
      "167196653:\n",
      "2148743:\n",
      "Added 38 rows\n",
      "Active threads: 50\n",
      "Added 0 threads\n",
      "Active threads: 50\n",
      "Added 24 rows\n",
      "Procesing 223403889\n"
     ]
    },
    {
     "data": {
      "application/vnd.jupyter.widget-view+json": {
       "model_id": "ec37580f0d224ab0b0a68029fc208f5c",
       "version_major": 2,
       "version_minor": 0
      },
      "text/plain": [
       "HBox(children=(FloatProgress(value=0.0, max=63.0), HTML(value='')))"
      ]
     },
     "metadata": {},
     "output_type": "display_data"
    },
    {
     "name": "stdout",
     "output_type": "stream",
     "text": [
      "77937022:\n",
      "Procesing 185432151\n"
     ]
    },
    {
     "data": {
      "application/vnd.jupyter.widget-view+json": {
       "model_id": "132ede1537ee4f1eb5212912d724d4a4",
       "version_major": 2,
       "version_minor": 0
      },
      "text/plain": [
       "HBox(children=(FloatProgress(value=0.0, max=165.0), HTML(value='')))"
      ]
     },
     "metadata": {},
     "output_type": "display_data"
    },
    {
     "name": "stdout",
     "output_type": "stream",
     "text": [
      "Added 31 rows\n",
      "Added 42 rows\n",
      "274991789:\n",
      "Added 3 rows\n",
      "Procesing 13975858\n"
     ]
    },
    {
     "data": {
      "application/vnd.jupyter.widget-view+json": {
       "model_id": "b8513ed37df64271a202964f58b5f0ee",
       "version_major": 2,
       "version_minor": 0
      },
      "text/plain": [
       "HBox(children=(FloatProgress(value=0.0, max=22.0), HTML(value='')))"
      ]
     },
     "metadata": {},
     "output_type": "display_data"
    },
    {
     "name": "stdout",
     "output_type": "stream",
     "text": [
      "Procesing 150780958\n",
      "\n"
     ]
    },
    {
     "data": {
      "application/vnd.jupyter.widget-view+json": {
       "model_id": "9138217e26054883bc0de3c19c8d64f7",
       "version_major": 2,
       "version_minor": 0
      },
      "text/plain": [
       "HBox(children=(FloatProgress(value=0.0, max=249.0), HTML(value='')))"
      ]
     },
     "metadata": {},
     "output_type": "display_data"
    },
    {
     "name": "stdout",
     "output_type": "stream",
     "text": [
      "82708218:\n",
      "Procesing 154776384\n"
     ]
    },
    {
     "data": {
      "application/vnd.jupyter.widget-view+json": {
       "model_id": "73a165c4f58740c2ad72a7a9ea09f35a",
       "version_major": 2,
       "version_minor": 0
      },
      "text/plain": [
       "HBox(children=(FloatProgress(value=0.0, max=180.0), HTML(value='')))"
      ]
     },
     "metadata": {},
     "output_type": "display_data"
    },
    {
     "name": "stdout",
     "output_type": "stream",
     "text": [
      "Added 6 rows\n",
      "Empty face: Procesing 358170725\n",
      "https://sun9-61.userapi.com/c604524/v604524881/3d62/M5wL0qnayC4.jpg (148, 146, 75, 73)\n"
     ]
    },
    {
     "data": {
      "application/vnd.jupyter.widget-view+json": {
       "model_id": "a61dcfc36056479bbb7e30b0dc448add",
       "version_major": 2,
       "version_minor": 0
      },
      "text/plain": [
       "HBox(children=(FloatProgress(value=0.0, max=1.0), HTML(value='')))"
      ]
     },
     "metadata": {},
     "output_type": "display_data"
    },
    {
     "name": "stdout",
     "output_type": "stream",
     "text": [
      "\n",
      "358170725:\n",
      "Added 0 rows\n",
      "Empty face: https://sun9-30.userapi.com/xcbIAwDaUT4A9ixPbEQEW5o42dfCESE88VWm7Q/mnigR4AQAIc.jpg (140, 143, 60, 75)\n",
      "Empty face: https://sun9-30.userapi.com/xcbIAwDaUT4A9ixPbEQEW5o42dfCESE88VWm7Q/mnigR4AQAIc.jpg (201, 143, 60, 75)\n",
      "Empty face: https://sun9-30.userapi.com/xcbIAwDaUT4A9ixPbEQEW5o42dfCESE88VWm7Q/mnigR4AQAIc.jpg (146, 82, 60, 75)\n",
      "Empty face: https://sun9-30.userapi.com/xcbIAwDaUT4A9ixPbEQEW5o42dfCESE88VWm7Q/mnigR4AQAIc.jpg (149, 220, 60, 75)\n",
      "Empty face: https://sun9-30.userapi.com/xcbIAwDaUT4A9ixPbEQEW5o42dfCESE88VWm7Q/mnigR4AQAIc.jpg (207, 80, 60, 75)\n",
      "Empty face: https://sun9-30.userapi.com/xcbIAwDaUT4A9ixPbEQEW5o42dfCESE88VWm7Q/mnigR4AQAIc.jpg (210, 219, 60, 75)\n",
      "Procesing 429970189\n"
     ]
    },
    {
     "data": {
      "application/vnd.jupyter.widget-view+json": {
       "model_id": "d1c6056623da481db623e389457d5b2d",
       "version_major": 2,
       "version_minor": 0
      },
      "text/plain": [
       "HBox(children=(FloatProgress(value=0.0, max=42.0), HTML(value='')))"
      ]
     },
     "metadata": {},
     "output_type": "display_data"
    },
    {
     "name": "stdout",
     "output_type": "stream",
     "text": [
      "397539520:\n",
      "Added 3 rows\n",
      "Procesing 3967417\n"
     ]
    },
    {
     "data": {
      "application/vnd.jupyter.widget-view+json": {
       "model_id": "38452acfba864b6eb973e7550df6ab96",
       "version_major": 2,
       "version_minor": 0
      },
      "text/plain": [
       "HBox(children=(FloatProgress(value=0.0, max=59.0), HTML(value='')))"
      ]
     },
     "metadata": {},
     "output_type": "display_data"
    },
    {
     "name": "stdout",
     "output_type": "stream",
     "text": [
      "Empty face: https://sun9-29.userapi.com/c10359/u53653412/-6/m_0fd21af9.jpg (259, 250, 128, 128)\n",
      "Empty face: https://sun9-29.userapi.com/c10359/u53653412/-6/m_0fd21af9.jpg (367, 250, 128, 128)\n",
      "Empty face:Active threads: 50\n",
      "Added 0 threads\n",
      "Active threads: 50\n",
      " https://sun9-51.userapi.com/c301400/v301400941/7afa/2ksEe4J_xR4.jpg (1525, 1641, 645, 807)\n",
      "Empty face: https://sun9-51.userapi.com/c301400/v301400941/7afa/2ksEe4J_xR4.jpg (1565, 2365, 645, 807)\n",
      "\n",
      "Empty face: https://sun9-1.userapi.com/c846020/v846020924/9239b/yJiJ99wT06E.jpg (1581, 1455, 807, 591)\n",
      "Empty face: https://sun9-1.userapi.com/c846020/v846020924/9239b/yJiJ99wT06E.jpg (2321, 1480, 807, 591)\n",
      "Empty face: https://sun9-1.userapi.com/c846020/v846020924/9239b/yJiJ99wT06E.jpg (874, 1482, 807, 591)\n",
      "Empty face: https://sun9-1.userapi.com/c846020/v846020924/9239b/yJiJ99wT06E.jpg (1597, 2174, 807, 591)\n",
      "Empty face: https://sun9-1.userapi.com/c846020/v846020924/9239b/yJiJ99wT06E.jpg (1583, 758, 807, 591)\n",
      "Empty face: https://sun9-1.userapi.com/c846020/v846020924/9239b/yJiJ99wT06E.jpg (2386, 2252, 807, 591)\n",
      "Empty face: https://sun9-1.userapi.com/c846020/v846020924/9239b/yJiJ99wT06E.jpg (2365, 787, 807, 591)\n",
      "Empty face: https://sun9-1.userapi.com/c846020/v846020924/9239b/yJiJ99wT06E.jpg (890, 785, 807, 591)\n",
      "Empty face: https://sun9-1.userapi.com/c846020/v846020924/9239b/yJiJ99wT06E.jpg (3079, 1457, 807, 591)\n",
      "7073994:\n",
      "58456293:\n",
      "471589891:\n",
      "Added 2 rows\n",
      "Added 13 rows\n",
      "Procesing 22432665\n"
     ]
    },
    {
     "data": {
      "application/vnd.jupyter.widget-view+json": {
       "model_id": "dc58de347e954a81b4987f4c522c6c46",
       "version_major": 2,
       "version_minor": 0
      },
      "text/plain": [
       "HBox(children=(FloatProgress(value=0.0, max=91.0), HTML(value='')))"
      ]
     },
     "metadata": {},
     "output_type": "display_data"
    },
    {
     "name": "stdout",
     "output_type": "stream",
     "text": [
      "Procesing 255537580\n"
     ]
    },
    {
     "data": {
      "application/vnd.jupyter.widget-view+json": {
       "model_id": "4658caffd43645dc9f3d7d47de467dd9",
       "version_major": 2,
       "version_minor": 0
      },
      "text/plain": [
       "HBox(children=(FloatProgress(value=0.0, max=3.0), HTML(value='')))"
      ]
     },
     "metadata": {},
     "output_type": "display_data"
    },
    {
     "name": "stdout",
     "output_type": "stream",
     "text": [
      "Added 26 rows\n",
      "Procesing 255708030\n"
     ]
    },
    {
     "data": {
      "application/vnd.jupyter.widget-view+json": {
       "model_id": "4e7fb092737242d89e93f73394a9dfcf",
       "version_major": 2,
       "version_minor": 0
      },
      "text/plain": [
       "HBox(children=(FloatProgress(value=0.0, max=1.0), HTML(value='')))"
      ]
     },
     "metadata": {},
     "output_type": "display_data"
    },
    {
     "name": "stdout",
     "output_type": "stream",
     "text": [
      "\n",
      "Empty face: https://sun9-2.userapi.com/c836636/v836636672/6556e/gIE1Osbw-YU.jpg (150, 144, 75, 75)\n",
      "Empty face: https://sun9-2.userapi.com/c836636/v836636672/6556e/gIE1Osbw-YU.jpg (154, 79, 75, 75)\n",
      "Empty face: https://sun9-2.userapi.com/c836636/v836636672/6556e/gIE1Osbw-YU.jpg (219, 145, 75, 75)\n",
      "Empty face: https://sun9-2.userapi.com/c836636/v836636672/6556e/gIE1Osbw-YU.jpg (224, 82, 75, 75)\n",
      "\n",
      "Empty face: https://sun9-37.userapi.com/c622417/v622417889/47618/UEbQO0767EI.jpg (139, 151, 63, 75)\n",
      "Empty face: https://sun9-37.userapi.com/c622417/v622417889/47618/UEbQO0767EI.jpg (145, 222, 63, 75)\n",
      "Empty face: https://sun9-4.userapi.com/c633921/v633921881/255bb/ifLlbh45SpE.jpg (145, 152, 69, 75)\n",
      "428444435:\n",
      "Added 18 rows\n",
      "Active threads: 49\n",
      "Added 1 threads\n",
      "Active threads: 50\n",
      "Procesing 559544118\n"
     ]
    },
    {
     "data": {
      "application/vnd.jupyter.widget-view+json": {
       "model_id": "500898413e704eb0997be0286cba4f79",
       "version_major": 2,
       "version_minor": 0
      },
      "text/plain": [
       "HBox(children=(FloatProgress(value=0.0, max=5.0), HTML(value='')))"
      ]
     },
     "metadata": {},
     "output_type": "display_data"
    },
    {
     "name": "stdout",
     "output_type": "stream",
     "text": [
      "\n",
      "Empty face: https://sun9-59.userapi.com/c301704/v301704941/e6d/0FX5q88qHwE.jpg (150, 82, 60, 75)\n",
      "287247786:\n",
      "\n",
      "Added 7 rowsEmpty face: https://sun9-39.userapi.com/c836431/v836431846/3390b/L4sb5FRoXNs.jpg (1532, 1648, 652, 807)\n",
      "Empty face: https://sun9-39.userapi.com/c836431/v836431846/3390b/L4sb5FRoXNs.jpg (1569, 2368, 652, 807)\n",
      "\n",
      "Procesing 186041069\n"
     ]
    },
    {
     "data": {
      "application/vnd.jupyter.widget-view+json": {
       "model_id": "c80cd0caa8d34df88144873701905520",
       "version_major": 2,
       "version_minor": 0
      },
      "text/plain": [
       "HBox(children=(FloatProgress(value=0.0, max=17.0), HTML(value='')))"
      ]
     },
     "metadata": {},
     "output_type": "display_data"
    },
    {
     "name": "stdout",
     "output_type": "stream",
     "text": [
      "Empty face: https://sun9-23.userapi.com/c624029/v624029941/1146f/Qo1RqUmI-24.jpg (1275, 723, 479, 677)\n",
      "Empty face: https://sun9-23.userapi.com/c624029/v624029941/1146f/Qo1RqUmI-24.jpg (1281, 1305, 479, 677)\n",
      "42287099:\n",
      "\n",
      "Added 8 rows\n",
      "404856091:\n",
      "Procesing 11403125\n"
     ]
    },
    {
     "data": {
      "application/vnd.jupyter.widget-view+json": {
       "model_id": "cafead55e4cd4184b0c8851b7810a49c",
       "version_major": 2,
       "version_minor": 0
      },
      "text/plain": [
       "HBox(children=(FloatProgress(value=0.0, max=500.0), HTML(value='')))"
      ]
     },
     "metadata": {},
     "output_type": "display_data"
    },
    {
     "name": "stdout",
     "output_type": "stream",
     "text": [
      "Active threads: 50\n",
      "Added 0 threads\n",
      "Active threads: 50\n",
      "247587648:\n",
      "255537580:\n",
      "Added 3 rows\n",
      "Procesing 189067498\n"
     ]
    },
    {
     "data": {
      "application/vnd.jupyter.widget-view+json": {
       "model_id": "3a099a21591a4285a616451d362a9895",
       "version_major": 2,
       "version_minor": 0
      },
      "text/plain": [
       "HBox(children=(FloatProgress(value=0.0, max=32.0), HTML(value='')))"
      ]
     },
     "metadata": {},
     "output_type": "display_data"
    },
    {
     "name": "stdout",
     "output_type": "stream",
     "text": [
      "Added 23 rowsEmpty face: \n",
      "https://sun9-20.userapi.com/c824202/v824202538/d4f45/pE1hGXke56s.jpg (784, 1536, 750, 751)\n",
      "Empty face: https://sun9-20.userapi.com/c824202/v824202538/d4f45/pE1hGXke56s.jpg (1414, 1523, 750, 751)\n",
      "Empty face: https://sun9-20.userapi.com/c824202/v824202538/d4f45/pE1hGXke56s.jpg (817, 2205, 750, 751)\n",
      "Empty face: https://sun9-20.userapi.com/c824202/v824202538/d4f45/pE1hGXke56s.jpg (1455, 2205, 750, 751)\n",
      "Empty face: https://sun3-12.userapi.com/DFsYfX2Oh50UvOHjJ6DXokjmtPu4mYWe8nY-xw/0oxdFgs8eBI.jpg (131, 143, 50, 75)\n",
      "Procesing 165444063\n",
      "Empty face: https://sun3-12.userapi.com/DFsYfX2Oh50UvOHjJ6DXokjmtPu4mYWe8nY-xw/0oxdFgs8eBI.jpg (136, 79, 50, 75)\n",
      "Empty face: https://sun3-12.userapi.com/DFsYfX2Oh50UvOHjJ6DXokjmtPu4mYWe8nY-xw/0oxdFgs8eBI.jpg (136, 218, 50, 75)\n",
      "Empty face: https://sun3-12.userapi.com/DFsYfX2Oh50UvOHjJ6DXokjmtPu4mYWe8nY-xw/0oxdFgs8eBI.jpg (69, 143, 50, 75)\n",
      "Empty face: https://sun3-12.userapi.com/DFsYfX2Oh50UvOHjJ6DXokjmtPu4mYWe8nY-xw/0oxdFgs8eBI.jpg (195, 143, 50, 75)\n"
     ]
    },
    {
     "data": {
      "application/vnd.jupyter.widget-view+json": {
       "model_id": "300b8f0e540a46db9da54606a1a84233",
       "version_major": 2,
       "version_minor": 0
      },
      "text/plain": [
       "HBox(children=(FloatProgress(value=0.0, max=13.0), HTML(value='')))"
      ]
     },
     "metadata": {},
     "output_type": "display_data"
    },
    {
     "name": "stdout",
     "output_type": "stream",
     "text": [
      "559544118:\n",
      "Added 40 rows\n",
      "Empty face: https://sun9-6.userapi.com/c638319/v638319881/30c8/TUl7Puj5EfM.jpg (701, 1389, 720, 709)\n",
      "Added 2 rows\n",
      "Procesing 364171017\n"
     ]
    },
    {
     "data": {
      "application/vnd.jupyter.widget-view+json": {
       "model_id": "8d07c410396542c19625a3d0b687072a",
       "version_major": 2,
       "version_minor": 0
      },
      "text/plain": [
       "HBox(children=(FloatProgress(value=0.0, max=9.0), HTML(value='')))"
      ]
     },
     "metadata": {},
     "output_type": "display_data"
    },
    {
     "name": "stdout",
     "output_type": "stream",
     "text": [
      "Empty face: https://sun9-37.userapi.com/c834201/v834201163/7f01f/yh_6QP7U_w0.jpg (154, 155, 75, 73)\n",
      "Empty face: https://sun9-68.userapi.com/c858220/v858220579/73c98/CqXLjsOTBiE.jpg (2376, 1594, 807, 807)\n",
      "\n",
      "Procesing 169860596\n"
     ]
    },
    {
     "data": {
      "application/vnd.jupyter.widget-view+json": {
       "model_id": "a50c39d1b2a54a41aa3a1bee3f39a7f4",
       "version_major": 2,
       "version_minor": 0
      },
      "text/plain": [
       "HBox(children=(FloatProgress(value=0.0, max=500.0), HTML(value='')))"
      ]
     },
     "metadata": {},
     "output_type": "display_data"
    },
    {
     "name": "stdout",
     "output_type": "stream",
     "text": [
      "\n",
      "381769999:\n",
      "Empty face: https://sun9-25.userapi.com/y-upg-sQzBh4gbLzgOyfOnkU7TF_cf-GZ7ITCA/cJAumYjWGsc.jpg (135, 144, 57, 75)\n",
      "Empty face: https://sun9-25.userapi.com/y-upg-sQzBh4gbLzgOyfOnkU7TF_cf-GZ7ITCA/cJAumYjWGsc.jpg (141, 82, 57, 75)\n",
      "Empty face: https://sun9-25.userapi.com/y-upg-sQzBh4gbLzgOyfOnkU7TF_cf-GZ7ITCA/cJAumYjWGsc.jpg (71, 144, 57, 75)\n",
      "Empty face: https://sun9-25.userapi.com/y-upg-sQzBh4gbLzgOyfOnkU7TF_cf-GZ7ITCA/cJAumYjWGsc.jpg (200, 144, 57, 75)\n",
      "Empty face: https://sun9-25.userapi.com/y-upg-sQzBh4gbLzgOyfOnkU7TF_cf-GZ7ITCA/cJAumYjWGsc.jpg (143, 220, 57, 75)\n",
      "\n",
      "214441744:\n",
      "255708030:\n",
      "Active threads: 50\n",
      "Added 0 threads\n",
      "Active threads: 50\n",
      "Added 1 rows\n",
      "Added 27 rows\n",
      "211795149:\n",
      "Procesing 341674709\n"
     ]
    },
    {
     "data": {
      "application/vnd.jupyter.widget-view+json": {
       "model_id": "4f5fc7d3cdc44b1ebd663ff34a132e97",
       "version_major": 2,
       "version_minor": 0
      },
      "text/plain": [
       "HBox(children=(FloatProgress(value=0.0, max=15.0), HTML(value='')))"
      ]
     },
     "metadata": {},
     "output_type": "display_data"
    },
    {
     "name": "stdout",
     "output_type": "stream",
     "text": [
      "Procesing 176951572\n"
     ]
    },
    {
     "data": {
      "application/vnd.jupyter.widget-view+json": {
       "model_id": "4b8131e11fde47edbf626813f4b042b8",
       "version_major": 2,
       "version_minor": 0
      },
      "text/plain": [
       "HBox(children=(FloatProgress(value=0.0, max=154.0), HTML(value='')))"
      ]
     },
     "metadata": {},
     "output_type": "display_data"
    },
    {
     "name": "stdout",
     "output_type": "stream",
     "text": [
      "Added 10 rows\n",
      "Procesing 1936004\n"
     ]
    },
    {
     "data": {
      "application/vnd.jupyter.widget-view+json": {
       "model_id": "6b6eab7241a34ec3b3b87a237fc89839",
       "version_major": 2,
       "version_minor": 0
      },
      "text/plain": [
       "HBox(children=(FloatProgress(value=0.0, max=336.0), HTML(value='')))"
      ]
     },
     "metadata": {},
     "output_type": "display_data"
    },
    {
     "name": "stdout",
     "output_type": "stream",
     "text": [
      "\n",
      "364171017:\n",
      "Added 0 rows\n",
      "Procesing 34622624\n"
     ]
    },
    {
     "data": {
      "application/vnd.jupyter.widget-view+json": {
       "model_id": "2daba943321e42c39c3f252140d0b44c",
       "version_major": 2,
       "version_minor": 0
      },
      "text/plain": [
       "HBox(children=(FloatProgress(value=0.0, max=112.0), HTML(value='')))"
      ]
     },
     "metadata": {},
     "output_type": "display_data"
    },
    {
     "name": "stdout",
     "output_type": "stream",
     "text": [
      "\n",
      "\n",
      "Empty face: https://sun9-46.userapi.com/c836424/v836424151/19c25/MnvE_XCqp1c.jpg (1484, 1632, 603, 807)\n",
      "Empty face: https://sun9-46.userapi.com/c836424/v836424151/19c25/MnvE_XCqp1c.jpg (1523, 2370, 603, 807)\n",
      "Empty face: https://sun9-28.userapi.com/c626130/v626130154/4e10f/HDTFXEpeqOg.jpg (1561, 1530, 807, 807)\n",
      "Empty face: https://sun9-28.userapi.com/c626130/v626130154/4e10f/HDTFXEpeqOg.jpg (1577, 837, 807, 807)\n",
      "Empty face: https://sun9-28.userapi.com/c626130/v626130154/4e10f/HDTFXEpeqOg.jpg (2311, 1546, 807, 807)\n",
      "Empty face: https://sun9-28.userapi.com/c626130/v626130154/4e10f/HDTFXEpeqOg.jpg (840, 1549, 807, 807)\n",
      "Empty face: https://sun9-28.userapi.com/c626130/v626130154/4e10f/HDTFXEpeqOg.jpg (2358, 870, 807, 807)\n",
      "Empty face: https://sun9-28.userapi.com/c626130/v626130154/4e10f/HDTFXEpeqOg.jpg (882, 866, 807, 807)\n",
      "Empty face: https://sun9-28.userapi.com/c626130/v626130154/4e10f/HDTFXEpeqOg.jpg (1583, 2303, 807, 807)\n",
      "Empty face: https://sun9-28.userapi.com/c626130/v626130154/4e10f/HDTFXEpeqOg.jpg (2394, 2371, 807, 807)\n",
      "Empty face: https://sun9-28.userapi.com/c626130/v626130154/4e10f/HDTFXEpeqOg.jpg (3084, 1555, 807, 807)\n",
      "\n",
      "13975858:\n",
      "Added 19 rows\n",
      "Procesing 361027513\n"
     ]
    },
    {
     "data": {
      "application/vnd.jupyter.widget-view+json": {
       "model_id": "3c4b61999de441f0a0eb7c9d6e63f360",
       "version_major": 2,
       "version_minor": 0
      },
      "text/plain": [
       "HBox(children=(FloatProgress(value=0.0, max=1.0), HTML(value='')))"
      ]
     },
     "metadata": {},
     "output_type": "display_data"
    },
    {
     "name": "stdout",
     "output_type": "stream",
     "text": [
      "\n",
      "361027513:\n",
      "Added 0 rows\n",
      "Procesing 184735224\n"
     ]
    },
    {
     "data": {
      "application/vnd.jupyter.widget-view+json": {
       "model_id": "51f525ce3d80438f9868c2658dc8f200",
       "version_major": 2,
       "version_minor": 0
      },
      "text/plain": [
       "HBox(children=(FloatProgress(value=0.0, max=16.0), HTML(value='')))"
      ]
     },
     "metadata": {},
     "output_type": "display_data"
    },
    {
     "name": "stdout",
     "output_type": "stream",
     "text": [
      "Active threads: 50\n",
      "Added 0 threads\n",
      "Active threads: 50\n",
      "Added 135 rows\n",
      "Empty face: https://sun9-47.userapi.com/c621729/v621729220/2ea0e/-YLYyghXDvA.jpg (1625, 1537, 807, 538)\n",
      "Empty face: https://sun9-47.userapi.com/c621729/v621729220/2ea0e/-YLYyghXDvA.jpg (1641, 2210, 807, 538)\n",
      "Procesing 220028096\n",
      "Empty face: https://sun9-47.userapi.com/c621729/v621729220/2ea0e/-YLYyghXDvA.jpg (2300, 1514, 807, 538)\n",
      "Empty face: https://sun9-47.userapi.com/c621729/v621729220/2ea0e/-YLYyghXDvA.jpg (2339, 2231, 807, 538)\n",
      "Empty face: https://sun9-47.userapi.com/c621729/v621729220/2ea0e/-YLYyghXDvA.jpg (912, 1506, 807, 538)\n",
      "Empty face: https://sun9-47.userapi.com/c621729/v621729220/2ea0e/-YLYyghXDvA.jpg (926, 2233, 807, 538)\n"
     ]
    },
    {
     "data": {
      "application/vnd.jupyter.widget-view+json": {
       "model_id": "ff55b1f226f84e81b5d2365e1a343df7",
       "version_major": 2,
       "version_minor": 0
      },
      "text/plain": [
       "HBox(children=(FloatProgress(value=0.0, max=89.0), HTML(value='')))"
      ]
     },
     "metadata": {},
     "output_type": "display_data"
    },
    {
     "name": "stdout",
     "output_type": "stream",
     "text": [
      "Empty face: https://sun9-13.userapi.com/uWcPkjdTMRj9ShuQL-9V0LlpDKd1ooKBQPIhhQ/0G_Efe-b_D8.jpg (151, 146, 75, 75)\n",
      "Empty face: https://sun9-13.userapi.com/uWcPkjdTMRj9ShuQL-9V0LlpDKd1ooKBQPIhhQ/0G_Efe-b_D8.jpg (153, 82, 75, 75)\n",
      "\n",
      "Empty face: https://sun9-1.userapi.com/c635100/v635100551/4179f/xP1fVcLvW4c.jpg (149, 150, 75, 73)\n",
      "\n",
      "\n",
      "17241092:\n",
      "Empty face: https://sun9-71.userapi.com/c849320/v849320643/177bb5/z0U1fEWmtK4.jpg (145, 145, 68, 75)\n",
      "Empty face: https://sun9-71.userapi.com/c849320/v849320643/177bb5/z0U1fEWmtK4.jpg (147, 81, 68, 75)\n",
      "Active threads: 50\n",
      "Added 0 threads\n",
      "Active threads: 50\n",
      "Empty face: https://sun9-17.userapi.com/c604524/v604524881/3ccc/kz0zzoXqcfk.jpg (148, 151, 69, 75)\n",
      "Empty face: https://sun9-17.userapi.com/c604524/v604524881/3ccc/kz0zzoXqcfk.jpg (153, 222, 69, 75)\n",
      "Empty face: https://sun9-14.userapi.com/c1579/u1936004/51859793/m_23a480ca.jpg (312, 332, 130, 171)\n",
      "\n",
      "Empty face: https://sun9-8.userapi.com/c621729/v621729220/2f0da/WxGWHI2vs0g.jpg (2433, 1538, 807, 538)\n",
      "Empty face: https://sun9-8.userapi.com/c621729/v621729220/2f0da/WxGWHI2vs0g.jpg (1738, 1525, 807, 538)\n",
      "Empty face: https://sun9-61.userapi.com/c604524/v604524881/3d9b/PuvcaAGNfus.jpg (142, 146, 69, 75)\n",
      "Empty face: https://sun9-61.userapi.com/c604524/v604524881/3d9b/PuvcaAGNfus.jpg (68, 143, 69, 75)\n",
      "Active threads: 50\n",
      "Added 0 threads\n",
      "Active threads: 50\n",
      "Empty face: https://sun9-27.userapi.com/c628226/v628226572/27646/d-R8ZDQqgC4.jpg (154, 152, 75, 74)\n",
      "Empty face: https://sun9-27.userapi.com/c628226/v628226572/27646/d-R8ZDQqgC4.jpg (221, 152, 75, 74)\n",
      "Empty face: https://sun9-12.userapi.com/c604524/v604524881/3d13/TVjFCr2H-ys.jpg (80, 138, 75, 50)\n",
      "Empty face: https://sun9-12.userapi.com/c604524/v604524881/3d13/TVjFCr2H-ys.jpg (145, 139, 75, 50)\n",
      "Empty face: https://sun9-14.userapi.com/c4684/u1936004/118249271/y_334ebe47.jpg (1484, 1604, 537, 807)\n",
      "Empty face: https://sun9-39.userapi.com/c621729/v621729220/2f30f/U58LXWLxgGE.jpg (1561, 1482, 807, 538)\n",
      "Empty face: https://sun9-39.userapi.com/c621729/v621729220/2f30f/U58LXWLxgGE.jpg (888, 1469, 807, 538)\n",
      "429970189:\n",
      "Added 208 rows\n",
      "Procesing 138600996\n"
     ]
    },
    {
     "data": {
      "application/vnd.jupyter.widget-view+json": {
       "model_id": "1d310a9247b94c468f4fe0830736e8bf",
       "version_major": 2,
       "version_minor": 0
      },
      "text/plain": [
       "HBox(children=(FloatProgress(value=0.0, max=5.0), HTML(value='')))"
      ]
     },
     "metadata": {},
     "output_type": "display_data"
    },
    {
     "name": "stdout",
     "output_type": "stream",
     "text": [
      "Active threads: 50\n",
      "Added 0 threads\n",
      "Active threads: 50\n",
      "Added 25 rows\n",
      "\n",
      "Procesing 137589139\n"
     ]
    },
    {
     "data": {
      "application/vnd.jupyter.widget-view+json": {
       "model_id": "fc4ec5e393b14f77bc6e631d6f8f1615",
       "version_major": 2,
       "version_minor": 0
      },
      "text/plain": [
       "HBox(children=(FloatProgress(value=0.0, max=500.0), HTML(value='')))"
      ]
     },
     "metadata": {},
     "output_type": "display_data"
    },
    {
     "name": "stdout",
     "output_type": "stream",
     "text": [
      "\n",
      "Empty face: https://sun9-60.userapi.com/c636517/v636517222/1f57b/q3kx_4jQZmY.jpg (1674, 1517, 807, 538)\n",
      "Empty face: https://sun9-60.userapi.com/c844520/v844520037/132c06/Y-sZyQpTABU.jpg (155, 155, 75, 75)\n",
      "1428225:\n",
      "Empty face: https://sun9-14.userapi.com/c1579/u1936004/51859793/m_568daff0.jpg (307, 323, 130, 166)\n",
      "Empty face: https://sun9-9.userapi.com/c849028/v849028924/205e5/a4PBZk6zT8g.jpg (149, 143, 75, 58)\n",
      "Empty face: https://sun9-10.userapi.com/c837534/v837534672/61181/w9qtqfFtfWA.jpg (144, 153, 75, 75)\n",
      "Empty face: https://sun9-10.userapi.com/c837534/v837534672/61181/w9qtqfFtfWA.jpg (145, 215, 75, 75)\n",
      "Empty face: https://sun9-10.userapi.com/c837534/v837534672/61181/w9qtqfFtfWA.jpg (81, 152, 75, 75)\n",
      "Empty face: https://sun9-10.userapi.com/c837534/v837534672/61181/w9qtqfFtfWA.jpg (85, 221, 75, 75)\n",
      "Empty face: https://sun9-10.userapi.com/c837534/v837534672/61181/w9qtqfFtfWA.jpg (214, 152, 75, 75)\n",
      "Empty face: https://sun9-10.userapi.com/c837534/v837534672/61181/w9qtqfFtfWA.jpg (219, 222, 75, 75)\n",
      "Added 43 rows\n",
      "Active threads: 50\n",
      "Added 0 threads\n",
      "Active threads: 50\n",
      "Procesing 437926558\n"
     ]
    },
    {
     "data": {
      "application/vnd.jupyter.widget-view+json": {
       "model_id": "30e2a5fa5ab0441081825858650c174e",
       "version_major": 2,
       "version_minor": 0
      },
      "text/plain": [
       "HBox(children=(FloatProgress(value=0.0, max=1.0), HTML(value='')))"
      ]
     },
     "metadata": {},
     "output_type": "display_data"
    },
    {
     "name": "stdout",
     "output_type": "stream",
     "text": [
      "\n",
      "\n",
      "165444063:\n",
      "Added 7 rows\n",
      "Empty face: https://sun9-30.userapi.com/c830708/v830708224/aa81e/Nr0Hs2QxVmM.jpg (158, 150, 75, 70)\n",
      "Empty face: https://sun9-30.userapi.com/c830708/v830708224/aa81e/Nr0Hs2QxVmM.jpg (221, 150, 75, 70)\n",
      "Procesing 34259791\n"
     ]
    },
    {
     "data": {
      "application/vnd.jupyter.widget-view+json": {
       "model_id": "dd824545cce64b4bbe04933cb86484b4",
       "version_major": 2,
       "version_minor": 0
      },
      "text/plain": [
       "HBox(children=(FloatProgress(value=0.0, max=394.0), HTML(value='')))"
      ]
     },
     "metadata": {},
     "output_type": "display_data"
    },
    {
     "name": "stdout",
     "output_type": "stream",
     "text": [
      "\n",
      "186041069:\n",
      "Added 6 rows\n",
      "Procesing 144935758\n"
     ]
    },
    {
     "data": {
      "application/vnd.jupyter.widget-view+json": {
       "model_id": "2f68bfb0faf04640adaabae05aee4437",
       "version_major": 2,
       "version_minor": 0
      },
      "text/plain": [
       "HBox(children=(FloatProgress(value=0.0, max=16.0), HTML(value='')))"
      ]
     },
     "metadata": {},
     "output_type": "display_data"
    },
    {
     "name": "stdout",
     "output_type": "stream",
     "text": [
      "Active threads: 50\n",
      "Added 0 threads\n",
      "Active threads: 50\n",
      "\n",
      "Empty face: https://sun9-54.userapi.com/c850416/v850416842/17214a/83WQHIIQAgQ.jpg (150, 77, 75, 75)\n",
      "Empty face: https://sun3-12.userapi.com/hyIAPZKCyqCQFLYxOdDB-Ehy7wjSLbbs_RkZIQ/SFsrB7woEWk.jpg (1477, 1559, 605, 807)\n",
      "Empty face: https://sun3-12.userapi.com/hyIAPZKCyqCQFLYxOdDB-Ehy7wjSLbbs_RkZIQ/SFsrB7woEWk.jpg (1520, 902, 605, 807)\n",
      "Empty face: https://sun3-12.userapi.com/hyIAPZKCyqCQFLYxOdDB-Ehy7wjSLbbs_RkZIQ/SFsrB7woEWk.jpg (799, 1563, 605, 807)\n",
      "Empty face: https://sun3-12.userapi.com/hyIAPZKCyqCQFLYxOdDB-Ehy7wjSLbbs_RkZIQ/SFsrB7woEWk.jpg (2148, 1556, 605, 807)\n",
      "Empty face: https://sun3-12.userapi.com/hyIAPZKCyqCQFLYxOdDB-Ehy7wjSLbbs_RkZIQ/SFsrB7woEWk.jpg (1535, 2359, 605, 807)\n",
      "Empty face: https://sun9-46.userapi.com/c636621/v636621572/2c7b9/S8cRmB4OtoM.jpg (139, 148, 59, 75)\n",
      "223403889:\n",
      "Added 4 rows\n",
      "Procesing 436017715\n"
     ]
    },
    {
     "data": {
      "application/vnd.jupyter.widget-view+json": {
       "model_id": "004b4779ffd24ef5b9e70488e53aa6e2",
       "version_major": 2,
       "version_minor": 0
      },
      "text/plain": [
       "HBox(children=(FloatProgress(value=0.0, max=5.0), HTML(value='')))"
      ]
     },
     "metadata": {},
     "output_type": "display_data"
    },
    {
     "name": "stdout",
     "output_type": "stream",
     "text": [
      "\n",
      "Active threads: 50\n",
      "Added 0 threads\n",
      "Active threads: 50\n",
      "\n",
      "Empty face: https://sun9-69.userapi.com/XEa5hsTvN44RjDPqwmaREwTv3tPdcPmsZs991w/TjCcYSsIZWw.jpg (1425, 1377, 720, 694)\n",
      "Empty face: https://sun9-69.userapi.com/XEa5hsTvN44RjDPqwmaREwTv3tPdcPmsZs991w/TjCcYSsIZWw.jpg (2089, 1384, 720, 694)\n",
      "Empty face: https://sun9-69.userapi.com/XEa5hsTvN44RjDPqwmaREwTv3tPdcPmsZs991w/TjCcYSsIZWw.jpg (1464, 753, 720, 694)\n",
      "Empty face: https://sun9-69.userapi.com/XEa5hsTvN44RjDPqwmaREwTv3tPdcPmsZs991w/TjCcYSsIZWw.jpg (1458, 2102, 720, 694)\n",
      "Empty face: https://sun9-69.userapi.com/XEa5hsTvN44RjDPqwmaREwTv3tPdcPmsZs991w/TjCcYSsIZWw.jpg (2141, 761, 720, 694)\n",
      "\n",
      "Empty face: https://sun9-52.userapi.com/c10847/v10847958/a1b/nqD4exxFJB8.jpg (149, 137, 75, 50)\n",
      "Empty face: https://sun9-52.userapi.com/c10847/v10847958/a1b/nqD4exxFJB8.jpg (85, 140, 75, 50)\n",
      "289526889:\n",
      "276043162:\n",
      "\n",
      "73197194:\n",
      "Empty face: https://sun9-5.userapi.com/c846123/v846123125/1c0e75/2PHif7y9uBg.jpg (145, 146, 75, 75)\n",
      "Empty face: https://sun9-5.userapi.com/c846123/v846123125/1c0e75/2PHif7y9uBg.jpg (80, 148, 75, 75)\n",
      "Empty face: https://sun9-5.userapi.com/c846123/v846123125/1c0e75/2PHif7y9uBg.jpg (150, 221, 75, 75)\n",
      "Empty face: https://sun9-5.userapi.com/c846123/v846123125/1c0e75/2PHif7y9uBg.jpg (151, 81, 75, 75)\n",
      "437926558:\n",
      "Added 1 rows\n",
      "Procesing 436949378\n"
     ]
    },
    {
     "data": {
      "application/vnd.jupyter.widget-view+json": {
       "model_id": "52569eb8517f4b46b9043f10623134e8",
       "version_major": 2,
       "version_minor": 0
      },
      "text/plain": [
       "HBox(children=(FloatProgress(value=0.0, max=85.0), HTML(value='')))"
      ]
     },
     "metadata": {},
     "output_type": "display_data"
    },
    {
     "name": "stdout",
     "output_type": "stream",
     "text": [
      "138600996:\n",
      "Added 7 rows\n",
      "\n",
      "Added 55 rows\n",
      "Procesing 266575188\n"
     ]
    },
    {
     "data": {
      "application/vnd.jupyter.widget-view+json": {
       "model_id": "7fa67a10fe2140cb85e67fd32fc616ab",
       "version_major": 2,
       "version_minor": 0
      },
      "text/plain": [
       "HBox(children=(FloatProgress(value=0.0, max=6.0), HTML(value='')))"
      ]
     },
     "metadata": {},
     "output_type": "display_data"
    },
    {
     "name": "stdout",
     "output_type": "stream",
     "text": [
      "Added 59 rows\n",
      "Active threads: 50\n",
      "Added 0 threads\n",
      "Active threads: 50\n",
      "Procesing 224683933\n"
     ]
    },
    {
     "data": {
      "application/vnd.jupyter.widget-view+json": {
       "model_id": "66f0afce0e374633bffb9b8c6c15e0b4",
       "version_major": 2,
       "version_minor": 0
      },
      "text/plain": [
       "HBox(children=(FloatProgress(value=0.0, max=1.0), HTML(value='')))"
      ]
     },
     "metadata": {},
     "output_type": "display_data"
    },
    {
     "name": "stdout",
     "output_type": "stream",
     "text": [
      "Procesing 8691333\n"
     ]
    },
    {
     "data": {
      "application/vnd.jupyter.widget-view+json": {
       "model_id": "bed0dc00f5af4cd2a981d51736af9f23",
       "version_major": 2,
       "version_minor": 0
      },
      "text/plain": [
       "HBox(children=(FloatProgress(value=0.0, max=500.0), HTML(value='')))"
      ]
     },
     "metadata": {},
     "output_type": "display_data"
    },
    {
     "name": "stdout",
     "output_type": "stream",
     "text": [
      "436017715:\n",
      "\n",
      "224683933:Added 1 rows\n",
      "\n",
      "Added 0 rows\n",
      "Procesing 433513445\n"
     ]
    },
    {
     "data": {
      "application/vnd.jupyter.widget-view+json": {
       "model_id": "3af0ee3bf7d04265929a957c3867fd2e",
       "version_major": 2,
       "version_minor": 0
      },
      "text/plain": [
       "HBox(children=(FloatProgress(value=0.0, max=75.0), HTML(value='')))"
      ]
     },
     "metadata": {},
     "output_type": "display_data"
    },
    {
     "name": "stdout",
     "output_type": "stream",
     "text": [
      "Added 66 rows\n",
      "Procesing 51620511\n"
     ]
    },
    {
     "data": {
      "application/vnd.jupyter.widget-view+json": {
       "model_id": "c31002fffb8b4521adda97db45736acd",
       "version_major": 2,
       "version_minor": 0
      },
      "text/plain": [
       "HBox(children=(FloatProgress(value=0.0, max=2.0), HTML(value='')))"
      ]
     },
     "metadata": {},
     "output_type": "display_data"
    },
    {
     "name": "stdout",
     "output_type": "stream",
     "text": [
      "\n",
      "\n",
      "Empty face: https://sun9-19.userapi.com/c9297/u6001065/15682673/m_b66842f9.jpg (244, 267, 97, 130)\n",
      "Empty face: https://sun9-19.userapi.com/c9297/u6001065/15682673/m_b66842f9.jpg (132, 263, 97, 130)\n",
      "\n",
      "Empty face: https://sun9-32.userapi.com/c4558/u57242941/-6/m_402ec68c.jpg (243, 248, 104, 130)\n",
      "Empty face: https://sun9-32.userapi.com/c4558/u57242941/-6/m_402ec68c.jpg (350, 249, 104, 130)\n",
      "Empty face: https://sun9-32.userapi.com/c4558/u57242941/-6/m_402ec68c.jpg (253, 142, 104, 130)\n",
      "Empty face: https://sun9-32.userapi.com/c4558/u57242941/-6/m_402ec68c.jpg (255, 381, 104, 130)\n",
      "Empty face: https://sun9-32.userapi.com/c4558/u57242941/-6/m_402ec68c.jpg (361, 138, 104, 130)\n",
      "\n",
      "Active threads: 49\n",
      "Added 1 threads\n",
      "Active threads: 50\n",
      "Procesing 221463357\n"
     ]
    },
    {
     "data": {
      "application/vnd.jupyter.widget-view+json": {
       "model_id": "99b221402da14e3098c1c42d9cff22c3",
       "version_major": 2,
       "version_minor": 0
      },
      "text/plain": [
       "HBox(children=(FloatProgress(value=0.0, max=1.0), HTML(value='')))"
      ]
     },
     "metadata": {},
     "output_type": "display_data"
    },
    {
     "name": "stdout",
     "output_type": "stream",
     "text": [
      "\n",
      "Empty face: https://sun9-19.userapi.com/c307711/v307711941/8880/eY1ad5ppu_Q.jpg (151, 222, 75, 75)\n",
      "\n",
      "482059745:\n",
      "Added 10 rows\n",
      "Procesing 117964741\n",
      "\n"
     ]
    },
    {
     "data": {
      "application/vnd.jupyter.widget-view+json": {
       "model_id": "ffc5a4192dc842dbba077c36ce4c7ee1",
       "version_major": 2,
       "version_minor": 0
      },
      "text/plain": [
       "HBox(children=(FloatProgress(value=0.0, max=2.0), HTML(value='')))"
      ]
     },
     "metadata": {},
     "output_type": "display_data"
    },
    {
     "name": "stdout",
     "output_type": "stream",
     "text": [
      "Active threads: 50\n",
      "Added 0 threads\n",
      "Active threads: 50\n",
      "\n",
      "\n",
      "Empty face: https://sun9-23.userapi.com/c636526/v636526384/37026/FovdvWZhs_4.jpg (1599, 1679, 769, 807)\n",
      "Empty face: https://sun9-23.userapi.com/c636526/v636526384/37026/FovdvWZhs_4.jpg (1630, 2365, 769, 807)\n",
      "Empty face: https://sun9-23.userapi.com/c636526/v636526384/37026/FovdvWZhs_4.jpg (2231, 1635, 769, 807)\n",
      "Empty face: https://sun9-23.userapi.com/c636526/v636526384/37026/FovdvWZhs_4.jpg (922, 1629, 769, 807)\n",
      "249383616:\n",
      "308675578:\n",
      "Empty face: https://sun9-71.userapi.com/c628327/v628327941/46f0/ND75EX7A30Q.jpg (149, 143, 75, 56)\n",
      "Empty face: https://sun9-71.userapi.com/c628327/v628327941/46f0/ND75EX7A30Q.jpg (85, 146, 75, 56)\n",
      "Empty face: https://sun9-71.userapi.com/c628327/v628327941/46f0/ND75EX7A30Q.jpg (148, 206, 75, 56)\n",
      "\n",
      "Added 3 rows\n",
      "Procesing 254454594\n"
     ]
    },
    {
     "data": {
      "application/vnd.jupyter.widget-view+json": {
       "model_id": "7d4d05b7ea614ae7b26783bf974a84ef",
       "version_major": 2,
       "version_minor": 0
      },
      "text/plain": [
       "HBox(children=(FloatProgress(value=0.0, max=34.0), HTML(value='')))"
      ]
     },
     "metadata": {},
     "output_type": "display_data"
    },
    {
     "name": "stdout",
     "output_type": "stream",
     "text": [
      "\n",
      "341674709:\n",
      "Added 2 rows\n",
      "Procesing 123429977\n"
     ]
    },
    {
     "data": {
      "application/vnd.jupyter.widget-view+json": {
       "model_id": "0e2619d5115a4096a2bd844156418b6e",
       "version_major": 2,
       "version_minor": 0
      },
      "text/plain": [
       "HBox(children=(FloatProgress(value=0.0, max=7.0), HTML(value='')))"
      ]
     },
     "metadata": {},
     "output_type": "display_data"
    },
    {
     "name": "stdout",
     "output_type": "stream",
     "text": [
      "Empty face: https://sun9-12.userapi.com/c11028/u34259791/147967924/z_3536c450.jpg (2500, 3599, 1280, 960)\n",
      "Empty face: https://sun9-12.userapi.com/c11028/u34259791/147967924/z_3536c450.jpg (2493, 2542, 1280, 960)\n",
      "Empty face: https://sun9-12.userapi.com/c11028/u34259791/147967924/z_3536c450.jpg (1451, 3594, 1280, 960)\n",
      "Empty face: https://sun9-12.userapi.com/c11028/u34259791/147967924/z_3536c450.jpg (1451, 2508, 1280, 960)\n",
      "9787526:\n",
      "Empty face: https://sun9-10.userapi.com/c4300/u150780958/150560658/m_7dc05b91.jpg (249, 269, 98, 130)\n",
      "Empty face: https://sun9-10.userapi.com/c4300/u150780958/150560658/m_7dc05b91.jpg (250, 381, 98, 130)\n",
      "Active threads: 50\n",
      "Added 0 threads\n",
      "Active threads: 50\n",
      "Added 103 rows\n",
      "Procesing 377168767\n"
     ]
    },
    {
     "data": {
      "application/vnd.jupyter.widget-view+json": {
       "model_id": "91ebc5501abb409495d396847f1aa528",
       "version_major": 2,
       "version_minor": 0
      },
      "text/plain": [
       "HBox(children=(FloatProgress(value=0.0, max=9.0), HTML(value='')))"
      ]
     },
     "metadata": {},
     "output_type": "display_data"
    },
    {
     "name": "stdout",
     "output_type": "stream",
     "text": [
      "\n",
      "\n",
      "Added 88 rows\n",
      "\n",
      "377168767:\n",
      "Added 0 rows\n",
      "Procesing 161002823\n"
     ]
    },
    {
     "data": {
      "application/vnd.jupyter.widget-view+json": {
       "model_id": "cc88f9ea8a0341dbb5ef1918a255582c",
       "version_major": 2,
       "version_minor": 0
      },
      "text/plain": [
       "HBox(children=(FloatProgress(value=0.0, max=68.0), HTML(value='')))"
      ]
     },
     "metadata": {},
     "output_type": "display_data"
    },
    {
     "name": "stdout",
     "output_type": "stream",
     "text": [
      "\n",
      "Procesing 532490043\n"
     ]
    },
    {
     "data": {
      "application/vnd.jupyter.widget-view+json": {
       "model_id": "6360c2db5d7c4e38bb3dd0c8432d6913",
       "version_major": 2,
       "version_minor": 0
      },
      "text/plain": [
       "HBox(children=(FloatProgress(value=0.0, max=3.0), HTML(value='')))"
      ]
     },
     "metadata": {},
     "output_type": "display_data"
    },
    {
     "name": "stdout",
     "output_type": "stream",
     "text": [
      "38134320:\n",
      "53653412:\n",
      "\n",
      "\n",
      "532490043:\n",
      "Added 0 rows\n",
      "51620511:\n",
      "Active threads: 50\n",
      "Added 0 threads\n",
      "Active threads: 50\n",
      "Added 2 rows\n",
      "Procesing 94405931\n"
     ]
    },
    {
     "data": {
      "application/vnd.jupyter.widget-view+json": {
       "model_id": "0419c467e12c4c219cff979267c190c7",
       "version_major": 2,
       "version_minor": 0
      },
      "text/plain": [
       "HBox(children=(FloatProgress(value=0.0, max=2.0), HTML(value='')))"
      ]
     },
     "metadata": {},
     "output_type": "display_data"
    },
    {
     "name": "stdout",
     "output_type": "stream",
     "text": [
      "Procesing 187799198\n"
     ]
    },
    {
     "data": {
      "application/vnd.jupyter.widget-view+json": {
       "model_id": "f920a2b59b744426bd540774d6914e61",
       "version_major": 2,
       "version_minor": 0
      },
      "text/plain": [
       "HBox(children=(FloatProgress(value=0.0, max=30.0), HTML(value='')))"
      ]
     },
     "metadata": {},
     "output_type": "display_data"
    },
    {
     "name": "stdout",
     "output_type": "stream",
     "text": [
      "\n",
      "Added 32 rows\n",
      "Procesing 153144766\n"
     ]
    },
    {
     "data": {
      "application/vnd.jupyter.widget-view+json": {
       "model_id": "8681440513614118b87089e667dc11e1",
       "version_major": 2,
       "version_minor": 0
      },
      "text/plain": [
       "HBox(children=(FloatProgress(value=0.0, max=7.0), HTML(value='')))"
      ]
     },
     "metadata": {},
     "output_type": "display_data"
    },
    {
     "name": "stdout",
     "output_type": "stream",
     "text": [
      "\n",
      "\n",
      "Active threads: 50\n",
      "Added 0 threads\n",
      "Active threads: 50\n",
      "117964741:\n",
      "Added 2 rows\n",
      "Procesing 308901584\n"
     ]
    },
    {
     "data": {
      "application/vnd.jupyter.widget-view+json": {
       "model_id": "d2bd9ec12c844c45af13b4e7099ef701",
       "version_major": 2,
       "version_minor": 0
      },
      "text/plain": [
       "HBox(children=(FloatProgress(value=0.0, max=28.0), HTML(value='')))"
      ]
     },
     "metadata": {},
     "output_type": "display_data"
    },
    {
     "name": "stdout",
     "output_type": "stream",
     "text": [
      "\n",
      "\n",
      "Added 157 rows\n",
      "\n",
      "Procesing 47405025\n"
     ]
    },
    {
     "data": {
      "application/vnd.jupyter.widget-view+json": {
       "model_id": "d34a54a2176b4bdf9f6bcb67524f3e94",
       "version_major": 2,
       "version_minor": 0
      },
      "text/plain": [
       "HBox(children=(FloatProgress(value=0.0, max=42.0), HTML(value='')))"
      ]
     },
     "metadata": {},
     "output_type": "display_data"
    },
    {
     "name": "stdout",
     "output_type": "stream",
     "text": [
      "Empty face: https://sun9-43.userapi.com/c836137/v836137511/30419/2S2x5V6XJ4g.jpg (151, 152, 75, 75)\n",
      "\n",
      "Active threads: 50\n",
      "Added 0 threads\n",
      "Active threads: 50\n",
      "Empty face: https://sun9-70.userapi.com/c5436/v5436596/115c/RRfpLxzQX-c.jpg (134, 143, 56, 75)\n",
      "\n",
      "\n",
      "Empty face: https://sun9-4.userapi.com/1DaueOGGbk3x2pr6uEASEaE8W4-I2ma9_lgXTQ/Fq-zV2nEPX0.jpg (145, 140, 75, 56)\n",
      "Empty face: https://sun9-4.userapi.com/1DaueOGGbk3x2pr6uEASEaE8W4-I2ma9_lgXTQ/Fq-zV2nEPX0.jpg (82, 142, 75, 56)\n",
      "\n",
      "Empty face: https://sun3-12.userapi.com/7ehwj0wgl-vWsp8XlkN0arxeLoiICrp9LbWIHA/uJT4BUN4rVI.jpg (888, 1653, 807, 807)\n",
      "Empty face: https://sun3-12.userapi.com/7ehwj0wgl-vWsp8XlkN0arxeLoiICrp9LbWIHA/uJT4BUN4rVI.jpg (1562, 1662, 807, 807)\n",
      "Empty face: https://sun9-35.userapi.com/c845120/v845120362/c8ced/gG0WC2pxt1s.jpg (1422, 1586, 605, 807)\n",
      "\n",
      "\n",
      "\n",
      "Active threads: 50\n",
      "Added 0 threads\n",
      "Active threads: 50\n",
      "Empty face: https://sun9-64.userapi.com/gIQwlLxGmpI7MPaAnVi3_wyXt5glJYrpGFYFhw/6B_uQf6xKXw.jpg (152, 151, 75, 75)\n",
      "\n",
      "\n",
      "357147881:\n",
      "Added 42 rows\n",
      "Empty face: https://sun9-14.userapi.com/c4684/u1936004/118249271/y_b16752b8.jpg (1637, 1516, 807, 537)\n",
      "Procesing 165708314\n"
     ]
    },
    {
     "data": {
      "application/vnd.jupyter.widget-view+json": {
       "model_id": "8d60f72098f04e3f8436e985b1cc07ba",
       "version_major": 2,
       "version_minor": 0
      },
      "text/plain": [
       "HBox(children=(FloatProgress(value=0.0, max=500.0), HTML(value='')))"
      ]
     },
     "metadata": {},
     "output_type": "display_data"
    },
    {
     "name": "stdout",
     "output_type": "stream",
     "text": [
      "176951572:\n",
      "3967417:\n",
      "Active threads: 50\n",
      "Added 0 threads\n",
      "Active threads: 50\n",
      "Added 45 rows\n",
      "Procesing 263657009\n"
     ]
    },
    {
     "data": {
      "application/vnd.jupyter.widget-view+json": {
       "model_id": "f015434269ae41babfeebd1a56880f88",
       "version_major": 2,
       "version_minor": 0
      },
      "text/plain": [
       "HBox(children=(FloatProgress(value=0.0, max=67.0), HTML(value='')))"
      ]
     },
     "metadata": {},
     "output_type": "display_data"
    },
    {
     "name": "stdout",
     "output_type": "stream",
     "text": [
      "Empty face: https://sun3-12.userapi.com/kqHoQFMbQ3BaTidziGdkqHUr5PrAfnIfrsIXNw/QIc-Mqt88Kw.jpg (150, 145, 75, 66)\n",
      "Empty face: https://sun3-12.userapi.com/kqHoQFMbQ3BaTidziGdkqHUr5PrAfnIfrsIXNw/QIc-Mqt88Kw.jpg (84, 145, 75, 66)\n",
      "Empty face: https://sun3-12.userapi.com/kqHoQFMbQ3BaTidziGdkqHUr5PrAfnIfrsIXNw/QIc-Mqt88Kw.jpg (215, 144, 75, 66)\n",
      "Empty face: https://sun3-12.userapi.com/kqHoQFMbQ3BaTidziGdkqHUr5PrAfnIfrsIXNw/QIc-Mqt88Kw.jpg (150, 79, 75, 66)\n",
      "Empty face: https://sun3-12.userapi.com/kqHoQFMbQ3BaTidziGdkqHUr5PrAfnIfrsIXNw/QIc-Mqt88Kw.jpg (149, 211, 75, 66)\n",
      "Added 59 rows\n",
      "Procesing 257036880\n"
     ]
    },
    {
     "data": {
      "application/vnd.jupyter.widget-view+json": {
       "model_id": "92bcbcb1fa61453fb5beefa53b3bf79b",
       "version_major": 2,
       "version_minor": 0
      },
      "text/plain": [
       "HBox(children=(FloatProgress(value=0.0, max=45.0), HTML(value='')))"
      ]
     },
     "metadata": {},
     "output_type": "display_data"
    },
    {
     "name": "stdout",
     "output_type": "stream",
     "text": [
      "Empty face: https://sun9-26.userapi.com/c813024/v813024031/7a88/RMhXlyPldOg.jpg (1514, 1500, 750, 750)\n",
      "Empty face: https://sun9-26.userapi.com/c813024/v813024031/7a88/RMhXlyPldOg.jpg (2187, 1517, 750, 750)\n",
      "Empty face: https://sun9-26.userapi.com/c813024/v813024031/7a88/RMhXlyPldOg.jpg (1558, 2206, 750, 750)\n",
      "Empty face: https://sun9-26.userapi.com/c813024/v813024031/7a88/RMhXlyPldOg.jpg (2225, 2208, 750, 750)\n",
      "Empty face: https://sun9-14.userapi.com/c1579/u1936004/51859793/m_4bebb2cd.jpg (304, 331, 130, 173)\n",
      "Empty face: https://sun9-14.userapi.com/c1579/u1936004/51859793/m_4bebb2cd.jpg (323, 502, 130, 173)\n",
      "Empty face: https://sun9-14.userapi.com/c1579/u1936004/51859793/m_4bebb2cd.jpg (172, 333, 130, 173)\n",
      "Empty face: https://sun9-14.userapi.com/c1579/u1936004/51859793/m_4bebb2cd.jpg (324, 192, 130, 173)\n",
      "Empty face: https://sun9-14.userapi.com/c1579/u1936004/51859793/m_4bebb2cd.jpg (445, 332, 130, 173)\n",
      "Empty face: https://sun9-14.userapi.com/c1579/u1936004/51859793/m_4bebb2cd.jpg (179, 504, 130, 173)\n",
      "Active threads: 50\n",
      "Added 0 threads\n",
      "Active threads: 50\n",
      "\n",
      "223636486:\n",
      "Empty face: https://sun9-1.userapi.com/c305104/v305104596/16bc/aIyFyqCHmP0.jpg (151, 146, 75, 75)\n",
      "Empty face: https://sun9-7.userapi.com/c304400/v304400791/1048/D2GDOaYNtQY.jpg (152, 150, 75, 69)\n",
      "Empty face: https://sun9-45.userapi.com/c633116/v633116125/22f77/JYLN55W_pLo.jpg (1637, 1605, 646, 807)\n",
      "Empty face: https://sun9-45.userapi.com/c633116/v633116125/22f77/JYLN55W_pLo.jpg (2277, 1606, 646, 807)\n",
      "Empty face: https://sun9-38.userapi.com/c5131/u137589139/-6/m_282522d8.jpg (241, 261, 98, 130)\n",
      "Empty face: https://sun9-38.userapi.com/c5131/u137589139/-6/m_282522d8.jpg (247, 379, 98, 130)\n",
      "Empty face: https://sun9-38.userapi.com/c5131/u137589139/-6/m_282522d8.jpg (242, 139, 98, 130)\n",
      "Empty face: https://sun9-38.userapi.com/c5131/u137589139/-6/m_282522d8.jpg (132, 256, 98, 130)\n",
      "Empty face: https://sun9-38.userapi.com/c5131/u137589139/-6/m_282522d8.jpg (345, 257, 98, 130)\n",
      "\n",
      "Added 116 rows\n",
      "Procesing 27856991\n"
     ]
    },
    {
     "data": {
      "application/vnd.jupyter.widget-view+json": {
       "model_id": "0edef3fd5ffe40d59e5a4a89307a2321",
       "version_major": 2,
       "version_minor": 0
      },
      "text/plain": [
       "HBox(children=(FloatProgress(value=0.0, max=1.0), HTML(value='')))"
      ]
     },
     "metadata": {},
     "output_type": "display_data"
    },
    {
     "name": "stdout",
     "output_type": "stream",
     "text": [
      "Active threads: 50\n",
      "Added 0 threads\n",
      "Active threads: 50\n",
      "\n",
      "\n",
      "Empty face: https://sun3-13.userapi.com/XM2P8e1caEXqQx5sqhHkugLnbXMV62NyBayuwQ/GA37PKiRXEU.jpg (136, 143, 57, 75)\n",
      "Empty face: https://sun3-13.userapi.com/XM2P8e1caEXqQx5sqhHkugLnbXMV62NyBayuwQ/GA37PKiRXEU.jpg (199, 143, 57, 75)\n",
      "Empty face: https://sun3-13.userapi.com/XM2P8e1caEXqQx5sqhHkugLnbXMV62NyBayuwQ/GA37PKiRXEU.jpg (144, 218, 57, 75)\n",
      "Empty face: https://sun3-13.userapi.com/XM2P8e1caEXqQx5sqhHkugLnbXMV62NyBayuwQ/GA37PKiRXEU.jpg (143, 81, 57, 75)\n",
      "Empty face: https://sun3-13.userapi.com/XM2P8e1caEXqQx5sqhHkugLnbXMV62NyBayuwQ/GA37PKiRXEU.jpg (208, 219, 57, 75)\n",
      "Empty face: https://sun3-13.userapi.com/XM2P8e1caEXqQx5sqhHkugLnbXMV62NyBayuwQ/GA37PKiRXEU.jpg (71, 144, 57, 75)\n",
      "Empty face: https://sun3-13.userapi.com/XM2P8e1caEXqQx5sqhHkugLnbXMV62NyBayuwQ/GA37PKiRXEU.jpg (207, 79, 57, 75)\n",
      "47405025:\n",
      "Empty face: https://sun9-1.userapi.com/c848520/v848520448/151f81/xRGEDpAh4Z4.jpg (1556, 1533, 807, 807)\n",
      "Empty face: https://sun9-1.userapi.com/c848520/v848520448/151f81/xRGEDpAh4Z4.jpg (2264, 1542, 807, 807)\n",
      "Empty face: https://sun9-1.userapi.com/c848520/v848520448/151f81/xRGEDpAh4Z4.jpg (1617, 2320, 807, 807)\n",
      "Empty face: https://sun9-1.userapi.com/c848520/v848520448/151f81/xRGEDpAh4Z4.jpg (1642, 884, 807, 807)\n",
      "Empty face: https://sun9-1.userapi.com/c848520/v848520448/151f81/xRGEDpAh4Z4.jpg (2369, 2357, 807, 807)\n",
      "Empty face: https://sun9-1.userapi.com/c848520/v848520448/151f81/xRGEDpAh4Z4.jpg (845, 1555, 807, 807)\n",
      "Empty face: https://sun9-1.userapi.com/c848520/v848520448/151f81/xRGEDpAh4Z4.jpg (2351, 871, 807, 807)\n",
      "Empty face: https://sun9-1.userapi.com/c848520/v848520448/151f81/xRGEDpAh4Z4.jpg (3050, 1550, 807, 807)\n",
      "Empty face: https://sun9-1.userapi.com/c848520/v848520448/151f81/xRGEDpAh4Z4.jpg (898, 2374, 807, 807)\n",
      "Added 18 rows\n",
      "Procesing 360991503\n"
     ]
    },
    {
     "data": {
      "application/vnd.jupyter.widget-view+json": {
       "model_id": "2a375d9806bf4efc899866562478b03d",
       "version_major": 2,
       "version_minor": 0
      },
      "text/plain": [
       "HBox(children=(FloatProgress(value=0.0, max=1.0), HTML(value='')))"
      ]
     },
     "metadata": {},
     "output_type": "display_data"
    },
    {
     "name": "stdout",
     "output_type": "stream",
     "text": [
      "Empty face: https://sun9-21.userapi.com/wSg9fnl26_UO1HQqYOsb-81ZX-brzQqU10UjTA/P2UKJX7Fg7U.jpg (1597, 1530, 807, 538)\n",
      "Empty face: https://sun9-21.userapi.com/wSg9fnl26_UO1HQqYOsb-81ZX-brzQqU10UjTA/P2UKJX7Fg7U.jpg (916, 1536, 807, 538)\n",
      "\n",
      "360991503:\n",
      "Added 0 rows\n",
      "Procesing 228073515\n"
     ]
    },
    {
     "data": {
      "application/vnd.jupyter.widget-view+json": {
       "model_id": "501db9f20ba4459685ad89caf1ee87d9",
       "version_major": 2,
       "version_minor": 0
      },
      "text/plain": [
       "HBox(children=(FloatProgress(value=0.0, max=39.0), HTML(value='')))"
      ]
     },
     "metadata": {},
     "output_type": "display_data"
    },
    {
     "name": "stdout",
     "output_type": "stream",
     "text": [
      "Empty face: https://sun9-67.userapi.com/c841628/v841628314/174d/vH5tNfOEOqU.jpg (146, 149, 75, 75)\n",
      "\n",
      "189067498:\n",
      "\n",
      "\n",
      "Added 31 rows\n",
      "Procesing 391319\n"
     ]
    },
    {
     "data": {
      "application/vnd.jupyter.widget-view+json": {
       "model_id": "ddc2442aa5284d43a0912065eb3647bc",
       "version_major": 2,
       "version_minor": 0
      },
      "text/plain": [
       "HBox(children=(FloatProgress(value=0.0, max=275.0), HTML(value='')))"
      ]
     },
     "metadata": {},
     "output_type": "display_data"
    },
    {
     "name": "stdout",
     "output_type": "stream",
     "text": [
      "543736:\n",
      "Active threads: 50\n",
      "Added 0 threads\n",
      "Active threads: 50\n",
      "Empty face: https://sun9-12.userapi.com/c858336/v858336047/edf9/CUOAJ0GRKhc.jpg (136, 151, 50, 75)\n",
      "Empty face: https://sun9-12.userapi.com/c858336/v858336047/edf9/CUOAJ0GRKhc.jpg (142, 222, 50, 75)\n",
      "Empty face: https://sun9-12.userapi.com/c858336/v858336047/edf9/CUOAJ0GRKhc.jpg (201, 151, 50, 75)\n",
      "Empty face: https://sun9-12.userapi.com/c858336/v858336047/edf9/CUOAJ0GRKhc.jpg (205, 221, 50, 75)\n",
      "Empty face: https://sun3-10.userapi.com/zpvD8TRUy8y7hRbADI8Rnjflkk17wCcgaqTeig/jMhdmcwsnQE.jpg (151, 146, 73, 75)\n",
      "Empty face: https://sun3-10.userapi.com/zpvD8TRUy8y7hRbADI8Rnjflkk17wCcgaqTeig/jMhdmcwsnQE.jpg (219, 147, 73, 75)\n",
      "Empty face: https://sun3-10.userapi.com/zpvD8TRUy8y7hRbADI8Rnjflkk17wCcgaqTeig/jMhdmcwsnQE.jpg (154, 81, 73, 75)\n",
      "Empty face: https://sun3-10.userapi.com/zpvD8TRUy8y7hRbADI8Rnjflkk17wCcgaqTeig/jMhdmcwsnQE.jpg (220, 81, 73, 75)\n",
      "Added 122 rows\n",
      "Procesing 270937880\n"
     ]
    },
    {
     "data": {
      "application/vnd.jupyter.widget-view+json": {
       "model_id": "16187a1ff7c4499fbf6be14d53feafbf",
       "version_major": 2,
       "version_minor": 0
      },
      "text/plain": [
       "HBox(children=(FloatProgress(value=0.0, max=60.0), HTML(value='')))"
      ]
     },
     "metadata": {},
     "output_type": "display_data"
    },
    {
     "name": "stdout",
     "output_type": "stream",
     "text": [
      "184735224:\n",
      "Added 13 rows\n",
      "Procesing 148404754\n"
     ]
    },
    {
     "data": {
      "application/vnd.jupyter.widget-view+json": {
       "model_id": "850abf3ca7134b90839e5ef7ece6c0db",
       "version_major": 2,
       "version_minor": 0
      },
      "text/plain": [
       "HBox(children=(FloatProgress(value=0.0, max=3.0), HTML(value='')))"
      ]
     },
     "metadata": {},
     "output_type": "display_data"
    },
    {
     "name": "stdout",
     "output_type": "stream",
     "text": [
      "\n",
      "25835276:\n",
      "\n",
      "257036880:\n",
      "Active threads: 50\n",
      "Added 0 threads\n",
      "Active threads: 50\n",
      "Added 29 rows\n",
      "Procesing 27114541\n",
      "27856991:\n"
     ]
    },
    {
     "data": {
      "application/vnd.jupyter.widget-view+json": {
       "model_id": "4d095587139d4bc88b40d07d66b6f8fc",
       "version_major": 2,
       "version_minor": 0
      },
      "text/plain": [
       "HBox(children=(FloatProgress(value=0.0, max=33.0), HTML(value='')))"
      ]
     },
     "metadata": {},
     "output_type": "display_data"
    },
    {
     "name": "stdout",
     "output_type": "stream",
     "text": [
      "Added 1 rows\n"
     ]
    },
    {
     "name": "stderr",
     "output_type": "stream",
     "text": [
      "Exception in thread Thread-16:\n",
      "Traceback (most recent call last):\n",
      "  File \"/Users/aleksandrdremov/anaconda3/envs/FaceScrape/lib/python3.7/threading.py\", line 926, in _bootstrap_inner\n",
      "    self.run()\n",
      "  File \"<ipython-input-2-bdde2ce43cb7>\", line 22, in run\n",
      "    self.func(**self.args)\n",
      "  File \"<ipython-input-7-279898dad5c8>\", line 17, in performVkProcessing\n",
      "    processor.processVkUser(api, user_id, des_type=\"y\")\n",
      "  File \"/Users/aleksandrdremov/PycharmProjects/GlobalScraper/SocialProcessor.py\", line 86, in processVkUser\n",
      "    if i['sizes'][j]['type'] == des_type or j == -min_quality:\n",
      "IndexError: list index out of range\n",
      "\n"
     ]
    },
    {
     "name": "stdout",
     "output_type": "stream",
     "text": [
      "123429977:\n",
      "Added 7 rows\n",
      "Procesing 382341183\n"
     ]
    },
    {
     "data": {
      "application/vnd.jupyter.widget-view+json": {
       "model_id": "a4edecbe13b745c3a1f3b63d6eb1946a",
       "version_major": 2,
       "version_minor": 0
      },
      "text/plain": [
       "HBox(children=(FloatProgress(value=0.0, max=32.0), HTML(value='')))"
      ]
     },
     "metadata": {},
     "output_type": "display_data"
    },
    {
     "name": "stdout",
     "output_type": "stream",
     "text": [
      "\n",
      "220028096:\n",
      "Empty face: https://sun9-18.userapi.com/c856128/v856128439/f7ea/mQPSC2Zx4SY.jpg (146, 149, 69, 75)\n",
      "Added 177 rows\n",
      "Procesing 163838842\n"
     ]
    },
    {
     "data": {
      "application/vnd.jupyter.widget-view+json": {
       "model_id": "67339811f0e4482a8d814b3ad313798a",
       "version_major": 2,
       "version_minor": 0
      },
      "text/plain": [
       "HBox(children=(FloatProgress(value=0.0, max=13.0), HTML(value='')))"
      ]
     },
     "metadata": {},
     "output_type": "display_data"
    },
    {
     "name": "stdout",
     "output_type": "stream",
     "text": [
      "Added 27 rows\n",
      "\n",
      "Procesing 249320699\n"
     ]
    },
    {
     "data": {
      "application/vnd.jupyter.widget-view+json": {
       "model_id": "7250e5fbfda44e44a3f44ea982b3b976",
       "version_major": 2,
       "version_minor": 0
      },
      "text/plain": [
       "HBox(children=(FloatProgress(value=0.0, max=38.0), HTML(value='')))"
      ]
     },
     "metadata": {},
     "output_type": "display_data"
    },
    {
     "name": "stdout",
     "output_type": "stream",
     "text": [
      "1164675:\n",
      "228073515:\n",
      "266575188:\n",
      "Added 8 rows277115846:\n",
      "\n",
      "Added 3 rows\n",
      "Active threads: 49\n",
      "Added 1 threads\n",
      "Active threads: 50\n",
      "Procesing 427702689\n"
     ]
    },
    {
     "data": {
      "application/vnd.jupyter.widget-view+json": {
       "model_id": "d2cc68cb1ad64e2aadcf7cae7f5673b7",
       "version_major": 2,
       "version_minor": 0
      },
      "text/plain": [
       "HBox(children=(FloatProgress(value=0.0, max=10.0), HTML(value='')))"
      ]
     },
     "metadata": {},
     "output_type": "display_data"
    },
    {
     "name": "stdout",
     "output_type": "stream",
     "text": [
      "Procesing 16354871\n"
     ]
    },
    {
     "data": {
      "application/vnd.jupyter.widget-view+json": {
       "model_id": "cebf4d876f1042e5bede2ec6c9f05de3",
       "version_major": 2,
       "version_minor": 0
      },
      "text/plain": [
       "HBox(children=(FloatProgress(value=0.0, max=206.0), HTML(value='')))"
      ]
     },
     "metadata": {},
     "output_type": "display_data"
    },
    {
     "name": "stdout",
     "output_type": "stream",
     "text": [
      "Procesing 50702180\n"
     ]
    },
    {
     "data": {
      "application/vnd.jupyter.widget-view+json": {
       "model_id": "4c1f37b7a37b4a4eb131974d8e703987",
       "version_major": 2,
       "version_minor": 0
      },
      "text/plain": [
       "HBox(children=(FloatProgress(value=0.0, max=274.0), HTML(value='')))"
      ]
     },
     "metadata": {},
     "output_type": "display_data"
    },
    {
     "name": "stdout",
     "output_type": "stream",
     "text": [
      "Added 64 rows\n",
      "\n",
      "\n",
      "57242941:\n",
      "148404754:\n",
      "Added 2 rows\n",
      "\n",
      "Procesing 12466150\n"
     ]
    },
    {
     "data": {
      "application/vnd.jupyter.widget-view+json": {
       "model_id": "23deb7851cc54c20810a7e88c5555502",
       "version_major": 2,
       "version_minor": 0
      },
      "text/plain": [
       "HBox(children=(FloatProgress(value=0.0, max=2.0), HTML(value='')))"
      ]
     },
     "metadata": {},
     "output_type": "display_data"
    },
    {
     "name": "stdout",
     "output_type": "stream",
     "text": [
      "\n",
      "\n",
      "Empty face: https://sun9-66.userapi.com/c855416/v855416742/59aa3/vXJthSHV5-0.jpg (1281, 1274, 650, 655)\n",
      "Empty face: https://sun9-66.userapi.com/c855416/v855416742/59aa3/vXJthSHV5-0.jpg (1856, 1276, 650, 655)\n",
      "Empty face: https://sun9-66.userapi.com/c855416/v855416742/59aa3/vXJthSHV5-0.jpg (1346, 1941, 650, 655)\n",
      "Empty face: https://sun9-66.userapi.com/c855416/v855416742/59aa3/vXJthSHV5-0.jpg (1332, 705, 650, 655)\n",
      "22432665:\n",
      "\n",
      "Added 26 rows\n",
      "Added 147 rows\n",
      "Active threads: 49\n",
      "Added 1 threads\n",
      "Active threads: 50\n",
      "Procesing 482119074\n"
     ]
    },
    {
     "data": {
      "application/vnd.jupyter.widget-view+json": {
       "model_id": "81ecc7617bec4ac69f951072b6b67b52",
       "version_major": 2,
       "version_minor": 0
      },
      "text/plain": [
       "HBox(children=(FloatProgress(value=0.0, max=4.0), HTML(value='')))"
      ]
     },
     "metadata": {},
     "output_type": "display_data"
    },
    {
     "name": "stdout",
     "output_type": "stream",
     "text": [
      "\n",
      "Empty face: https://sun9-72.userapi.com/c628819/v628819871/22083/55VCl9GMvtE.jpg (155, 210, 75, 42)\n",
      "Procesing 3779182\n"
     ]
    },
    {
     "data": {
      "application/vnd.jupyter.widget-view+json": {
       "model_id": "86a58bb5d8814456897293b1588bfe37",
       "version_major": 2,
       "version_minor": 0
      },
      "text/plain": [
       "HBox(children=(FloatProgress(value=0.0, max=500.0), HTML(value='')))"
      ]
     },
     "metadata": {},
     "output_type": "display_data"
    },
    {
     "name": "stdout",
     "output_type": "stream",
     "text": [
      "\n",
      "Procesing 345994963\n"
     ]
    },
    {
     "data": {
      "application/vnd.jupyter.widget-view+json": {
       "model_id": "12e5263abc7e4464a1b17276f6ed70ee",
       "version_major": 2,
       "version_minor": 0
      },
      "text/plain": [
       "HBox(children=(FloatProgress(value=0.0, max=500.0), HTML(value='')))"
      ]
     },
     "metadata": {},
     "output_type": "display_data"
    },
    {
     "name": "stdout",
     "output_type": "stream",
     "text": [
      "Added 249 rows\n",
      "Procesing 78345673\n"
     ]
    },
    {
     "data": {
      "application/vnd.jupyter.widget-view+json": {
       "model_id": "6685577ba59740f897051abfe05509e7",
       "version_major": 2,
       "version_minor": 0
      },
      "text/plain": [
       "HBox(children=(FloatProgress(value=0.0, max=394.0), HTML(value='')))"
      ]
     },
     "metadata": {},
     "output_type": "display_data"
    },
    {
     "name": "stdout",
     "output_type": "stream",
     "text": [
      "Empty face: https://sun9-30.userapi.com/4MID6UCkbOPNxCA8oaYLEBB258KsXiedIH4IQQ/b4ga-21GgJo.jpg (1532, 1374, 768, 427)\n",
      "Empty face: https://sun9-30.userapi.com/4MID6UCkbOPNxCA8oaYLEBB258KsXiedIH4IQQ/b4ga-21GgJo.jpg (2266, 1415, 768, 427)\n",
      "Empty face: https://sun9-30.userapi.com/4MID6UCkbOPNxCA8oaYLEBB258KsXiedIH4IQQ/b4ga-21GgJo.jpg (1538, 2036, 768, 427)\n",
      "Empty face: https://sun9-16.userapi.com/s3wOe_qLsigdoO2bVCUcX1_Ymrfmt6RVLzfP0Q/Dkequi2A-7o.jpg (80, 140, 75, 56)\n",
      "Empty face: https://sun9-16.userapi.com/s3wOe_qLsigdoO2bVCUcX1_Ymrfmt6RVLzfP0Q/Dkequi2A-7o.jpg (145, 140, 75, 56)\n",
      "Empty face: https://sun9-16.userapi.com/s3wOe_qLsigdoO2bVCUcX1_Ymrfmt6RVLzfP0Q/Dkequi2A-7o.jpg (146, 74, 75, 56)\n",
      "Empty face: https://sun9-16.userapi.com/s3wOe_qLsigdoO2bVCUcX1_Ymrfmt6RVLzfP0Q/Dkequi2A-7o.jpg (82, 73, 75, 56)\n",
      "Active threads: 50\n",
      "Added 0 threads\n",
      "Active threads: 50\n",
      "\n",
      "27114541:\n",
      "Added 9 rows\n",
      "Procesing 180825656\n"
     ]
    },
    {
     "data": {
      "application/vnd.jupyter.widget-view+json": {
       "model_id": "fb0508f3dddf433bb4a636c2decc7806",
       "version_major": 2,
       "version_minor": 0
      },
      "text/plain": [
       "HBox(children=(FloatProgress(value=0.0, max=13.0), HTML(value='')))"
      ]
     },
     "metadata": {},
     "output_type": "display_data"
    },
    {
     "name": "stdout",
     "output_type": "stream",
     "text": [
      "Empty face: https://sun9-67.userapi.com/c10615/v10615673/4ff/caq4iTWQ000.jpg (2421, 1542, 807, 605)\n",
      "254454594:\n",
      "\n",
      "Active threads: 50\n",
      "Added 0 threads\n",
      "Active threads: 50\n",
      "Added 12 rows\n",
      "Procesing 17454921\n"
     ]
    },
    {
     "data": {
      "application/vnd.jupyter.widget-view+json": {
       "model_id": "6d5e92f36b524c4d8bbc82b84b0e6ef2",
       "version_major": 2,
       "version_minor": 0
      },
      "text/plain": [
       "HBox(children=(FloatProgress(value=0.0, max=23.0), HTML(value='')))"
      ]
     },
     "metadata": {},
     "output_type": "display_data"
    },
    {
     "name": "stdout",
     "output_type": "stream",
     "text": [
      "Empty face: https://sun9-16.userapi.com/c845218/v845218705/865f9/4xpdIetksnk.jpg (1557, 1639, 605, 807)\n",
      "Empty face: https://sun9-27.userapi.com/qpQ_sa6qw8tWIc6n2wLxnW6adr0xzgPphYCkww/kArJULQZAeg.jpg (148, 149, 75, 75)\n",
      "153144766:\n",
      "Added 6 rows\n",
      "Procesing 37737997\n"
     ]
    },
    {
     "data": {
      "application/vnd.jupyter.widget-view+json": {
       "model_id": "e7d2ccdead61462fbc65069d83c0b5a4",
       "version_major": 2,
       "version_minor": 0
      },
      "text/plain": [
       "HBox(children=(FloatProgress(value=0.0, max=64.0), HTML(value='')))"
      ]
     },
     "metadata": {},
     "output_type": "display_data"
    },
    {
     "name": "stdout",
     "output_type": "stream",
     "text": [
      "Active threads: 50\n",
      "Added 0 threads\n",
      "Active threads: 50\n",
      "\n",
      "Empty face: https://sun9-45.userapi.com/c855128/v855128538/173527/SCZfpm9q7DY.jpg (1619, 1556, 807, 629)\n",
      "Empty face: https://sun9-45.userapi.com/c855128/v855128538/173527/SCZfpm9q7DY.jpg (1644, 2278, 807, 629)\n",
      "Empty face: https://sun9-45.userapi.com/c855128/v855128538/173527/SCZfpm9q7DY.jpg (2348, 1554, 807, 629)\n",
      "Empty face: https://sun9-45.userapi.com/c855128/v855128538/173527/SCZfpm9q7DY.jpg (2384, 2294, 807, 629)\n",
      "Active threads: 50\n",
      "Added 0 threads\n",
      "Active threads: 50\n",
      "Empty face: https://sun9-41.userapi.com/c852220/v852220963/12bed7/HLEvJInsUsQ.jpg (1506, 1604, 599, 807)\n",
      "Empty face: https://sun9-41.userapi.com/c852220/v852220963/12bed7/HLEvJInsUsQ.jpg (1518, 892, 599, 807)\n",
      "Empty face: https://sun9-10.userapi.com/c626129/v626129045/66158/t7Owk3sJDXU.jpg (149, 144, 75, 49)\n",
      "Empty face: https://sun9-30.userapi.com/c628819/v628819871/2208a/joZtqdz5sR0.jpg (145, 122, 75, 24)\n",
      "Empty face: https://sun9-30.userapi.com/c628819/v628819871/2208a/joZtqdz5sR0.jpg (147, 189, 75, 24)\n",
      "Empty face: https://sun9-30.userapi.com/c628819/v628819871/2208a/joZtqdz5sR0.jpg (220, 127, 75, 24)\n",
      "Empty face: https://sun9-30.userapi.com/c628819/v628819871/2208a/joZtqdz5sR0.jpg (81, 126, 75, 24)\n",
      "Active threads: 50\n",
      "Added 0 threads\n",
      "Active threads: 50\n",
      "Empty face: https://sun9-38.userapi.com/c10351/u137589139/135341896/y_3fb8588f.jpg (1611, 1567, 807, 594)\n"
     ]
    }
   ],
   "source": [
    "while True:\n",
    "    active = sum([i.isAlive() for i in threads])\n",
    "    print(\"Active threads:\", active)\n",
    "    addThreads(active)\n",
    "    active = sum([i.isAlive() for i in threads])\n",
    "    print(\"Active threads:\", active)\n",
    "    i = 0\n",
    "    while i < len(threads):\n",
    "        if threads[i].isAlive():\n",
    "            i += 1\n",
    "        else:\n",
    "            threads.pop(i)\n",
    "    time.sleep(30)"
   ]
  },
  {
   "cell_type": "code",
   "execution_count": null,
   "metadata": {},
   "outputs": [],
   "source": [
    "while i < len(threads):\n",
    "        if threads[i].isAlive():\n",
    "            i += 1\n",
    "        else:\n",
    "            threads.pop(i)\n",
    "sum([i.isAlive() for i in threads])"
   ]
  },
  {
   "cell_type": "code",
   "execution_count": 43,
   "metadata": {},
   "outputs": [],
   "source": [
    "# conn = mysql.connector.connect(user='face', host=\"localhost\", password=\"Hr3mI3PM5JlFWrub\", database='global_scrape', port=8889, collation=\"utf8mb4_general_ci\")\n",
    "# processor = SocialProcessor(conn, model, prefix='/Users/aleksandrdremov/PycharmProjects/GlobalScraper/', batch=512)\n",
    "# processor.processVkUser(api, 1422)"
   ]
  },
  {
   "cell_type": "code",
   "execution_count": null,
   "metadata": {},
   "outputs": [],
   "source": [
    "[i.stop() for i in threads]"
   ]
  },
  {
   "cell_type": "code",
   "execution_count": null,
   "metadata": {},
   "outputs": [],
   "source": []
  }
 ],
 "metadata": {
  "kernelspec": {
   "display_name": "FaceScrape",
   "language": "python",
   "name": "facescrape"
  },
  "language_info": {
   "codemirror_mode": {
    "name": "ipython",
    "version": 3
   },
   "file_extension": ".py",
   "mimetype": "text/x-python",
   "name": "python",
   "nbconvert_exporter": "python",
   "pygments_lexer": "ipython3",
   "version": "3.7.7"
  }
 },
 "nbformat": 4,
 "nbformat_minor": 4
}
