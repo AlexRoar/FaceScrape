{
 "cells": [
  {
   "cell_type": "code",
   "execution_count": 1,
   "metadata": {},
   "outputs": [
    {
     "name": "stderr",
     "output_type": "stream",
     "text": [
      "Using TensorFlow backend.\n"
     ]
    }
   ],
   "source": [
    "from keras.models import load_model\n",
    "import os\n",
    "import keras.backend.tensorflow_backend as tb\n",
    "tb._SYMBOLIC_SCOPE.value = True\n",
    "os.environ['KMP_DUPLICATE_LIB_OK']='True'\n",
    "from keras_facenet import FaceNet\n",
    "\n",
    "\n",
    "import time\n",
    "import json\n",
    "import mysql.connector\n",
    "from SocialProcessor import SocialProcessor\n",
    "\n",
    "import vk_api\n",
    "import threading\n",
    "\n",
    "%matplotlib inline"
   ]
  },
  {
   "cell_type": "code",
   "execution_count": 2,
   "metadata": {},
   "outputs": [],
   "source": [
    "class StoppableThread(threading.Thread):\n",
    "    \"\"\"\n",
    "    Thread class with a stop() method. The thread itself has to check\n",
    "    regularly for the stopped() condition.\n",
    "    \n",
    "    \"\"\"\n",
    "    func = None\n",
    "    args = {}\n",
    "    processed_num = 0\n",
    "\n",
    "    def __init__(self,  *args, **kwargs):\n",
    "        super(StoppableThread, self).__init__(*args, **kwargs)\n",
    "        self._stop_event = threading.Event()\n",
    "\n",
    "    def stop(self):\n",
    "        self._stop_event.set()\n",
    "\n",
    "    def stopped(self):\n",
    "        return self._stop_event.is_set()\n",
    "    \n",
    "    def run(self):\n",
    "        self.args['thread'] = self\n",
    "        self.func(**self.args)\n",
    "    "
   ]
  },
  {
   "cell_type": "code",
   "execution_count": 3,
   "metadata": {},
   "outputs": [
    {
     "name": "stderr",
     "output_type": "stream",
     "text": [
      "/Users/aleksandrdremov/anaconda3/envs/FaceScrape/lib/python3.7/site-packages/keras/engine/saving.py:341: UserWarning: No training configuration found in save file: the model was *not* compiled. Compile it manually.\n",
      "  warnings.warn('No training configuration found in save file: '\n"
     ]
    }
   ],
   "source": [
    "model_path = 'keras-facenet-master/model/keras/model/facenet_keras.h5'\n",
    "model = load_model(model_path)"
   ]
  },
  {
   "cell_type": "code",
   "execution_count": 4,
   "metadata": {},
   "outputs": [],
   "source": [
    "def aunt_vk():\n",
    "    return input(), True\n",
    "\n",
    "\n",
    "def capt_vk(captcha):\n",
    "    print(captcha.get_url())\n",
    "    inp = input()\n",
    "    captcha.try_again(inp)"
   ]
  },
  {
   "cell_type": "code",
   "execution_count": 5,
   "metadata": {},
   "outputs": [],
   "source": [
    "credentials = {}\n",
    "with open('credentials.json', 'r') as file:\n",
    "    credentials = json.load(file)"
   ]
  },
  {
   "cell_type": "code",
   "execution_count": 6,
   "metadata": {
    "pycharm": {
     "name": "#%%\n"
    }
   },
   "outputs": [],
   "source": [
    "vk_session = vk_api.VkApi(credentials['login'], credentials['password'], auth_handler=aunt_vk, captcha_handler=capt_vk)\n",
    "vk_session.auth()\n",
    "\n",
    "api = vk_session.get_api()"
   ]
  },
  {
   "cell_type": "code",
   "execution_count": 7,
   "metadata": {},
   "outputs": [],
   "source": [
    "def performVkProcessing(delay=0, count=1, thread=False):\n",
    "    conn = mysql.connector.connect(user='face', host=\"localhost\", password=\"Hr3mI3PM5JlFWrub\", database='global_scrape', port=8889, collation=\"utf8mb4_general_ci\")\n",
    "    processor = SocialProcessor(conn, model, prefix='/Users/aleksandrdremov/PycharmProjects/GlobalScraper/', batch=600, limit=500)\n",
    "    time.sleep(delay)\n",
    "    while count>0:\n",
    "        if type(thread) != type(False):\n",
    "            if thread.stopped():\n",
    "                break\n",
    "        try:\n",
    "            task = processor.getTask()\n",
    "        except:\n",
    "            return\n",
    "        user_id = task[0]\n",
    "        query_id = task[-1]\n",
    "        processor.delTask(query_id)\n",
    "        \n",
    "        processor.processVkUser(api, user_id, des_type=\"y\")\n",
    "        if type(thread) != type(False):\n",
    "            thread.processed_num += 1\n",
    "        count-=1"
   ]
  },
  {
   "cell_type": "code",
   "execution_count": null,
   "metadata": {},
   "outputs": [],
   "source": [
    "performVkProcessing(0, 1)"
   ]
  },
  {
   "cell_type": "code",
   "execution_count": 8,
   "metadata": {},
   "outputs": [
    {
     "data": {
      "text/plain": [
       "5"
      ]
     },
     "execution_count": 8,
     "metadata": {},
     "output_type": "execute_result"
    }
   ],
   "source": [
    "threads = []\n",
    "threading.active_count()"
   ]
  },
  {
   "cell_type": "code",
   "execution_count": 17,
   "metadata": {},
   "outputs": [
    {
     "name": "stdout",
     "output_type": "stream",
     "text": [
      "\n",
      "356078419:\n",
      "Added 0 rows\n",
      "29373952:\n",
      "Procesing 527759031\n"
     ]
    },
    {
     "data": {
      "application/vnd.jupyter.widget-view+json": {
       "model_id": "acc76f9689e549bf9bd4e7a6bcac8acd",
       "version_major": 2,
       "version_minor": 0
      },
      "text/plain": [
       "HBox(children=(FloatProgress(value=0.0, max=1.0), HTML(value='')))"
      ]
     },
     "metadata": {},
     "output_type": "display_data"
    },
    {
     "name": "stdout",
     "output_type": "stream",
     "text": [
      "Empty face: https://sun9-20.userapi.com/c626523/v626523828/238f7/jWbQtNWmVj4.jpg (1700, 1564, 807, 605)\n",
      "\n"
     ]
    }
   ],
   "source": [
    "def addThreads(current_num, max_num=20):\n",
    "    t_num = max(0, max_num - current_num)\n",
    "    limits = 10\n",
    "    step = 1.5\n",
    "    params = [(i*step, limits) for i in range(t_num)]\n",
    "    print(\"Added %s threads\"% (len(params)))\n",
    "    for args in params:\n",
    "        x = StoppableThread()\n",
    "        x.func = performVkProcessing\n",
    "        args = {\"delay\": args[0], \"count\": args[1]}\n",
    "        x.args = args\n",
    "        x.start()\n",
    "        threads.append(x)"
   ]
  },
  {
   "cell_type": "code",
   "execution_count": 18,
   "metadata": {},
   "outputs": [],
   "source": [
    "avg = 0\n",
    "betta = 0.9"
   ]
  },
  {
   "cell_type": "code",
   "execution_count": 19,
   "metadata": {},
   "outputs": [
    {
     "name": "stdout",
     "output_type": "stream",
     "text": [
      "Active threads: 10\n",
      "Added 10 threads\n",
      "Active threads: 20\n",
      "Empty face: https://sun3-10.userapi.com/OIWNIZ6aAVGwzEzlguzf7pxDJP3Uh499xKHkoA/XmicWNaIG3A.jpg (1518, 1631, 646, 807)\n",
      "Procesing 142424778\n"
     ]
    },
    {
     "data": {
      "application/vnd.jupyter.widget-view+json": {
       "model_id": "e32097756b5c42d3a71b4af07d76876e",
       "version_major": 2,
       "version_minor": 0
      },
      "text/plain": [
       "HBox(children=(FloatProgress(value=0.0, max=18.0), HTML(value='')))"
      ]
     },
     "metadata": {},
     "output_type": "display_data"
    },
    {
     "name": "stdout",
     "output_type": "stream",
     "text": [
      "Procesing 89532018\n"
     ]
    },
    {
     "data": {
      "application/vnd.jupyter.widget-view+json": {
       "model_id": "33d3891fecb047a28b22ba050bf56d8b",
       "version_major": 2,
       "version_minor": 0
      },
      "text/plain": [
       "HBox(children=(FloatProgress(value=0.0, max=467.0), HTML(value='')))"
      ]
     },
     "metadata": {},
     "output_type": "display_data"
    },
    {
     "name": "stdout",
     "output_type": "stream",
     "text": [
      "527759031:\n",
      "Added 2 rows\n",
      "348620732:\n",
      "Added 9 rows\n",
      "Procesing 72518720\n"
     ]
    },
    {
     "data": {
      "application/vnd.jupyter.widget-view+json": {
       "model_id": "a6bc6f8e1e484b7587c80a4a0b4560ba",
       "version_major": 2,
       "version_minor": 0
      },
      "text/plain": [
       "HBox(children=(FloatProgress(value=0.0, max=14.0), HTML(value='')))"
      ]
     },
     "metadata": {},
     "output_type": "display_data"
    },
    {
     "name": "stdout",
     "output_type": "stream",
     "text": [
      "Procesing 274670920\n"
     ]
    },
    {
     "data": {
      "application/vnd.jupyter.widget-view+json": {
       "model_id": "6e01735c469b4b2180cf3fe03cfc2781",
       "version_major": 2,
       "version_minor": 0
      },
      "text/plain": [
       "HBox(children=(FloatProgress(value=0.0, max=4.0), HTML(value='')))"
      ]
     },
     "metadata": {},
     "output_type": "display_data"
    },
    {
     "name": "stdout",
     "output_type": "stream",
     "text": [
      "Procesing 454410948\n"
     ]
    },
    {
     "data": {
      "application/vnd.jupyter.widget-view+json": {
       "model_id": "beda3b35c3d542c6862fb20277003cac",
       "version_major": 2,
       "version_minor": 0
      },
      "text/plain": [
       "HBox(children=(FloatProgress(value=0.0, max=39.0), HTML(value='')))"
      ]
     },
     "metadata": {},
     "output_type": "display_data"
    },
    {
     "name": "stdout",
     "output_type": "stream",
     "text": [
      "Added 177 rows\n",
      "Added 154 rows\n",
      "\n",
      "274670920:\n",
      "Added 0 rows\n",
      "\n",
      "Procesing 232339898\n"
     ]
    },
    {
     "data": {
      "application/vnd.jupyter.widget-view+json": {
       "model_id": "42dcd171faa9422a834ec4e0f93b1743",
       "version_major": 2,
       "version_minor": 0
      },
      "text/plain": [
       "HBox(children=(FloatProgress(value=0.0, max=1.0), HTML(value='')))"
      ]
     },
     "metadata": {},
     "output_type": "display_data"
    },
    {
     "name": "stdout",
     "output_type": "stream",
     "text": [
      "\n",
      "232339898:\n",
      "Added 0 rows\n",
      "\n",
      "Procesing 20297920\n"
     ]
    },
    {
     "data": {
      "application/vnd.jupyter.widget-view+json": {
       "model_id": "10be4220ea7943db9426984c0634eaef",
       "version_major": 2,
       "version_minor": 0
      },
      "text/plain": [
       "HBox(children=(FloatProgress(value=0.0, max=294.0), HTML(value='')))"
      ]
     },
     "metadata": {},
     "output_type": "display_data"
    },
    {
     "name": "stdout",
     "output_type": "stream",
     "text": [
      "Empty face: https://sun9-34.userapi.com/c834404/v834404801/89f18/MxS3iHSEROs.jpg (1622, 1616, 807, 713)\n",
      "Procesing 260005702\n"
     ]
    },
    {
     "data": {
      "application/vnd.jupyter.widget-view+json": {
       "model_id": "3d22cc3d42764bf89a7ca0402aacd7a5",
       "version_major": 2,
       "version_minor": 0
      },
      "text/plain": [
       "HBox(children=(FloatProgress(value=0.0, max=3.0), HTML(value='')))"
      ]
     },
     "metadata": {},
     "output_type": "display_data"
    },
    {
     "name": "stdout",
     "output_type": "stream",
     "text": [
      "Empty face: https://sun9-34.userapi.com/c834404/v834404801/89f18/MxS3iHSEROs.jpg (1620, 2291, 807, 713)\n",
      "Empty face: https://sun9-34.userapi.com/c834404/v834404801/89f18/MxS3iHSEROs.jpg (906, 1600, 807, 713)\n",
      "\n",
      "Procesing 125742976\n"
     ]
    },
    {
     "data": {
      "application/vnd.jupyter.widget-view+json": {
       "model_id": "d0b7b6b488284d6093d136bba3db76d4",
       "version_major": 2,
       "version_minor": 0
      },
      "text/plain": [
       "HBox(children=(FloatProgress(value=0.0, max=8.0), HTML(value='')))"
      ]
     },
     "metadata": {},
     "output_type": "display_data"
    },
    {
     "name": "stdout",
     "output_type": "stream",
     "text": [
      "Procesing 433288862\n"
     ]
    },
    {
     "data": {
      "application/vnd.jupyter.widget-view+json": {
       "model_id": "fdef4c2649c943d2a4c433c32a128112",
       "version_major": 2,
       "version_minor": 0
      },
      "text/plain": [
       "HBox(children=(FloatProgress(value=0.0, max=21.0), HTML(value='')))"
      ]
     },
     "metadata": {},
     "output_type": "display_data"
    },
    {
     "name": "stdout",
     "output_type": "stream",
     "text": [
      "Procesing 181404140\n"
     ]
    },
    {
     "data": {
      "application/vnd.jupyter.widget-view+json": {
       "model_id": "0f46303e36004e2ead3285f71779c29e",
       "version_major": 2,
       "version_minor": 0
      },
      "text/plain": [
       "HBox(children=(FloatProgress(value=0.0, max=22.0), HTML(value='')))"
      ]
     },
     "metadata": {},
     "output_type": "display_data"
    },
    {
     "name": "stdout",
     "output_type": "stream",
     "text": [
      "Procesing 346423051\n"
     ]
    },
    {
     "data": {
      "application/vnd.jupyter.widget-view+json": {
       "model_id": "b255a517ea834a5a89d4a0548fc7367e",
       "version_major": 2,
       "version_minor": 0
      },
      "text/plain": [
       "HBox(children=(FloatProgress(value=0.0, max=15.0), HTML(value='')))"
      ]
     },
     "metadata": {},
     "output_type": "display_data"
    },
    {
     "name": "stdout",
     "output_type": "stream",
     "text": [
      "Procesing 230853332\n"
     ]
    },
    {
     "data": {
      "application/vnd.jupyter.widget-view+json": {
       "model_id": "85ab80f5f0e74e3abc77379af695159a",
       "version_major": 2,
       "version_minor": 0
      },
      "text/plain": [
       "HBox(children=(FloatProgress(value=0.0, max=77.0), HTML(value='')))"
      ]
     },
     "metadata": {},
     "output_type": "display_data"
    },
    {
     "name": "stdout",
     "output_type": "stream",
     "text": [
      "Procesing 192386423\n"
     ]
    },
    {
     "data": {
      "application/vnd.jupyter.widget-view+json": {
       "model_id": "502bc3de1ea0449793d7d75cc581cdc1",
       "version_major": 2,
       "version_minor": 0
      },
      "text/plain": [
       "HBox(children=(FloatProgress(value=0.0, max=49.0), HTML(value='')))"
      ]
     },
     "metadata": {},
     "output_type": "display_data"
    },
    {
     "name": "stdout",
     "output_type": "stream",
     "text": [
      "260005702:\n",
      "Added 2 rows\n",
      "Procesing 30487109\n"
     ]
    },
    {
     "data": {
      "application/vnd.jupyter.widget-view+json": {
       "model_id": "61aa3be8252048c5b50931b666b95489",
       "version_major": 2,
       "version_minor": 0
      },
      "text/plain": [
       "HBox(children=(FloatProgress(value=0.0, max=500.0), HTML(value='')))"
      ]
     },
     "metadata": {},
     "output_type": "display_data"
    },
    {
     "name": "stdout",
     "output_type": "stream",
     "text": [
      "Speed: 0.5325441019409034 obj/sec (16 in 30.04446005821228 seconds). AVG: 0.05325441019409033\n",
      "Active threads: 18\n",
      "Added 2 threads\n",
      "Active threads: 20\n",
      "72518720:\n",
      "\n",
      "Empty face: https://sun9-65.userapi.com/c834100/v834100216/9ce85/a6OK2HE_6kA.jpg (1634, 1490, 807, 605)\n",
      "Empty face: https://sun9-65.userapi.com/c834100/v834100216/9ce85/a6OK2HE_6kA.jpg (1608, 769, 807, 605)\n",
      "Added 10 rows\n",
      "Procesing 8987491\n"
     ]
    },
    {
     "data": {
      "application/vnd.jupyter.widget-view+json": {
       "model_id": "325f6a4f82fb4f29b1e8f24ecdf061bc",
       "version_major": 2,
       "version_minor": 0
      },
      "text/plain": [
       "HBox(children=(FloatProgress(value=0.0, max=332.0), HTML(value='')))"
      ]
     },
     "metadata": {},
     "output_type": "display_data"
    },
    {
     "name": "stdout",
     "output_type": "stream",
     "text": [
      "Procesing 176711613\n"
     ]
    },
    {
     "data": {
      "application/vnd.jupyter.widget-view+json": {
       "model_id": "d3956161a68642a7bd95ac717426c804",
       "version_major": 2,
       "version_minor": 0
      },
      "text/plain": [
       "HBox(children=(FloatProgress(value=0.0, max=43.0), HTML(value='')))"
      ]
     },
     "metadata": {},
     "output_type": "display_data"
    },
    {
     "name": "stdout",
     "output_type": "stream",
     "text": [
      "Procesing 11242126\n",
      "142424778:\n"
     ]
    },
    {
     "data": {
      "application/vnd.jupyter.widget-view+json": {
       "model_id": "5bd2e76c9c514ed7973a306634d7f2bf",
       "version_major": 2,
       "version_minor": 0
      },
      "text/plain": [
       "HBox(children=(FloatProgress(value=0.0, max=54.0), HTML(value='')))"
      ]
     },
     "metadata": {},
     "output_type": "display_data"
    },
    {
     "name": "stdout",
     "output_type": "stream",
     "text": [
      "125742976:\n",
      "Added 1 rows\n",
      "Procesing 11045716\n"
     ]
    },
    {
     "data": {
      "application/vnd.jupyter.widget-view+json": {
       "model_id": "cef7bddb58824785a5ce9d907cb6d647",
       "version_major": 2,
       "version_minor": 0
      },
      "text/plain": [
       "HBox(children=(FloatProgress(value=0.0, max=78.0), HTML(value='')))"
      ]
     },
     "metadata": {},
     "output_type": "display_data"
    },
    {
     "name": "stdout",
     "output_type": "stream",
     "text": [
      "Added 15 rows\n",
      "22400451:\n",
      "Procesing 77771738\n"
     ]
    },
    {
     "data": {
      "application/vnd.jupyter.widget-view+json": {
       "model_id": "6be38fbebeae483a93f5408726687360",
       "version_major": 2,
       "version_minor": 0
      },
      "text/plain": [
       "HBox(children=(FloatProgress(value=0.0, max=417.0), HTML(value='')))"
      ]
     },
     "metadata": {},
     "output_type": "display_data"
    },
    {
     "name": "stdout",
     "output_type": "stream",
     "text": [
      "\n",
      "346423051:\n",
      "Added 0 rows\n",
      "Procesing 121718507\n"
     ]
    },
    {
     "data": {
      "application/vnd.jupyter.widget-view+json": {
       "model_id": "cb13d85b8f3e4cee8eb1391ccc491a0b",
       "version_major": 2,
       "version_minor": 0
      },
      "text/plain": [
       "HBox(children=(FloatProgress(value=0.0, max=7.0), HTML(value='')))"
      ]
     },
     "metadata": {},
     "output_type": "display_data"
    },
    {
     "name": "stdout",
     "output_type": "stream",
     "text": [
      "\n",
      "Empty face: https://sun9-26.userapi.com/c465/u11045716/-6/m_0757e667.jpg (258, 245, 130, 112)\n",
      "Empty face: https://sun9-26.userapi.com/c465/u11045716/-6/m_0757e667.jpg (379, 244, 130, 112)\n",
      "Empty face: https://sun9-26.userapi.com/c465/u11045716/-6/m_0757e667.jpg (263, 131, 130, 112)\n",
      "454410948:\n",
      "Added 4 rows\n",
      "185261106:\n",
      "Procesing 135907203\n"
     ]
    },
    {
     "data": {
      "application/vnd.jupyter.widget-view+json": {
       "model_id": "f168c85051c74f1ba359699dcb0539c0",
       "version_major": 2,
       "version_minor": 0
      },
      "text/plain": [
       "HBox(children=(FloatProgress(value=0.0, max=56.0), HTML(value='')))"
      ]
     },
     "metadata": {},
     "output_type": "display_data"
    },
    {
     "name": "stdout",
     "output_type": "stream",
     "text": [
      "\n",
      "\n",
      "235976958:\n",
      "181404140:\n",
      "Added 4 rows\n",
      "121718507:\n",
      "\n",
      "Added 5 rows\n",
      "Procesing 246738678\n"
     ]
    },
    {
     "data": {
      "application/vnd.jupyter.widget-view+json": {
       "model_id": "46f68230df38423d9056be59534551ed",
       "version_major": 2,
       "version_minor": 0
      },
      "text/plain": [
       "HBox(children=(FloatProgress(value=0.0), HTML(value='')))"
      ]
     },
     "metadata": {},
     "output_type": "display_data"
    },
    {
     "name": "stdout",
     "output_type": "stream",
     "text": [
      "Procesing 142018407\n"
     ]
    },
    {
     "data": {
      "application/vnd.jupyter.widget-view+json": {
       "model_id": "113c1667dd1141daae39f8fc758a20bb",
       "version_major": 2,
       "version_minor": 0
      },
      "text/plain": [
       "HBox(children=(FloatProgress(value=0.0, max=76.0), HTML(value='')))"
      ]
     },
     "metadata": {},
     "output_type": "display_data"
    },
    {
     "name": "stdout",
     "output_type": "stream",
     "text": [
      "Added 132 rows\n",
      "Added 74 rows\n",
      "Procesing 310939999\n"
     ]
    },
    {
     "data": {
      "application/vnd.jupyter.widget-view+json": {
       "model_id": "ba2e365876b24bf496c03328426d9ca5",
       "version_major": 2,
       "version_minor": 0
      },
      "text/plain": [
       "HBox(children=(FloatProgress(value=0.0, max=86.0), HTML(value='')))"
      ]
     },
     "metadata": {},
     "output_type": "display_data"
    },
    {
     "name": "stdout",
     "output_type": "stream",
     "text": [
      "Speed: 0.43328333133654323 obj/sec (13 in 30.003462076187134 seconds). AVG: 0.09125730230833562\n",
      "Active threads: 20\n",
      "Added 0 threads\n",
      "Active threads: 20\n",
      "Procesing 6860344\n"
     ]
    },
    {
     "data": {
      "application/vnd.jupyter.widget-view+json": {
       "model_id": "46cf20af10a64f6ab849f28526404b70",
       "version_major": 2,
       "version_minor": 0
      },
      "text/plain": [
       "HBox(children=(FloatProgress(value=0.0, max=191.0), HTML(value='')))"
      ]
     },
     "metadata": {},
     "output_type": "display_data"
    },
    {
     "name": "stdout",
     "output_type": "stream",
     "text": [
      "433288862:\n",
      "Added 20 rows\n",
      "Procesing 49815499\n"
     ]
    },
    {
     "data": {
      "application/vnd.jupyter.widget-view+json": {
       "model_id": "fcdfd57922c2495c89282d015ecf1575",
       "version_major": 2,
       "version_minor": 0
      },
      "text/plain": [
       "HBox(children=(FloatProgress(value=0.0, max=57.0), HTML(value='')))"
      ]
     },
     "metadata": {},
     "output_type": "display_data"
    },
    {
     "name": "stdout",
     "output_type": "stream",
     "text": [
      "Empty face: https://sun9-11.userapi.com/c629209/v629209203/8886/JxLfqE2HQjA.jpg (698, 717, 640, 640)\n",
      "Empty face: https://sun9-26.userapi.com/c993/u11045716/-6/m_a1a683e4.jpg (251, 256, 130, 130)\n",
      "Empty face: https://sun9-26.userapi.com/c993/u11045716/-6/m_a1a683e4.jpg (142, 255, 130, 130)\n",
      "Empty face: https://sun9-26.userapi.com/c993/u11045716/-6/m_a1a683e4.jpg (142, 143, 130, 130)\n",
      "Empty face: https://sun9-26.userapi.com/c993/u11045716/-6/m_a1a683e4.jpg (252, 144, 130, 130)\n",
      "\n",
      "Speed: 0.03330594804532752 obj/sec (1 in 30.024667024612427 seconds). AVG: 0.08546216688203481\n",
      "Active threads: 20\n",
      "Added 0 threads\n",
      "Active threads: 20\n",
      "\n",
      "\n",
      "11242126:\n",
      "Added 2 rows\n",
      "Procesing 134002362\n"
     ]
    },
    {
     "data": {
      "application/vnd.jupyter.widget-view+json": {
       "model_id": "634d1cf827874292b31f5c434382047f",
       "version_major": 2,
       "version_minor": 0
      },
      "text/plain": [
       "HBox(children=(FloatProgress(value=0.0, max=6.0), HTML(value='')))"
      ]
     },
     "metadata": {},
     "output_type": "display_data"
    },
    {
     "name": "stdout",
     "output_type": "stream",
     "text": [
      "Empty face: https://sun9-2.userapi.com/c630516/v630516924/1d7f3/f_9Ld2Zk7jg.jpg (1667, 1635, 807, 807)\n",
      "Empty face: https://sun9-10.userapi.com/c629514/v629514904/26361/PTcpZ8U7LUQ.jpg (148, 151, 75, 75)\n",
      "\n",
      "134002362:\n",
      "Added 7 rows\n",
      "Procesing 132071684\n"
     ]
    },
    {
     "data": {
      "application/vnd.jupyter.widget-view+json": {
       "model_id": "092772b4c0464f93828ee98e97b0e297",
       "version_major": 2,
       "version_minor": 0
      },
      "text/plain": [
       "HBox(children=(FloatProgress(value=0.0, max=6.0), HTML(value='')))"
      ]
     },
     "metadata": {},
     "output_type": "display_data"
    },
    {
     "name": "stdout",
     "output_type": "stream",
     "text": [
      "176711613:\n",
      "\n",
      "\n",
      "Added 409 rows\n",
      "Procesing 515192679\n"
     ]
    },
    {
     "data": {
      "application/vnd.jupyter.widget-view+json": {
       "model_id": "0e92c38d6e29403da01b6f37a2f587ad",
       "version_major": 2,
       "version_minor": 0
      },
      "text/plain": [
       "HBox(children=(FloatProgress(value=0.0, max=187.0), HTML(value='')))"
      ]
     },
     "metadata": {},
     "output_type": "display_data"
    },
    {
     "name": "stdout",
     "output_type": "stream",
     "text": [
      "Speed: 0.16664144844642229 obj/sec (5 in 30.004539966583252 seconds). AVG: 0.09358009503847356\n",
      "Active threads: 20\n",
      "Added 0 threads\n",
      "Active threads: 20\n",
      "\n",
      "Added 44 rows\n",
      "Procesing 388145196\n"
     ]
    },
    {
     "data": {
      "application/vnd.jupyter.widget-view+json": {
       "model_id": "ab7f7891be2c40a59ca234cd28f584f3",
       "version_major": 2,
       "version_minor": 0
      },
      "text/plain": [
       "HBox(children=(FloatProgress(value=0.0, max=1.0), HTML(value='')))"
      ]
     },
     "metadata": {},
     "output_type": "display_data"
    },
    {
     "name": "stdout",
     "output_type": "stream",
     "text": [
      "\n",
      "132071684:\n",
      "Added 5 rows\n",
      "Procesing 209668842\n"
     ]
    },
    {
     "data": {
      "application/vnd.jupyter.widget-view+json": {
       "model_id": "b0aa7cc787ac4e91931e451903491cbd",
       "version_major": 2,
       "version_minor": 0
      },
      "text/plain": [
       "HBox(children=(FloatProgress(value=0.0, max=5.0), HTML(value='')))"
      ]
     },
     "metadata": {},
     "output_type": "display_data"
    },
    {
     "name": "stdout",
     "output_type": "stream",
     "text": [
      "388145196:\n",
      "Added 1 rows\n",
      "Empty face: https://sun3-13.userapi.com/Q2SXpV703B9uCCGPua4RglRznA6Dz-EW-Mj8CQ/xPCABOiqJv8.jpg (1311, 1254, 640, 640)\n",
      "Empty face: https://sun3-13.userapi.com/Q2SXpV703B9uCCGPua4RglRznA6Dz-EW-Mj8CQ/xPCABOiqJv8.jpg (1300, 693, 640, 640)\n",
      "Procesing 826219\n"
     ]
    },
    {
     "data": {
      "application/vnd.jupyter.widget-view+json": {
       "model_id": "7176d061872646529913454477526e7b",
       "version_major": 2,
       "version_minor": 0
      },
      "text/plain": [
       "HBox(children=(FloatProgress(value=0.0, max=1.0), HTML(value='')))"
      ]
     },
     "metadata": {},
     "output_type": "display_data"
    },
    {
     "name": "stdout",
     "output_type": "stream",
     "text": [
      "\n",
      "826219:\n",
      "Added 0 rows\n",
      "Procesing 162828487\n"
     ]
    },
    {
     "data": {
      "application/vnd.jupyter.widget-view+json": {
       "model_id": "95a722bb84404fac9bf6cc0ec98f2001",
       "version_major": 2,
       "version_minor": 0
      },
      "text/plain": [
       "HBox(children=(FloatProgress(value=0.0, max=6.0), HTML(value='')))"
      ]
     },
     "metadata": {},
     "output_type": "display_data"
    },
    {
     "name": "stdout",
     "output_type": "stream",
     "text": [
      "\n",
      "\n",
      "Empty face: https://sun9-26.userapi.com/c849036/v849036288/f17e2/_0uGmdydzvU.jpg (1651, 1571, 807, 702)\n",
      "\n",
      "\n",
      "162828487:\n",
      "Added 1 rows\n",
      "Procesing 181547264\n"
     ]
    },
    {
     "data": {
      "application/vnd.jupyter.widget-view+json": {
       "model_id": "2121e7fd42644766bf81926fd4d4abe1",
       "version_major": 2,
       "version_minor": 0
      },
      "text/plain": [
       "HBox(children=(FloatProgress(value=0.0, max=39.0), HTML(value='')))"
      ]
     },
     "metadata": {},
     "output_type": "display_data"
    },
    {
     "name": "stdout",
     "output_type": "stream",
     "text": [
      "192386423:\n",
      "Speed: 0.2666559986567717 obj/sec (8 in 30.001200199127197 seconds). AVG: 0.11088768540030337\n",
      "Active threads: 20\n",
      "Added 0 threads\n",
      "Active threads: 20\n",
      "Added 54 rows\n",
      "49815499:\n",
      "Empty face: https://sun3-13.userapi.com/2cZlSmSiFfKW9SkgQWXZqT6H5Qte64UqEGcTUg/-gylJbakZbM.jpg (152, 137, 75, 56)\n",
      "Empty face: https://sun3-13.userapi.com/2cZlSmSiFfKW9SkgQWXZqT6H5Qte64UqEGcTUg/-gylJbakZbM.jpg (215, 136, 75, 56)\n",
      "Empty face: https://sun3-13.userapi.com/2cZlSmSiFfKW9SkgQWXZqT6H5Qte64UqEGcTUg/-gylJbakZbM.jpg (153, 74, 75, 56)\n",
      "Empty face: https://sun3-13.userapi.com/2cZlSmSiFfKW9SkgQWXZqT6H5Qte64UqEGcTUg/-gylJbakZbM.jpg (218, 73, 75, 56)\n",
      "Empty face: https://sun3-13.userapi.com/2cZlSmSiFfKW9SkgQWXZqT6H5Qte64UqEGcTUg/-gylJbakZbM.jpg (153, 207, 75, 56)\n",
      "Empty face: https://sun3-13.userapi.com/2cZlSmSiFfKW9SkgQWXZqT6H5Qte64UqEGcTUg/-gylJbakZbM.jpg (85, 138, 75, 56)\n",
      "Procesing 79732440\n"
     ]
    },
    {
     "data": {
      "application/vnd.jupyter.widget-view+json": {
       "model_id": "675c955d7e7a4bc5be4bae3254e71e25",
       "version_major": 2,
       "version_minor": 0
      },
      "text/plain": [
       "HBox(children=(FloatProgress(value=0.0, max=97.0), HTML(value='')))"
      ]
     },
     "metadata": {},
     "output_type": "display_data"
    },
    {
     "name": "stdout",
     "output_type": "stream",
     "text": [
      "209668842:\n",
      "Added 10 rows\n",
      "Procesing 226643221\n",
      "Added 10 rows\n"
     ]
    },
    {
     "data": {
      "application/vnd.jupyter.widget-view+json": {
       "model_id": "d485628d3ab64976919369258148a7e1",
       "version_major": 2,
       "version_minor": 0
      },
      "text/plain": [
       "HBox(children=(FloatProgress(value=0.0, max=7.0), HTML(value='')))"
      ]
     },
     "metadata": {},
     "output_type": "display_data"
    },
    {
     "name": "stdout",
     "output_type": "stream",
     "text": [
      "\n",
      "Procesing 118195268\n"
     ]
    },
    {
     "data": {
      "application/vnd.jupyter.widget-view+json": {
       "model_id": "b5801b6cdae74f9d8a317170a5155413",
       "version_major": 2,
       "version_minor": 0
      },
      "text/plain": [
       "HBox(children=(FloatProgress(value=0.0, max=3.0), HTML(value='')))"
      ]
     },
     "metadata": {},
     "output_type": "display_data"
    },
    {
     "name": "stdout",
     "output_type": "stream",
     "text": [
      "\n",
      "\n",
      "118195268:\n",
      "Added 0 rows\n",
      "Procesing 213991716\n"
     ]
    },
    {
     "data": {
      "application/vnd.jupyter.widget-view+json": {
       "model_id": "8731bdbc986a4b4d9b83d14ce909328b",
       "version_major": 2,
       "version_minor": 0
      },
      "text/plain": [
       "HBox(children=(FloatProgress(value=0.0, max=121.0), HTML(value='')))"
      ]
     },
     "metadata": {},
     "output_type": "display_data"
    },
    {
     "name": "stdout",
     "output_type": "stream",
     "text": [
      "\n",
      "Empty face: https://sun9-42.userapi.com/c308123/v308123264/bc7e/yXaOSx9-jTs.jpg (147, 139, 75, 56)\n",
      "Empty face: https://sun9-42.userapi.com/c308123/v308123264/bc7e/yXaOSx9-jTs.jpg (83, 139, 75, 56)\n",
      "Empty face: https://sun9-42.userapi.com/c308123/v308123264/bc7e/yXaOSx9-jTs.jpg (149, 73, 75, 56)\n",
      "226643221:\n",
      "Added 2 rows\n",
      "230853332:\n",
      "Procesing 405735108\n"
     ]
    },
    {
     "data": {
      "application/vnd.jupyter.widget-view+json": {
       "model_id": "d05e541fd7db43f7a7fd5a8715c8c08e",
       "version_major": 2,
       "version_minor": 0
      },
      "text/plain": [
       "HBox(children=(FloatProgress(value=0.0, max=25.0), HTML(value='')))"
      ]
     },
     "metadata": {},
     "output_type": "display_data"
    },
    {
     "name": "stdout",
     "output_type": "stream",
     "text": [
      "135907203:\n",
      "Empty face: https://sun3-12.userapi.com/lBrROXLI-iTR4RmX9NxokpXRML1-Acrpw8ldGQ/AV-n_8WChTg.jpg (146, 138, 75, 63)\n",
      "Empty face: https://sun3-12.userapi.com/lBrROXLI-iTR4RmX9NxokpXRML1-Acrpw8ldGQ/AV-n_8WChTg.jpg (218, 141, 75, 63)\n",
      "Empty face: https://sun3-12.userapi.com/lBrROXLI-iTR4RmX9NxokpXRML1-Acrpw8ldGQ/AV-n_8WChTg.jpg (147, 73, 75, 63)\n",
      "Empty face: https://sun3-12.userapi.com/lBrROXLI-iTR4RmX9NxokpXRML1-Acrpw8ldGQ/AV-n_8WChTg.jpg (79, 140, 75, 63)\n",
      "Empty face: https://sun3-12.userapi.com/lBrROXLI-iTR4RmX9NxokpXRML1-Acrpw8ldGQ/AV-n_8WChTg.jpg (149, 208, 75, 63)\n",
      "Empty face: https://sun3-12.userapi.com/lBrROXLI-iTR4RmX9NxokpXRML1-Acrpw8ldGQ/AV-n_8WChTg.jpg (223, 213, 75, 63)\n",
      "Empty face: https://sun3-12.userapi.com/lBrROXLI-iTR4RmX9NxokpXRML1-Acrpw8ldGQ/AV-n_8WChTg.jpg (220, 74, 75, 63)\n",
      "Empty face: https://sun3-12.userapi.com/lBrROXLI-iTR4RmX9NxokpXRML1-Acrpw8ldGQ/AV-n_8WChTg.jpg (81, 75, 75, 63)\n",
      "Empty face: https://sun3-12.userapi.com/lBrROXLI-iTR4RmX9NxokpXRML1-Acrpw8ldGQ/AV-n_8WChTg.jpg (286, 139, 75, 63)\n",
      "Empty face: https://sun9-43.userapi.com/c857124/v857124069/176180/gRdevdRlSUw.jpg (1574, 1636, 807, 807)\n",
      "Empty face: https://sun9-43.userapi.com/c857124/v857124069/176180/gRdevdRlSUw.jpg (1592, 2344, 807, 807)\n",
      "Empty face: https://sun9-43.userapi.com/c857124/v857124069/176180/gRdevdRlSUw.jpg (866, 1627, 807, 807)\n",
      "Empty face: https://sun9-43.userapi.com/c857124/v857124069/176180/gRdevdRlSUw.jpg (898, 2377, 807, 807)\n",
      "11045716:\n",
      "\n",
      "Added 45 rows\n",
      "Procesing 316345363\n"
     ]
    },
    {
     "data": {
      "application/vnd.jupyter.widget-view+json": {
       "model_id": "96408f12f68b4a57bfa809b3243d45da",
       "version_major": 2,
       "version_minor": 0
      },
      "text/plain": [
       "HBox(children=(FloatProgress(value=0.0, max=2.0), HTML(value='')))"
      ]
     },
     "metadata": {},
     "output_type": "display_data"
    },
    {
     "name": "stdout",
     "output_type": "stream",
     "text": [
      "Added 44 rows\n",
      "Empty face: https://sun3-13.userapi.com/c625622/v625622363/46880/S1Bhb7fLKZE.jpg (1601, 1619, 807, 807)\n",
      "Empty face: https://sun3-13.userapi.com/c625622/v625622363/46880/S1Bhb7fLKZE.jpg (1638, 2355, 807, 807)\n",
      "Empty face: https://sun3-13.userapi.com/c625622/v625622363/46880/S1Bhb7fLKZE.jpg (2223, 1586, 807, 807)\n",
      "Empty face: https://sun3-13.userapi.com/c625622/v625622363/46880/S1Bhb7fLKZE.jpg (1622, 874, 807, 807)\n",
      "Procesing 205335343\n"
     ]
    },
    {
     "data": {
      "application/vnd.jupyter.widget-view+json": {
       "model_id": "8f42d5e163894d638600d70203cfaefe",
       "version_major": 2,
       "version_minor": 0
      },
      "text/plain": [
       "HBox(children=(FloatProgress(value=0.0, max=32.0), HTML(value='')))"
      ]
     },
     "metadata": {},
     "output_type": "display_data"
    },
    {
     "name": "stdout",
     "output_type": "stream",
     "text": [
      "Empty face: https://sun9-61.userapi.com/c625622/v625622363/46877/cTxDofYGrOo.jpg (1601, 1619, 807, 807)\n",
      "Empty face: https://sun9-61.userapi.com/c625622/v625622363/46877/cTxDofYGrOo.jpg (1638, 2355, 807, 807)\n",
      "Empty face: https://sun9-61.userapi.com/c625622/v625622363/46877/cTxDofYGrOo.jpg (2223, 1586, 807, 807)\n",
      "Empty face: https://sun9-61.userapi.com/c625622/v625622363/46877/cTxDofYGrOo.jpg (1622, 874, 807, 807)\n",
      "\n",
      "Speed: 0.3332840939259046 obj/sec (10 in 30.004432201385498 seconds). AVG: 0.1331273262528635\n",
      "Active threads: 20\n",
      "Added 0 threads\n",
      "Active threads: 20\n",
      "Added 40 rows\n",
      "Procesing 156476262\n"
     ]
    },
    {
     "data": {
      "application/vnd.jupyter.widget-view+json": {
       "model_id": "981ba4ee3303443aa51613f55f721df8",
       "version_major": 2,
       "version_minor": 0
      },
      "text/plain": [
       "HBox(children=(FloatProgress(value=0.0, max=129.0), HTML(value='')))"
      ]
     },
     "metadata": {},
     "output_type": "display_data"
    },
    {
     "name": "stdout",
     "output_type": "stream",
     "text": [
      "Empty face: https://sun9-65.userapi.com/c841036/v841036524/9776f/tmKchtW4n40.jpg (150, 148, 75, 75)\n",
      "Empty face: https://sun9-65.userapi.com/c841036/v841036524/9776f/tmKchtW4n40.jpg (210, 147, 75, 75)\n",
      "Empty face: https://sun9-65.userapi.com/c841036/v841036524/9776f/tmKchtW4n40.jpg (150, 82, 75, 75)\n",
      "Empty face: https://sun9-65.userapi.com/c841036/v841036524/9776f/tmKchtW4n40.jpg (155, 219, 75, 75)\n",
      "Empty face: https://sun9-65.userapi.com/c841036/v841036524/9776f/tmKchtW4n40.jpg (86, 146, 75, 75)\n",
      "316345363:\n",
      "Added 4 rows\n",
      "Procesing 9812724\n"
     ]
    },
    {
     "data": {
      "application/vnd.jupyter.widget-view+json": {
       "model_id": "eeb5c2a02dd74712a1b15df9ef96be2d",
       "version_major": 2,
       "version_minor": 0
      },
      "text/plain": [
       "HBox(children=(FloatProgress(value=0.0, max=15.0), HTML(value='')))"
      ]
     },
     "metadata": {},
     "output_type": "display_data"
    },
    {
     "name": "stdout",
     "output_type": "stream",
     "text": [
      "Empty face: https://sun9-32.userapi.com/c836335/v836335716/d99c/b3g_6Ty78zI.jpg (1461, 1591, 605, 807)\n",
      "\n",
      "Empty face: https://sun9-3.userapi.com/c834200/v834200754/da9e5/BVmHOBNgTJQ.jpg (1289, 1326, 630, 632)\n",
      "Empty face: https://sun9-3.userapi.com/c834200/v834200754/da9e5/BVmHOBNgTJQ.jpg (1301, 1859, 630, 632)\n",
      "Empty face: https://sun9-3.userapi.com/c834200/v834200754/da9e5/BVmHOBNgTJQ.jpg (1825, 1303, 630, 632)\n",
      "Empty face: https://sun9-3.userapi.com/c834200/v834200754/da9e5/BVmHOBNgTJQ.jpg (1844, 1862, 630, 632)\n",
      "Empty face: https://sun9-45.userapi.com/c845219/v845219797/18c0a9/T_PL1LSbldE.jpg (143, 155, 66, 75)\n",
      "Empty face: https://sun9-45.userapi.com/c845219/v845219797/18c0a9/T_PL1LSbldE.jpg (144, 219, 66, 75)\n",
      "\n",
      "\n",
      "310939999:\n",
      "Empty face: https://sun9-19.userapi.com/TnwgcDl-baevytp_9s2wjts431NaOKkD6IinIQ/Bik1JEM9cNE.jpg (137, 146, 50, 75)\n",
      "9812724:\n",
      "Added 2 rows\n",
      "Speed: 0.09980000123888336 obj/sec (3 in 30.06011986732483 seconds). AVG: 0.1297945937514655\n",
      "Active threads: 19\n",
      "Added 1 threads\n",
      "Active threads: 20\n",
      "Procesing 4382575\n"
     ]
    },
    {
     "data": {
      "application/vnd.jupyter.widget-view+json": {
       "model_id": "c8a3f71564794dff8748c8131bd5d976",
       "version_major": 2,
       "version_minor": 0
      },
      "text/plain": [
       "HBox(children=(FloatProgress(value=0.0, max=139.0), HTML(value='')))"
      ]
     },
     "metadata": {},
     "output_type": "display_data"
    },
    {
     "name": "stdout",
     "output_type": "stream",
     "text": [
      "Empty face: https://sun9-20.userapi.com/c630116/v630116716/a747/-oERLL5TpUc.jpg (147, 135, 75, 56)\n",
      "Empty face: https://sun9-20.userapi.com/c630116/v630116716/a747/-oERLL5TpUc.jpg (217, 137, 75, 56)\n",
      "Empty face: https://sun9-20.userapi.com/c630116/v630116716/a747/-oERLL5TpUc.jpg (148, 71, 75, 56)\n",
      "Empty face: https://sun9-20.userapi.com/c630116/v630116716/a747/-oERLL5TpUc.jpg (80, 137, 75, 56)\n",
      "Empty face: https://sun9-20.userapi.com/c630116/v630116716/a747/-oERLL5TpUc.jpg (148, 204, 75, 56)\n",
      "Empty face: https://sun9-20.userapi.com/c630116/v630116716/a747/-oERLL5TpUc.jpg (219, 72, 75, 56)\n",
      "Empty face: https://sun9-20.userapi.com/c630116/v630116716/a747/-oERLL5TpUc.jpg (82, 72, 75, 56)\n",
      "Added 48 rows\n",
      "Procesing 191470346\n"
     ]
    },
    {
     "data": {
      "application/vnd.jupyter.widget-view+json": {
       "model_id": "93e6dcc3d326436fbb322350f615304f",
       "version_major": 2,
       "version_minor": 0
      },
      "text/plain": [
       "HBox(children=(FloatProgress(value=0.0, max=9.0), HTML(value='')))"
      ]
     },
     "metadata": {},
     "output_type": "display_data"
    },
    {
     "name": "stdout",
     "output_type": "stream",
     "text": [
      "\n",
      "\n",
      "405735108:\n",
      "Added 24 rows\n",
      "191470346:\n",
      "Added 2 rows\n",
      "Procesing 137554667\n"
     ]
    },
    {
     "data": {
      "application/vnd.jupyter.widget-view+json": {
       "model_id": "f6636020d3984cac972a824b5da02db1",
       "version_major": 2,
       "version_minor": 0
      },
      "text/plain": [
       "HBox(children=(FloatProgress(value=0.0, max=120.0), HTML(value='')))"
      ]
     },
     "metadata": {},
     "output_type": "display_data"
    },
    {
     "name": "stdout",
     "output_type": "stream",
     "text": [
      "181547264:\n",
      "142018407:\n",
      "Procesing 339977059\n"
     ]
    },
    {
     "data": {
      "application/vnd.jupyter.widget-view+json": {
       "model_id": "1f827a8daa41483db2f8a99d356efe90",
       "version_major": 2,
       "version_minor": 0
      },
      "text/plain": [
       "HBox(children=(FloatProgress(value=0.0, max=1.0), HTML(value='')))"
      ]
     },
     "metadata": {},
     "output_type": "display_data"
    },
    {
     "name": "stdout",
     "output_type": "stream",
     "text": [
      "\n",
      "339977059:\n",
      "Added 0 rows\n",
      "Procesing 203748164\n"
     ]
    },
    {
     "data": {
      "application/vnd.jupyter.widget-view+json": {
       "model_id": "c50a1c73a9d648d8bc5854980b81b80d",
       "version_major": 2,
       "version_minor": 0
      },
      "text/plain": [
       "HBox(children=(FloatProgress(value=0.0, max=15.0), HTML(value='')))"
      ]
     },
     "metadata": {},
     "output_type": "display_data"
    },
    {
     "name": "stdout",
     "output_type": "stream",
     "text": [
      "205335343:\n",
      "Added 18 rows\n",
      "Procesing 10943803\n"
     ]
    },
    {
     "data": {
      "application/vnd.jupyter.widget-view+json": {
       "model_id": "ca3bd506ea5949e3ba4634a7b7f1e000",
       "version_major": 2,
       "version_minor": 0
      },
      "text/plain": [
       "HBox(children=(FloatProgress(value=0.0, max=223.0), HTML(value='')))"
      ]
     },
     "metadata": {},
     "output_type": "display_data"
    },
    {
     "name": "stdout",
     "output_type": "stream",
     "text": [
      "Added 39 rows\n",
      "Procesing 416370881\n"
     ]
    },
    {
     "data": {
      "application/vnd.jupyter.widget-view+json": {
       "model_id": "d77d3543ff62403181f3ee26b6777c8f",
       "version_major": 2,
       "version_minor": 0
      },
      "text/plain": [
       "HBox(children=(FloatProgress(value=0.0, max=9.0), HTML(value='')))"
      ]
     },
     "metadata": {},
     "output_type": "display_data"
    },
    {
     "name": "stdout",
     "output_type": "stream",
     "text": [
      "Speed: 0.2331773463636227 obj/sec (7 in 30.020068883895874 seconds). AVG: 0.1401328690126812\n",
      "Active threads: 20\n",
      "Added 0 threads\n",
      "Active threads: 20\n",
      "Added 83 rows\n",
      "Procesing 271160508\n"
     ]
    },
    {
     "data": {
      "application/vnd.jupyter.widget-view+json": {
       "model_id": "d078d74e15bc403095f7c16081917322",
       "version_major": 2,
       "version_minor": 0
      },
      "text/plain": [
       "HBox(children=(FloatProgress(value=0.0, max=29.0), HTML(value='')))"
      ]
     },
     "metadata": {},
     "output_type": "display_data"
    },
    {
     "name": "stdout",
     "output_type": "stream",
     "text": [
      "246738678:\n",
      "Empty face: https://sun9-60.userapi.com/c858520/v858520084/10f3d2/GCNAeQPebnw.jpg (1308, 1457, 500, 701)\n",
      "Empty face: https://sun9-60.userapi.com/c858520/v858520084/10f3d2/GCNAeQPebnw.jpg (1311, 2054, 500, 701)\n",
      "\n",
      "\n",
      "416370881:\n",
      "Added 0 rows\n",
      "203748164:\n",
      "Added 7 rows\n",
      "Procesing 19805317\n"
     ]
    },
    {
     "data": {
      "application/vnd.jupyter.widget-view+json": {
       "model_id": "602135cc7e7e481d9e40a7012bb43cf0",
       "version_major": 2,
       "version_minor": 0
      },
      "text/plain": [
       "HBox(children=(FloatProgress(value=0.0, max=500.0), HTML(value='')))"
      ]
     },
     "metadata": {},
     "output_type": "display_data"
    },
    {
     "name": "stdout",
     "output_type": "stream",
     "text": [
      "Added 102 rows\n",
      "Procesing 51433701\n"
     ]
    },
    {
     "data": {
      "application/vnd.jupyter.widget-view+json": {
       "model_id": "f0d26af07d1f4322a3e3b93f265d81b9",
       "version_major": 2,
       "version_minor": 0
      },
      "text/plain": [
       "HBox(children=(FloatProgress(value=0.0, max=5.0), HTML(value='')))"
      ]
     },
     "metadata": {},
     "output_type": "display_data"
    },
    {
     "name": "stdout",
     "output_type": "stream",
     "text": [
      "\n",
      "\n",
      "Speed: 0.16664805222849788 obj/sec (5 in 30.003350973129272 seconds). AVG: 0.14278438733426285\n",
      "Active threads: 19\n",
      "Added 1 threads\n",
      "Active threads: 20\n",
      "51433701:\n",
      "Added 2 rows\n",
      "Empty face: https://sun3-10.userapi.com/eDtbdkjOLsKIouWshOGLqBDXr849UC6P0LrNTA/2T_LP7X-UZg.jpg (1265, 623, 624, 600)\n",
      "\n",
      "Procesing 214775080\n"
     ]
    },
    {
     "data": {
      "application/vnd.jupyter.widget-view+json": {
       "model_id": "7f0aba7dda104f1798415b3cdafaade4",
       "version_major": 2,
       "version_minor": 0
      },
      "text/plain": [
       "HBox(children=(FloatProgress(value=0.0, max=268.0), HTML(value='')))"
      ]
     },
     "metadata": {},
     "output_type": "display_data"
    },
    {
     "name": "stdout",
     "output_type": "stream",
     "text": [
      "Procesing 184370195\n"
     ]
    },
    {
     "data": {
      "application/vnd.jupyter.widget-view+json": {
       "model_id": "c7ab49f8a6024acb9855424c221cf36d",
       "version_major": 2,
       "version_minor": 0
      },
      "text/plain": [
       "HBox(children=(FloatProgress(value=0.0, max=14.0), HTML(value='')))"
      ]
     },
     "metadata": {},
     "output_type": "display_data"
    },
    {
     "name": "stdout",
     "output_type": "stream",
     "text": [
      "\n",
      "Empty face: https://sun9-15.userapi.com/c628027/v628027286/46a6c/ay1Mukz95ZA.jpg (155, 156, 75, 75)\n",
      "\n",
      "Empty face: https://sun9-4.userapi.com/gmoKeZX8AF09rs0QWRX_0ygKbOUuXvrUzxMkfw/-KG5iK4OMAk.jpg (140, 155, 63, 75)\n",
      "\n",
      "Speed: 0.033316941643505696 obj/sec (1 in 30.01475977897644 seconds). AVG: 0.13183764276518714\n",
      "Active threads: 20\n",
      "Added 0 threads\n",
      "Active threads: 20\n",
      "184370195:\n",
      "Added 5 rows\n",
      "\n",
      "Procesing 10909584\n"
     ]
    },
    {
     "data": {
      "application/vnd.jupyter.widget-view+json": {
       "model_id": "0ff6376f2811499a8b6a587d2f0c780d",
       "version_major": 2,
       "version_minor": 0
      },
      "text/plain": [
       "HBox(children=(FloatProgress(value=0.0, max=1.0), HTML(value='')))"
      ]
     },
     "metadata": {},
     "output_type": "display_data"
    },
    {
     "name": "stdout",
     "output_type": "stream",
     "text": [
      "\n",
      "Empty face: https://sun3-12.userapi.com/8ZHU0bXuNPLmkNPV3IqqFPb8dREgxSreBNtvBw/ScDOAS5sBmI.jpg (1590, 1651, 806, 807)\n",
      "Empty face: https://sun3-12.userapi.com/8ZHU0bXuNPLmkNPV3IqqFPb8dREgxSreBNtvBw/ScDOAS5sBmI.jpg (1603, 2348, 806, 807)\n",
      "Empty face: https://sun3-12.userapi.com/8ZHU0bXuNPLmkNPV3IqqFPb8dREgxSreBNtvBw/ScDOAS5sBmI.jpg (869, 1634, 806, 807)\n",
      "10909584:\n",
      "Added 1 rows\n",
      "Procesing 19081394\n"
     ]
    },
    {
     "data": {
      "application/vnd.jupyter.widget-view+json": {
       "model_id": "7fcc3315e5f742e7ba59e2c42e6f930b",
       "version_major": 2,
       "version_minor": 0
      },
      "text/plain": [
       "HBox(children=(FloatProgress(value=0.0, max=500.0), HTML(value='')))"
      ]
     },
     "metadata": {},
     "output_type": "display_data"
    },
    {
     "name": "stdout",
     "output_type": "stream",
     "text": [
      "271160508:\n",
      "Added 34 rows\n",
      "6860344:\n",
      "Procesing 4325052\n"
     ]
    },
    {
     "data": {
      "application/vnd.jupyter.widget-view+json": {
       "model_id": "f1f05ddaa6cc4c46b9eb6b908be1357d",
       "version_major": 2,
       "version_minor": 0
      },
      "text/plain": [
       "HBox(children=(FloatProgress(value=0.0, max=33.0), HTML(value='')))"
      ]
     },
     "metadata": {},
     "output_type": "display_data"
    },
    {
     "name": "stdout",
     "output_type": "stream",
     "text": [
      "Speed: 0.16665593057494768 obj/sec (5 in 30.001932621002197 seconds). AVG: 0.1353194715461632\n",
      "Active threads: 20\n",
      "Added 0 threads\n",
      "Active threads: 20\n",
      "\n",
      "Added 59 rows\n",
      "Procesing 343329913\n"
     ]
    },
    {
     "data": {
      "application/vnd.jupyter.widget-view+json": {
       "model_id": "4739c5cdfe6841bcb915d89ca8d97616",
       "version_major": 2,
       "version_minor": 0
      },
      "text/plain": [
       "HBox(children=(FloatProgress(value=0.0, max=31.0), HTML(value='')))"
      ]
     },
     "metadata": {},
     "output_type": "display_data"
    },
    {
     "name": "stdout",
     "output_type": "stream",
     "text": [
      "\n",
      "213991716:\n",
      "Added 25 rows\n",
      "Empty face: https://sun9-54.userapi.com/c836125/v836125889/15d78/S2QVRPRq7MA.jpg (130, 148, 41, 75)\n",
      "\n",
      "Speed: 0.06660076727923286 obj/sec (2 in 30.02968406677246 seconds). AVG: 0.12844760111947015\n",
      "Active threads: 19\n",
      "Added 1 threads\n",
      "Active threads: 20\n",
      "Empty face: https://sun9-44.userapi.com/c623729/v623729080/6aa/LyrfS309pOw.jpg (1507, 1522, 755, 756)\n",
      "Empty face: https://sun9-44.userapi.com/c623729/v623729080/6aa/LyrfS309pOw.jpg (1519, 2184, 755, 756)\n",
      "Empty face: https://sun9-44.userapi.com/c623729/v623729080/6aa/LyrfS309pOw.jpg (2189, 1534, 755, 756)\n",
      "Empty face: https://sun9-44.userapi.com/c623729/v623729080/6aa/LyrfS309pOw.jpg (2242, 2240, 755, 756)\n",
      "Procesing 238467509\n"
     ]
    },
    {
     "data": {
      "application/vnd.jupyter.widget-view+json": {
       "model_id": "78f4d3b09e3d4e13bfd792f4b59b006e",
       "version_major": 2,
       "version_minor": 0
      },
      "text/plain": [
       "HBox(children=(FloatProgress(value=0.0, max=20.0), HTML(value='')))"
      ]
     },
     "metadata": {},
     "output_type": "display_data"
    },
    {
     "name": "stdout",
     "output_type": "stream",
     "text": [
      "515192679:\n",
      "\n",
      "Added 24 rows\n",
      "\n",
      "Procesing 146922343\n"
     ]
    },
    {
     "data": {
      "application/vnd.jupyter.widget-view+json": {
       "model_id": "aead3bb9b4644953a84e8c2b55d69a70",
       "version_major": 2,
       "version_minor": 0
      },
      "text/plain": [
       "HBox(children=(FloatProgress(value=0.0, max=500.0), HTML(value='')))"
      ]
     },
     "metadata": {},
     "output_type": "display_data"
    },
    {
     "name": "stdout",
     "output_type": "stream",
     "text": [
      "\n",
      "\n",
      "156476262:\n",
      "Added 39 rows\n",
      "Speed: 0.09999296635194475 obj/sec (3 in 30.002110242843628 seconds). AVG: 0.1256021376427176\n",
      "Active threads: 20\n",
      "Added 0 threads\n",
      "Active threads: 20\n",
      "Procesing 1823200\n"
     ]
    },
    {
     "data": {
      "application/vnd.jupyter.widget-view+json": {
       "model_id": "9edcbcfd0a39446d9aed57e15c4212d3",
       "version_major": 2,
       "version_minor": 0
      },
      "text/plain": [
       "HBox(children=(FloatProgress(value=0.0, max=30.0), HTML(value='')))"
      ]
     },
     "metadata": {},
     "output_type": "display_data"
    },
    {
     "name": "stdout",
     "output_type": "stream",
     "text": [
      "4325052:\n",
      "Added 7 rows\n",
      "\n",
      "238467509:\n",
      "79732440:\n",
      "\n",
      "Added 13 rows\n",
      "Procesing 281952389\n"
     ]
    },
    {
     "data": {
      "application/vnd.jupyter.widget-view+json": {
       "model_id": "683869dae96147c2881285f4f391f7ab",
       "version_major": 2,
       "version_minor": 0
      },
      "text/plain": [
       "HBox(children=(FloatProgress(value=0.0, max=26.0), HTML(value='')))"
      ]
     },
     "metadata": {},
     "output_type": "display_data"
    },
    {
     "name": "stdout",
     "output_type": "stream",
     "text": [
      "\n",
      "Speed: 0.16665372816506668 obj/sec (5 in 30.002329111099243 seconds). AVG: 0.1297072966949525\n",
      "Active threads: 19\n",
      "Added 1 threads\n",
      "Active threads: 20\n",
      "Procesing 64091578\n"
     ]
    },
    {
     "data": {
      "application/vnd.jupyter.widget-view+json": {
       "model_id": "d065ee26fcbf4e699bd26701808b8e92",
       "version_major": 2,
       "version_minor": 0
      },
      "text/plain": [
       "HBox(children=(FloatProgress(value=0.0, max=6.0), HTML(value='')))"
      ]
     },
     "metadata": {},
     "output_type": "display_data"
    },
    {
     "name": "stdout",
     "output_type": "stream",
     "text": [
      "137554667:\n",
      "Empty face: https://sun3-12.userapi.com/L_UBlmYU9_y1zHB8cC9z5aTXFvvlIB5Mvjiz9g/Xo9OtkTIxJg.jpg (1569, 1613, 806, 807)\n",
      "\n",
      "64091578:\n",
      "Added 0 rows\n",
      "Procesing 259824917\n"
     ]
    },
    {
     "data": {
      "application/vnd.jupyter.widget-view+json": {
       "model_id": "54c647b6886f4c8f90d3f936f73c9d1f",
       "version_major": 2,
       "version_minor": 0
      },
      "text/plain": [
       "HBox(children=(FloatProgress(value=0.0, max=63.0), HTML(value='')))"
      ]
     },
     "metadata": {},
     "output_type": "display_data"
    },
    {
     "name": "stdout",
     "output_type": "stream",
     "text": [
      "Added 46 rows\n",
      "Procesing 235696404\n"
     ]
    },
    {
     "data": {
      "application/vnd.jupyter.widget-view+json": {
       "model_id": "dd65060822e842769e52117051a6e59c",
       "version_major": 2,
       "version_minor": 0
      },
      "text/plain": [
       "HBox(children=(FloatProgress(value=0.0, max=12.0), HTML(value='')))"
      ]
     },
     "metadata": {},
     "output_type": "display_data"
    },
    {
     "name": "stdout",
     "output_type": "stream",
     "text": [
      "\n",
      "Added 144 rows\n",
      "Procesing 487709651\n"
     ]
    },
    {
     "data": {
      "application/vnd.jupyter.widget-view+json": {
       "model_id": "9449cef658b64c49817d0380eb60f762",
       "version_major": 2,
       "version_minor": 0
      },
      "text/plain": [
       "HBox(children=(FloatProgress(value=0.0, max=1.0), HTML(value='')))"
      ]
     },
     "metadata": {},
     "output_type": "display_data"
    },
    {
     "name": "stdout",
     "output_type": "stream",
     "text": [
      "\n",
      "487709651:\n",
      "Added 1 rows\n",
      "Procesing 498201240\n"
     ]
    },
    {
     "data": {
      "application/vnd.jupyter.widget-view+json": {
       "model_id": "606a4786086140e2b551a77ef6a0aa1d",
       "version_major": 2,
       "version_minor": 0
      },
      "text/plain": [
       "HBox(children=(FloatProgress(value=0.0, max=21.0), HTML(value='')))"
      ]
     },
     "metadata": {},
     "output_type": "display_data"
    },
    {
     "name": "stdout",
     "output_type": "stream",
     "text": [
      "\n",
      "Empty face: https://sun9-62.userapi.com/YKXCPXkWzgUJLCELlwR2NMLAaxNNUbJp5a2OdQ/R6x-JTAlasw.jpg (1503, 1653, 603, 807)\n",
      "343329913:\n",
      "\n",
      "Added 29 rows\n",
      "235696404:\n",
      "Added 1 rows\n",
      "Procesing 222383009\n"
     ]
    },
    {
     "data": {
      "application/vnd.jupyter.widget-view+json": {
       "model_id": "61ca8da663ff45498a90cd9ca56d3d23",
       "version_major": 2,
       "version_minor": 0
      },
      "text/plain": [
       "HBox(children=(FloatProgress(value=0.0, max=134.0), HTML(value='')))"
      ]
     },
     "metadata": {},
     "output_type": "display_data"
    },
    {
     "name": "stdout",
     "output_type": "stream",
     "text": [
      "Speed: 0.29996871559258526 obj/sec (9 in 30.00312876701355 seconds). AVG: 0.14673343858471577\n",
      "Active threads: 19\n",
      "Added 1 threads\n",
      "Active threads: 20\n",
      "Procesing 109184488\n"
     ]
    },
    {
     "data": {
      "application/vnd.jupyter.widget-view+json": {
       "model_id": "e8e52ebcd7bb42cbbc753e35ff640a6e",
       "version_major": 2,
       "version_minor": 0
      },
      "text/plain": [
       "HBox(children=(FloatProgress(value=0.0, max=32.0), HTML(value='')))"
      ]
     },
     "metadata": {},
     "output_type": "display_data"
    },
    {
     "name": "stdout",
     "output_type": "stream",
     "text": [
      "Empty face: https://sun9-47.userapi.com/c834200/v834200939/159bf2/KMajYkVYL0M.jpg (1545, 1684, 605, 807)\n",
      "4382575:\n",
      "\n",
      "281952389:\n",
      "Added 8 rows\n",
      "Added 54 rows\n",
      "Procesing 441636937\n"
     ]
    },
    {
     "data": {
      "application/vnd.jupyter.widget-view+json": {
       "model_id": "42e1d5135cd74a6c9265a3241ec59372",
       "version_major": 2,
       "version_minor": 0
      },
      "text/plain": [
       "HBox(children=(FloatProgress(value=0.0, max=143.0), HTML(value='')))"
      ]
     },
     "metadata": {},
     "output_type": "display_data"
    },
    {
     "name": "stdout",
     "output_type": "stream",
     "text": [
      "Procesing 352093691\n"
     ]
    },
    {
     "data": {
      "application/vnd.jupyter.widget-view+json": {
       "model_id": "6e339ac31e05465ca7747f3d6c318054",
       "version_major": 2,
       "version_minor": 0
      },
      "text/plain": [
       "HBox(children=(FloatProgress(value=0.0), HTML(value='')))"
      ]
     },
     "metadata": {},
     "output_type": "display_data"
    },
    {
     "name": "stdout",
     "output_type": "stream",
     "text": [
      "Empty face: https://sun9-62.userapi.com/c624519/v624519080/40a2/a6QDyBBQm4A.jpg (1472, 1611, 560, 807)\n",
      "Speed: 0.13320202843347548 obj/sec (4 in 30.02957272529602 seconds). AVG: 0.14538029756959173\n",
      "Active threads: 20\n",
      "Added 0 threads\n",
      "Active threads: 20\n",
      "\n",
      "Empty face: https://sun9-32.userapi.com/c624519/v624519080/40f4/ypKt06knXSg.jpg (1528, 2359, 654, 807)\n",
      "Empty face: https://sun9-32.userapi.com/c624519/v624519080/40f4/ypKt06knXSg.jpg (1510, 1655, 654, 807)\n",
      "Empty face: https://sun9-32.userapi.com/c624519/v624519080/40f4/ypKt06knXSg.jpg (837, 2386, 654, 807)\n",
      "Empty face: https://sun9-32.userapi.com/c624519/v624519080/40f4/ypKt06knXSg.jpg (810, 1643, 654, 807)\n",
      "Empty face: https://sun9-32.userapi.com/c624519/v624519080/40f4/ypKt06knXSg.jpg (2224, 1632, 654, 807)\n",
      "Empty face: https://sun9-32.userapi.com/c624519/v624519080/40f4/ypKt06knXSg.jpg (2271, 2390, 654, 807)\n",
      "\n",
      "Empty face: https://sun3-13.userapi.com/nQWImk0IHWtxIWdzhIvEhfQOryaDf7vJXbGyug/z6PquIuztrg.jpg (1388, 1542, 454, 807)\n",
      "498201240:\n",
      "8987491:\n",
      "Added 7 rows\n",
      "Procesing 2512190\n"
     ]
    },
    {
     "data": {
      "application/vnd.jupyter.widget-view+json": {
       "model_id": "c237cf9801184c67973a0eacc3b4b4ec",
       "version_major": 2,
       "version_minor": 0
      },
      "text/plain": [
       "HBox(children=(FloatProgress(value=0.0, max=2.0), HTML(value='')))"
      ]
     },
     "metadata": {},
     "output_type": "display_data"
    },
    {
     "name": "stdout",
     "output_type": "stream",
     "text": [
      "\n",
      "\n",
      "Added 34 rows\n",
      "Procesing 231683560\n"
     ]
    },
    {
     "data": {
      "application/vnd.jupyter.widget-view+json": {
       "model_id": "712c2065c7ff4cbfbe6fc783f91c360a",
       "version_major": 2,
       "version_minor": 0
      },
      "text/plain": [
       "HBox(children=(FloatProgress(value=0.0, max=15.0), HTML(value='')))"
      ]
     },
     "metadata": {},
     "output_type": "display_data"
    },
    {
     "name": "stdout",
     "output_type": "stream",
     "text": [
      "\n",
      "2512190:\n",
      "Added 1 rows\n",
      "\n",
      "Speed: 0.1333313476010529 obj/sec (4 in 30.000446796417236 seconds). AVG: 0.14417540257273784\n",
      "Active threads: 20\n",
      "Added 0 threads\n",
      "Active threads: 20\n",
      "1823200:\n",
      "\n",
      "231683560:\n",
      "Added 0 rows\n",
      "Procesing 163448315\n"
     ]
    },
    {
     "data": {
      "application/vnd.jupyter.widget-view+json": {
       "model_id": "9c14f9d883fc4f97a67327c5b1c5be42",
       "version_major": 2,
       "version_minor": 0
      },
      "text/plain": [
       "HBox(children=(FloatProgress(value=0.0, max=84.0), HTML(value='')))"
      ]
     },
     "metadata": {},
     "output_type": "display_data"
    },
    {
     "name": "stdout",
     "output_type": "stream",
     "text": [
      "Added 38 rows\n",
      "Procesing 33030385\n"
     ]
    },
    {
     "data": {
      "application/vnd.jupyter.widget-view+json": {
       "model_id": "9406591432654606b7dda9daa6ded58c",
       "version_major": 2,
       "version_minor": 0
      },
      "text/plain": [
       "HBox(children=(FloatProgress(value=0.0, max=13.0), HTML(value='')))"
      ]
     },
     "metadata": {},
     "output_type": "display_data"
    },
    {
     "name": "stdout",
     "output_type": "stream",
     "text": [
      "Procesing 172131362\n"
     ]
    },
    {
     "data": {
      "application/vnd.jupyter.widget-view+json": {
       "model_id": "b1183edd5ffc4ff1898c6ba3c55adf0a",
       "version_major": 2,
       "version_minor": 0
      },
      "text/plain": [
       "HBox(children=(FloatProgress(value=0.0, max=500.0), HTML(value='')))"
      ]
     },
     "metadata": {},
     "output_type": "display_data"
    },
    {
     "name": "stdout",
     "output_type": "stream",
     "text": [
      "2906924:\n",
      "109184488:\n",
      "Added 14 rows\n",
      "\n",
      "33030385:\n",
      "Added 0 rows\n",
      "Procesing 38660297\n"
     ]
    },
    {
     "data": {
      "application/vnd.jupyter.widget-view+json": {
       "model_id": "724589bfadeb4ab1959bbaafc5a51156",
       "version_major": 2,
       "version_minor": 0
      },
      "text/plain": [
       "HBox(children=(FloatProgress(value=0.0, max=73.0), HTML(value='')))"
      ]
     },
     "metadata": {},
     "output_type": "display_data"
    },
    {
     "name": "stdout",
     "output_type": "stream",
     "text": [
      "Procesing 56197715\n"
     ]
    },
    {
     "data": {
      "application/vnd.jupyter.widget-view+json": {
       "model_id": "cf15065a685845f4b9f484027aae92a5",
       "version_major": 2,
       "version_minor": 0
      },
      "text/plain": [
       "HBox(children=(FloatProgress(value=0.0, max=46.0), HTML(value='')))"
      ]
     },
     "metadata": {},
     "output_type": "display_data"
    },
    {
     "name": "stdout",
     "output_type": "stream",
     "text": [
      "Speed: 0.16663440560694542 obj/sec (5 in 30.005808115005493 seconds). AVG: 0.1464213028761586\n",
      "Active threads: 20\n",
      "Added 0 threads\n",
      "Active threads: 20\n",
      "Added 184 rows\n",
      "Procesing 147924331\n"
     ]
    },
    {
     "data": {
      "application/vnd.jupyter.widget-view+json": {
       "model_id": "b1387741e2234c0aa9617bf723c0a6ed",
       "version_major": 2,
       "version_minor": 0
      },
      "text/plain": [
       "HBox(children=(FloatProgress(value=0.0, max=2.0), HTML(value='')))"
      ]
     },
     "metadata": {},
     "output_type": "display_data"
    },
    {
     "name": "stdout",
     "output_type": "stream",
     "text": [
      "\n",
      "\n",
      "147924331:\n",
      "Added 1 rows\n",
      "Procesing 177791739\n"
     ]
    },
    {
     "data": {
      "application/vnd.jupyter.widget-view+json": {
       "model_id": "5da6e6aeaa08423c812066cb9c3ce106",
       "version_major": 2,
       "version_minor": 0
      },
      "text/plain": [
       "HBox(children=(FloatProgress(value=0.0, max=2.0), HTML(value='')))"
      ]
     },
     "metadata": {},
     "output_type": "display_data"
    },
    {
     "name": "stdout",
     "output_type": "stream",
     "text": [
      "\n",
      "Speed: 0.06660370896857237 obj/sec (2 in 30.02835774421692 seconds). AVG: 0.13843954348539997\n",
      "Active threads: 20\n",
      "Added 0 threads\n",
      "Active threads: 20\n",
      "259824917:\n",
      "177791739:\n",
      "Added 2 rows\n",
      "Procesing 40924002\n"
     ]
    },
    {
     "data": {
      "application/vnd.jupyter.widget-view+json": {
       "model_id": "0352e4d8cad6418ba816045d765c9a1b",
       "version_major": 2,
       "version_minor": 0
      },
      "text/plain": [
       "HBox(children=(FloatProgress(value=0.0, max=305.0), HTML(value='')))"
      ]
     },
     "metadata": {},
     "output_type": "display_data"
    },
    {
     "name": "stdout",
     "output_type": "stream",
     "text": [
      "Added 32 rows\n",
      "Procesing 218715050\n"
     ]
    },
    {
     "data": {
      "application/vnd.jupyter.widget-view+json": {
       "model_id": "520d792ba0f54e66bdd5d9a7e5a05584",
       "version_major": 2,
       "version_minor": 0
      },
      "text/plain": [
       "HBox(children=(FloatProgress(value=0.0, max=21.0), HTML(value='')))"
      ]
     },
     "metadata": {},
     "output_type": "display_data"
    },
    {
     "name": "stdout",
     "output_type": "stream",
     "text": [
      "\n",
      "\n",
      "Empty face: https://sun9-50.userapi.com/c855220/v855220155/2cadd/ZgDbRdohkuE.jpg (1656, 919, 807, 807)\n",
      "Empty face: https://sun9-50.userapi.com/c855220/v855220155/2cadd/ZgDbRdohkuE.jpg (1672, 1566, 807, 807)\n",
      "Empty face: https://sun9-50.userapi.com/c855220/v855220155/2cadd/ZgDbRdohkuE.jpg (2283, 866, 807, 807)\n",
      "\n",
      "Empty face: https://sun9-68.userapi.com/c624530/v624530343/899b/MvDAmwckq18.jpg (147, 130, 75, 28)\n",
      "Empty face: https://sun9-68.userapi.com/c624530/v624530343/899b/MvDAmwckq18.jpg (81, 129, 75, 28)\n",
      "Speed: 0.06665785852898151 obj/sec (2 in 30.00396418571472 seconds). AVG: 0.13126137498975812\n",
      "Active threads: 20\n",
      "Added 0 threads\n",
      "Active threads: 20\n",
      "\n",
      "\n",
      "\n",
      "\n",
      "31992992:\n",
      "\n",
      "352093691:\n",
      "Empty face: https://sun3-12.userapi.com/abUR3RIhWCjxAGVomrlOMnAEi4SX09Z-vHyCQw/vYJp2khACOw.jpg (149, 146, 74, 75)\n",
      "10943803:\n",
      "Added 27 rows\n",
      "\n",
      "Procesing 177402682\n"
     ]
    },
    {
     "data": {
      "application/vnd.jupyter.widget-view+json": {
       "model_id": "1d6abe8c665f47648bf891e3ed167d27",
       "version_major": 2,
       "version_minor": 0
      },
      "text/plain": [
       "HBox(children=(FloatProgress(value=0.0, max=23.0), HTML(value='')))"
      ]
     },
     "metadata": {},
     "output_type": "display_data"
    },
    {
     "name": "stdout",
     "output_type": "stream",
     "text": [
      "Speed: 0.03331673945285281 obj/sec (1 in 30.014941930770874 seconds). AVG: 0.12146691143606758Added 131 rows\n",
      "Active threads: 20\n",
      "Added 0 threads\n",
      "Active threads: 20\n",
      "\n",
      "Added 71 rows\n",
      "Procesing 276077576\n"
     ]
    },
    {
     "data": {
      "application/vnd.jupyter.widget-view+json": {
       "model_id": "54704f8648ff45c0835505f03671daba",
       "version_major": 2,
       "version_minor": 0
      },
      "text/plain": [
       "HBox(children=(FloatProgress(value=0.0, max=4.0), HTML(value='')))"
      ]
     },
     "metadata": {},
     "output_type": "display_data"
    },
    {
     "name": "stdout",
     "output_type": "stream",
     "text": [
      "\n",
      "276077576:\n",
      "Added 0 rows\n",
      "Procesing 279915782\n"
     ]
    },
    {
     "data": {
      "application/vnd.jupyter.widget-view+json": {
       "model_id": "50b4789eab514ff1a9fb5003f7c2fa79",
       "version_major": 2,
       "version_minor": 0
      },
      "text/plain": [
       "HBox(children=(FloatProgress(value=0.0, max=2.0), HTML(value='')))"
      ]
     },
     "metadata": {},
     "output_type": "display_data"
    },
    {
     "name": "stdout",
     "output_type": "stream",
     "text": [
      "\n",
      "\n",
      "56197715:\n",
      "38660297:\n",
      "Added 13 rows\n",
      "Procesing 378271960\n"
     ]
    },
    {
     "data": {
      "application/vnd.jupyter.widget-view+json": {
       "model_id": "b04e910133b443d2b0f85c9e4015f698",
       "version_major": 2,
       "version_minor": 0
      },
      "text/plain": [
       "HBox(children=(FloatProgress(value=0.0, max=67.0), HTML(value='')))"
      ]
     },
     "metadata": {},
     "output_type": "display_data"
    },
    {
     "name": "stdout",
     "output_type": "stream",
     "text": [
      "Added 38 rows\n",
      "Procesing 137232411\n"
     ]
    },
    {
     "data": {
      "application/vnd.jupyter.widget-view+json": {
       "model_id": "954659ccfe1a43309d67ad9899f7da24",
       "version_major": 2,
       "version_minor": 0
      },
      "text/plain": [
       "HBox(children=(FloatProgress(value=0.0, max=3.0), HTML(value='')))"
      ]
     },
     "metadata": {},
     "output_type": "display_data"
    },
    {
     "name": "stdout",
     "output_type": "stream",
     "text": [
      "Empty face: https://sun9-11.userapi.com/c627824/v627824362/4bbd7/ucsC8BZkZ48.jpg (146, 223, 56, 75)\n",
      "Empty face: https://sun9-11.userapi.com/c627824/v627824362/4bbd7/ucsC8BZkZ48.jpg (142, 153, 56, 75)\n",
      "279915782:\n",
      "Added 1 rows\n",
      "163448315:\n",
      "\n",
      "Added 15 rows\n",
      "Procesing 143004318\n"
     ]
    },
    {
     "data": {
      "application/vnd.jupyter.widget-view+json": {
       "model_id": "6e22518ca07441a293ffe984e08bf112",
       "version_major": 2,
       "version_minor": 0
      },
      "text/plain": [
       "HBox(children=(FloatProgress(value=0.0, max=75.0), HTML(value='')))"
      ]
     },
     "metadata": {},
     "output_type": "display_data"
    },
    {
     "name": "stdout",
     "output_type": "stream",
     "text": [
      "Speed: 0.36666562928387303 obj/sec (11 in 30.00008487701416 seconds). AVG: 0.14598678322084813\n",
      "Active threads: 18\n",
      "Added 2 threads\n",
      "Active threads: 20\n",
      "Procesing 7303393\n"
     ]
    },
    {
     "data": {
      "application/vnd.jupyter.widget-view+json": {
       "model_id": "cdda2914835847a4a23ac6df687f97a7",
       "version_major": 2,
       "version_minor": 0
      },
      "text/plain": [
       "HBox(children=(FloatProgress(value=0.0, max=466.0), HTML(value='')))"
      ]
     },
     "metadata": {},
     "output_type": "display_data"
    },
    {
     "name": "stdout",
     "output_type": "stream",
     "text": [
      "Procesing 13626065\n"
     ]
    },
    {
     "data": {
      "application/vnd.jupyter.widget-view+json": {
       "model_id": "56ac00d051fd43f887ca6bf9b85fcb75",
       "version_major": 2,
       "version_minor": 0
      },
      "text/plain": [
       "HBox(children=(FloatProgress(value=0.0, max=28.0), HTML(value='')))"
      ]
     },
     "metadata": {},
     "output_type": "display_data"
    },
    {
     "name": "stdout",
     "output_type": "stream",
     "text": [
      "Empty face: https://sun9-16.userapi.com/AR0Tn-8EBf46AlolzRmoHfU8e-QQsomT4aXFBw/qTFg00GK9ik.jpg (149, 148, 75, 73)\n",
      "Empty face: https://sun9-49.userapi.com/PUf0lJhcVCu0mVakEolRSfa9ERgz7qmDKZCuNw/bzsDgh65VYk.jpg (148, 145, 75, 73)\n",
      "\n",
      "89532018:\n",
      "Speed: 0.0 obj/sec (0 in 30.040342092514038 seconds). AVG: 0.13138810489876332218715050:\n",
      "\n",
      "Active threads: 20\n",
      "Added 0 threads\n",
      "Active threads: 20\n",
      "Added 16 rows\n",
      "177402682:\n",
      "Procesing 267744781\n"
     ]
    },
    {
     "data": {
      "application/vnd.jupyter.widget-view+json": {
       "model_id": "a864344171694cd38a332f6d5e24acfe",
       "version_major": 2,
       "version_minor": 0
      },
      "text/plain": [
       "HBox(children=(FloatProgress(value=0.0, max=3.0), HTML(value='')))"
      ]
     },
     "metadata": {},
     "output_type": "display_data"
    },
    {
     "name": "stdout",
     "output_type": "stream",
     "text": [
      "\n",
      "267744781:\n",
      "Added 0 rows\n",
      "Added 19 rows\n",
      "Procesing 375265740\n"
     ]
    },
    {
     "data": {
      "application/vnd.jupyter.widget-view+json": {
       "model_id": "1adbcc1da4aa48b79ccb5fb16e4f0c50",
       "version_major": 2,
       "version_minor": 0
      },
      "text/plain": [
       "HBox(children=(FloatProgress(value=0.0, max=3.0), HTML(value='')))"
      ]
     },
     "metadata": {},
     "output_type": "display_data"
    },
    {
     "name": "stdout",
     "output_type": "stream",
     "text": [
      "Procesing 227968\n"
     ]
    },
    {
     "data": {
      "application/vnd.jupyter.widget-view+json": {
       "model_id": "7910b262ede143daafdcab8bd6691528",
       "version_major": 2,
       "version_minor": 0
      },
      "text/plain": [
       "HBox(children=(FloatProgress(value=0.0, max=364.0), HTML(value='')))"
      ]
     },
     "metadata": {},
     "output_type": "display_data"
    },
    {
     "name": "stdout",
     "output_type": "stream",
     "text": [
      "\n",
      "375265740:\n",
      "Added 0 rows\n",
      "Procesing 6494347\n"
     ]
    },
    {
     "data": {
      "application/vnd.jupyter.widget-view+json": {
       "model_id": "51e8bcc2b7164e96b04792c41d1301b1",
       "version_major": 2,
       "version_minor": 0
      },
      "text/plain": [
       "HBox(children=(FloatProgress(value=0.0, max=2.0), HTML(value='')))"
      ]
     },
     "metadata": {},
     "output_type": "display_data"
    },
    {
     "name": "stdout",
     "output_type": "stream",
     "text": [
      "\n",
      "Added 108 rows\n",
      "Procesing 499757060\n"
     ]
    },
    {
     "data": {
      "application/vnd.jupyter.widget-view+json": {
       "model_id": "60f08d1b52b141979304d74c66f6996b",
       "version_major": 2,
       "version_minor": 0
      },
      "text/plain": [
       "HBox(children=(FloatProgress(value=0.0, max=9.0), HTML(value='')))"
      ]
     },
     "metadata": {},
     "output_type": "display_data"
    },
    {
     "name": "stdout",
     "output_type": "stream",
     "text": [
      "\n",
      "20297920:\n",
      "137232411:\n",
      "Added 4 rows\n",
      "Procesing 157166978\n"
     ]
    },
    {
     "data": {
      "application/vnd.jupyter.widget-view+json": {
       "model_id": "5e127b066611400ba0b2ea029cd8391a",
       "version_major": 2,
       "version_minor": 0
      },
      "text/plain": [
       "HBox(children=(FloatProgress(value=0.0, max=4.0), HTML(value='')))"
      ]
     },
     "metadata": {},
     "output_type": "display_data"
    },
    {
     "name": "stdout",
     "output_type": "stream",
     "text": [
      "Empty face: https://sun9-26.userapi.com/c854324/v854324577/c7f76/WtO7qnq8MMs.jpg (1497, 1588, 536, 807)\n",
      "\n",
      "\n",
      "Empty face: https://sun9-4.userapi.com/c628321/v628321362/b949/JrM8iibetv0.jpg (146, 142, 75, 56)\n",
      "Speed: 0.19952629971806227 obj/sec (6 in 30.071223735809326 seconds). AVG: 0.1382019243806932\n",
      "Active threads: 20\n",
      "Added 0 threads\n",
      "Active threads: 20\n",
      "\n",
      "13626065:\n",
      "\n",
      "Added 23 rows\n",
      "Procesing 175614861\n"
     ]
    },
    {
     "data": {
      "application/vnd.jupyter.widget-view+json": {
       "model_id": "5596b8642462494c99a4eb693008d92d",
       "version_major": 2,
       "version_minor": 0
      },
      "text/plain": [
       "HBox(children=(FloatProgress(value=0.0, max=152.0), HTML(value='')))"
      ]
     },
     "metadata": {},
     "output_type": "display_data"
    },
    {
     "name": "stdout",
     "output_type": "stream",
     "text": [
      "378271960:\n",
      "Added 17 rows\n",
      "222383009:\n",
      "Procesing 6796641\n",
      "Added 26 rows\n",
      "77771738:\n"
     ]
    },
    {
     "data": {
      "application/vnd.jupyter.widget-view+json": {
       "model_id": "089f21e98624423383010a2f19b33094",
       "version_major": 2,
       "version_minor": 0
      },
      "text/plain": [
       "HBox(children=(FloatProgress(value=0.0, max=447.0), HTML(value='')))"
      ]
     },
     "metadata": {},
     "output_type": "display_data"
    },
    {
     "name": "stdout",
     "output_type": "stream",
     "text": [
      "157166978:\n",
      "Added 3 rows\n",
      "Added 225 rows\n",
      "Procesing 421760\n"
     ]
    },
    {
     "data": {
      "application/vnd.jupyter.widget-view+json": {
       "model_id": "cc8acb3b1f884be59329c7a09ad11eae",
       "version_major": 2,
       "version_minor": 0
      },
      "text/plain": [
       "HBox(children=(FloatProgress(value=0.0, max=15.0), HTML(value='')))"
      ]
     },
     "metadata": {},
     "output_type": "display_data"
    },
    {
     "name": "stdout",
     "output_type": "stream",
     "text": [
      "Speed: 0.16662065134339188 obj/sec (5 in 30.00828504562378 seconds). AVG: 0.14104379707696307\n",
      "Active threads: 18\n",
      "Added 2 threads\n",
      "Active threads: 20\n",
      "Procesing 445344095\n"
     ]
    },
    {
     "data": {
      "application/vnd.jupyter.widget-view+json": {
       "model_id": "a6fb90d0b33842c6a56aac5cd6357280",
       "version_major": 2,
       "version_minor": 0
      },
      "text/plain": [
       "HBox(children=(FloatProgress(value=0.0, max=3.0), HTML(value='')))"
      ]
     },
     "metadata": {},
     "output_type": "display_data"
    },
    {
     "name": "stdout",
     "output_type": "stream",
     "text": [
      "Procesing 230599192\n"
     ]
    },
    {
     "data": {
      "application/vnd.jupyter.widget-view+json": {
       "model_id": "80baa612e64e444d8901763113d81230",
       "version_major": 2,
       "version_minor": 0
      },
      "text/plain": [
       "HBox(children=(FloatProgress(value=0.0, max=13.0), HTML(value='')))"
      ]
     },
     "metadata": {},
     "output_type": "display_data"
    },
    {
     "name": "stdout",
     "output_type": "stream",
     "text": [
      "\n",
      "445344095:\n",
      "Added 0 rows\n",
      "6494347:\n",
      "Added 2 rows\n",
      "Procesing 340870702\n"
     ]
    },
    {
     "data": {
      "application/vnd.jupyter.widget-view+json": {
       "model_id": "2decde1374de4e82a9cc36ad7fd1e257",
       "version_major": 2,
       "version_minor": 0
      },
      "text/plain": [
       "HBox(children=(FloatProgress(value=0.0, max=2.0), HTML(value='')))"
      ]
     },
     "metadata": {},
     "output_type": "display_data"
    },
    {
     "name": "stdout",
     "output_type": "stream",
     "text": [
      "Procesing 229320523\n"
     ]
    },
    {
     "data": {
      "application/vnd.jupyter.widget-view+json": {
       "model_id": "4f88c0423f874e64b5f1ef33a13b2a26",
       "version_major": 2,
       "version_minor": 0
      },
      "text/plain": [
       "HBox(children=(FloatProgress(value=0.0, max=19.0), HTML(value='')))"
      ]
     },
     "metadata": {},
     "output_type": "display_data"
    },
    {
     "name": "stdout",
     "output_type": "stream",
     "text": [
      "\n",
      "\n",
      "499757060:\n",
      "Added 5 rows\n",
      "Procesing 424243349\n"
     ]
    },
    {
     "data": {
      "application/vnd.jupyter.widget-view+json": {
       "model_id": "99b623acc61c45c9808e1e7eaac40e52",
       "version_major": 2,
       "version_minor": 0
      },
      "text/plain": [
       "HBox(children=(FloatProgress(value=0.0, max=3.0), HTML(value='')))"
      ]
     },
     "metadata": {},
     "output_type": "display_data"
    },
    {
     "name": "stdout",
     "output_type": "stream",
     "text": [
      "Added 174 rows\n",
      "Procesing 573711620\n"
     ]
    },
    {
     "data": {
      "application/vnd.jupyter.widget-view+json": {
       "model_id": "54e265b928de496b91a0d9fa6fec2650",
       "version_major": 2,
       "version_minor": 0
      },
      "text/plain": [
       "HBox(children=(FloatProgress(value=0.0, max=28.0), HTML(value='')))"
      ]
     },
     "metadata": {},
     "output_type": "display_data"
    },
    {
     "name": "stdout",
     "output_type": "stream",
     "text": [
      "\n",
      "\n",
      "Empty face: https://sun9-50.userapi.com/c4333/u227968/54123944/m_a0987dc2.jpg (257, 243, 130, 97)\n",
      "Empty face: https://sun3-13.userapi.com/c857628/v857628030/1fbb4b/z4cFBDNpK_0.jpg (1270, 1125, 614, 393)\n",
      "Empty face: https://sun3-13.userapi.com/c857628/v857628030/1fbb4b/z4cFBDNpK_0.jpg (1265, 614, 614, 393)\n",
      "Empty face: https://sun3-13.userapi.com/c857628/v857628030/1fbb4b/z4cFBDNpK_0.jpg (1759, 1114, 614, 393)\n",
      "340870702:\n",
      "Added 2 rows\n",
      "Procesing 296075835\n"
     ]
    },
    {
     "data": {
      "application/vnd.jupyter.widget-view+json": {
       "model_id": "f375a534cc5649c390ecacde265e5dbf",
       "version_major": 2,
       "version_minor": 0
      },
      "text/plain": [
       "HBox(children=(FloatProgress(value=0.0, max=8.0), HTML(value='')))"
      ]
     },
     "metadata": {},
     "output_type": "display_data"
    },
    {
     "name": "stdout",
     "output_type": "stream",
     "text": [
      "143004318:\n",
      "\n",
      "Added 13 rows\n",
      "Procesing 168201107\n"
     ]
    },
    {
     "data": {
      "application/vnd.jupyter.widget-view+json": {
       "model_id": "447adb52bad4469aaa16f5b447759d61",
       "version_major": 2,
       "version_minor": 0
      },
      "text/plain": [
       "HBox(children=(FloatProgress(value=0.0, max=184.0), HTML(value='')))"
      ]
     },
     "metadata": {},
     "output_type": "display_data"
    },
    {
     "name": "stdout",
     "output_type": "stream",
     "text": [
      "230599192:\n",
      "Added 2 rows\n",
      "\n",
      "Procesing 162666116\n"
     ]
    },
    {
     "data": {
      "application/vnd.jupyter.widget-view+json": {
       "model_id": "c6b4bbd7c9d34aafae25cb741f62d728",
       "version_major": 2,
       "version_minor": 0
      },
      "text/plain": [
       "HBox(children=(FloatProgress(value=0.0, max=112.0), HTML(value='')))"
      ]
     },
     "metadata": {},
     "output_type": "display_data"
    },
    {
     "name": "stdout",
     "output_type": "stream",
     "text": [
      "441636937:\n",
      "424243349:\n",
      "Added 2 rows\n",
      "Speed: 0.2994676255176888 obj/sec (9 in 30.053332090377808 seconds). AVG: 0.15688617992103565\n",
      "Active threads: 20\n",
      "Added 0 threads\n",
      "Active threads: 20\n",
      "214775080:\n",
      "Procesing 124154\n"
     ]
    },
    {
     "data": {
      "application/vnd.jupyter.widget-view+json": {
       "model_id": "5d9384c9399b4b2a8364773f2cea2e0b",
       "version_major": 2,
       "version_minor": 0
      },
      "text/plain": [
       "HBox(children=(FloatProgress(value=0.0, max=500.0), HTML(value='')))"
      ]
     },
     "metadata": {},
     "output_type": "display_data"
    },
    {
     "name": "stdout",
     "output_type": "stream",
     "text": [
      "421760:\n",
      "296075835:\n",
      "Added 2 rows\n",
      "Procesing 16628387\n"
     ]
    },
    {
     "data": {
      "application/vnd.jupyter.widget-view+json": {
       "model_id": "717e716351fb4ec7be8edcdad0c56631",
       "version_major": 2,
       "version_minor": 0
      },
      "text/plain": [
       "HBox(children=(FloatProgress(value=0.0, max=3.0), HTML(value='')))"
      ]
     },
     "metadata": {},
     "output_type": "display_data"
    },
    {
     "name": "stdout",
     "output_type": "stream",
     "text": [
      "Added 10 rows\n",
      "Procesing 340836922\n"
     ]
    },
    {
     "data": {
      "application/vnd.jupyter.widget-view+json": {
       "model_id": "9bcc31358cb24685a6f402bbf333ac16",
       "version_major": 2,
       "version_minor": 0
      },
      "text/plain": [
       "HBox(children=(FloatProgress(value=0.0, max=5.0), HTML(value='')))"
      ]
     },
     "metadata": {},
     "output_type": "display_data"
    },
    {
     "name": "stdout",
     "output_type": "stream",
     "text": [
      "\n",
      "\n",
      "\n",
      "30487109:\n",
      "Added 105 rows\n",
      "Procesing 79208549\n"
     ]
    },
    {
     "data": {
      "application/vnd.jupyter.widget-view+json": {
       "model_id": "48c53029473c4f6c8739714d26b0b311",
       "version_major": 2,
       "version_minor": 0
      },
      "text/plain": [
       "HBox(children=(FloatProgress(value=0.0, max=47.0), HTML(value='')))"
      ]
     },
     "metadata": {},
     "output_type": "display_data"
    },
    {
     "name": "stdout",
     "output_type": "stream",
     "text": [
      "19805317:\n",
      "Empty face: https://sun9-50.userapi.com/c1863/u227968/75196187/m_05205b12.jpg (386, 251, 130, 98)\n",
      "Empty face: https://sun9-50.userapi.com/c1863/u227968/75196187/m_05205b12.jpg (278, 251, 130, 98)\n",
      "Added 59 rows\n",
      "Procesing 769038\n"
     ]
    },
    {
     "data": {
      "application/vnd.jupyter.widget-view+json": {
       "model_id": "a5f100c770714ba0adad5e5d51237316",
       "version_major": 2,
       "version_minor": 0
      },
      "text/plain": [
       "HBox(children=(FloatProgress(value=0.0, max=271.0), HTML(value='')))"
      ]
     },
     "metadata": {},
     "output_type": "display_data"
    },
    {
     "name": "stdout",
     "output_type": "stream",
     "text": [
      "Added 144 rows\n",
      "Added 43 rows\n",
      "Procesing 52645253\n"
     ]
    },
    {
     "data": {
      "application/vnd.jupyter.widget-view+json": {
       "model_id": "7b043d3348004e16a408e974150c1571",
       "version_major": 2,
       "version_minor": 0
      },
      "text/plain": [
       "HBox(children=(FloatProgress(value=0.0, max=413.0), HTML(value='')))"
      ]
     },
     "metadata": {},
     "output_type": "display_data"
    },
    {
     "name": "stdout",
     "output_type": "stream",
     "text": [
      "Procesing 84772260\n"
     ]
    },
    {
     "data": {
      "application/vnd.jupyter.widget-view+json": {
       "model_id": "b6142c3f67f04b058f47fc0635c37268",
       "version_major": 2,
       "version_minor": 0
      },
      "text/plain": [
       "HBox(children=(FloatProgress(value=0.0, max=500.0), HTML(value='')))"
      ]
     },
     "metadata": {},
     "output_type": "display_data"
    },
    {
     "name": "stdout",
     "output_type": "stream",
     "text": [
      "16628387:\n",
      "Added 4 rows\n",
      "340836922:\n",
      "Procesing 81357139\n",
      "Speed: 0.2663823238288528 obj/sec (8 in 30.032022714614868 seconds). AVG: 0.16783579431181736\n",
      "Active threads: 20\n",
      "Added 0 threads\n",
      "Active threads: 20\n"
     ]
    },
    {
     "data": {
      "application/vnd.jupyter.widget-view+json": {
       "model_id": "76be9ef060c14eeb8fe48f0e1f92c716",
       "version_major": 2,
       "version_minor": 0
      },
      "text/plain": [
       "HBox(children=(FloatProgress(value=0.0, max=92.0), HTML(value='')))"
      ]
     },
     "metadata": {},
     "output_type": "display_data"
    },
    {
     "name": "stdout",
     "output_type": "stream",
     "text": [
      "Added 4 rows\n",
      "229320523:\n",
      "Procesing 398667390\n"
     ]
    },
    {
     "data": {
      "application/vnd.jupyter.widget-view+json": {
       "model_id": "e3609ea8de5a4a2f84bdd2c166ed62de",
       "version_major": 2,
       "version_minor": 0
      },
      "text/plain": [
       "HBox(children=(FloatProgress(value=0.0, max=5.0), HTML(value='')))"
      ]
     },
     "metadata": {},
     "output_type": "display_data"
    },
    {
     "name": "stdout",
     "output_type": "stream",
     "text": [
      "573711620:\n",
      "Added 18 rows\n",
      "Added 12 rows\n",
      "Procesing 50924519\n"
     ]
    },
    {
     "data": {
      "application/vnd.jupyter.widget-view+json": {
       "model_id": "e6596f8813e84792a65e3b59c45a6cbd",
       "version_major": 2,
       "version_minor": 0
      },
      "text/plain": [
       "HBox(children=(FloatProgress(value=0.0, max=288.0), HTML(value='')))"
      ]
     },
     "metadata": {},
     "output_type": "display_data"
    },
    {
     "name": "stdout",
     "output_type": "stream",
     "text": [
      "Procesing 50924519\n"
     ]
    },
    {
     "data": {
      "application/vnd.jupyter.widget-view+json": {
       "model_id": "76b661d989f24d4ba66fa7891d757926",
       "version_major": 2,
       "version_minor": 0
      },
      "text/plain": [
       "HBox(children=(FloatProgress(value=0.0, max=288.0), HTML(value='')))"
      ]
     },
     "metadata": {},
     "output_type": "display_data"
    },
    {
     "name": "stdout",
     "output_type": "stream",
     "text": [
      "\n",
      "398667390:\n",
      "Added 4 rows\n",
      "Procesing 181647402\n"
     ]
    },
    {
     "data": {
      "application/vnd.jupyter.widget-view+json": {
       "model_id": "63d4a6f3dbc84172bc82c8b9ae104a51",
       "version_major": 2,
       "version_minor": 0
      },
      "text/plain": [
       "HBox(children=(FloatProgress(value=0.0, max=11.0), HTML(value='')))"
      ]
     },
     "metadata": {},
     "output_type": "display_data"
    },
    {
     "name": "stdout",
     "output_type": "stream",
     "text": [
      "\n",
      "Empty face: https://sun3-11.userapi.com/T8KBioMISXk41E7tA8HngBOLZyr8R8SBP5ZHmw/j1cvmtv7PZE.jpg (1602, 1480, 807, 605)\n",
      "Empty face: https://sun3-11.userapi.com/T8KBioMISXk41E7tA8HngBOLZyr8R8SBP5ZHmw/j1cvmtv7PZE.jpg (2388, 1538, 807, 605)\n",
      "Empty face: https://sun3-11.userapi.com/T8KBioMISXk41E7tA8HngBOLZyr8R8SBP5ZHmw/j1cvmtv7PZE.jpg (1607, 770, 807, 605)\n",
      "Empty face: https://sun3-11.userapi.com/T8KBioMISXk41E7tA8HngBOLZyr8R8SBP5ZHmw/j1cvmtv7PZE.jpg (916, 1539, 807, 605)\n",
      "\n",
      "Speed: 0.13326286333669377 obj/sec (4 in 30.01586413383484 seconds). AVG: 0.164378501214305\n",
      "Active threads: 20\n",
      "Added 0 threads\n",
      "Active threads: 20\n",
      "181647402:\n",
      "\n",
      "Added 14 rows\n",
      "Procesing 341675688\n"
     ]
    },
    {
     "data": {
      "application/vnd.jupyter.widget-view+json": {
       "model_id": "6ad4eaa8899e4458b89734fa7a5ce914",
       "version_major": 2,
       "version_minor": 0
      },
      "text/plain": [
       "HBox(children=(FloatProgress(value=0.0, max=4.0), HTML(value='')))"
      ]
     },
     "metadata": {},
     "output_type": "display_data"
    },
    {
     "name": "stdout",
     "output_type": "stream",
     "text": [
      "Empty face: https://sun9-9.userapi.com/c621724/v621724139/108f4/Yj3O2UIJNB0.jpg (152, 137, 75, 52)\n",
      "\n",
      "Empty face: https://sun3-10.userapi.com/CxOE2EfsuaY--FJvU0pdk2eBL800WKiYyk5WeA/z598AfT6keA.jpg (127, 145, 45, 75)\n",
      "341675688:\n",
      "Added 2 rows\n",
      "Procesing 4674995\n"
     ]
    },
    {
     "data": {
      "application/vnd.jupyter.widget-view+json": {
       "model_id": "697544cda7e9435d95a1e65eecb8215a",
       "version_major": 2,
       "version_minor": 0
      },
      "text/plain": [
       "HBox(children=(FloatProgress(value=0.0, max=146.0), HTML(value='')))"
      ]
     },
     "metadata": {},
     "output_type": "display_data"
    },
    {
     "name": "stdout",
     "output_type": "stream",
     "text": [
      "Speed: 0.09999694356723658 obj/sec (3 in 30.000916957855225 seconds). AVG: 0.15794034544959815\n",
      "Active threads: 20\n",
      "Added 0 threads\n",
      "Active threads: 20\n",
      "79208549:\n",
      "Empty face: https://sun3-12.userapi.com/vBiid7yKBsXkn_MbY5vDrc4nr7z-ciZFzuVRxw/-MZyArDfTj0.jpg (132, 145, 54, 75)\n",
      "Added 33 rows\n",
      "Procesing 88365417\n"
     ]
    },
    {
     "data": {
      "application/vnd.jupyter.widget-view+json": {
       "model_id": "b3aa434876a245749eb709d7fb76de17",
       "version_major": 2,
       "version_minor": 0
      },
      "text/plain": [
       "HBox(children=(FloatProgress(value=0.0, max=1.0), HTML(value='')))"
      ]
     },
     "metadata": {},
     "output_type": "display_data"
    },
    {
     "name": "stdout",
     "output_type": "stream",
     "text": [
      "\n",
      "88365417:\n",
      "Added 1 rows\n",
      "Procesing 450734637\n"
     ]
    },
    {
     "data": {
      "application/vnd.jupyter.widget-view+json": {
       "model_id": "5a69c187fa034d3aa883b204ace2ed4f",
       "version_major": 2,
       "version_minor": 0
      },
      "text/plain": [
       "HBox(children=(FloatProgress(value=0.0, max=1.0), HTML(value='')))"
      ]
     },
     "metadata": {},
     "output_type": "display_data"
    },
    {
     "name": "stdout",
     "output_type": "stream",
     "text": [
      "\n",
      "450734637:\n",
      "Added 1 rows\n",
      "40924002:\n",
      "\n",
      "Empty face: https://sun9-49.userapi.com/c633326/v633326191/2007d/SA7UxsAHWEI.jpg (149, 151, 60, 75)\n",
      "Empty face: https://sun3-12.userapi.com/KGmSGiwT0bhs2R48Aaxmf27nlMMIFOuVBA52Fg/93tVmAWaLBA.jpg (148, 134, 75, 52)\n",
      "Empty face: https://sun3-12.userapi.com/KGmSGiwT0bhs2R48Aaxmf27nlMMIFOuVBA52Fg/93tVmAWaLBA.jpg (220, 136, 75, 52)\n",
      "Empty face: https://sun3-12.userapi.com/KGmSGiwT0bhs2R48Aaxmf27nlMMIFOuVBA52Fg/93tVmAWaLBA.jpg (149, 69, 75, 52)\n",
      "Empty face: https://sun3-12.userapi.com/KGmSGiwT0bhs2R48Aaxmf27nlMMIFOuVBA52Fg/93tVmAWaLBA.jpg (85, 141, 75, 52)\n",
      "Speed: 0.09999993006393237 obj/sec (3 in 30.00002098083496 seconds). AVG: 0.15214630391103157\n",
      "Active threads: 19\n",
      "Added 1 threads\n",
      "Active threads: 20\n",
      "Procesing 82049899\n"
     ]
    },
    {
     "data": {
      "application/vnd.jupyter.widget-view+json": {
       "model_id": "ad24b1f101ff467083ef68f22eece675",
       "version_major": 2,
       "version_minor": 0
      },
      "text/plain": [
       "HBox(children=(FloatProgress(value=0.0, max=8.0), HTML(value='')))"
      ]
     },
     "metadata": {},
     "output_type": "display_data"
    },
    {
     "name": "stdout",
     "output_type": "stream",
     "text": [
      "175614861:\n",
      "Empty face: https://sun9-50.userapi.com/c52/u227968/3857513/m_98366fb229.jpg (339, 354, 130, 172)\n",
      "Added 9 rows\n",
      "Empty face: https://sun9-56.userapi.com/c622129/v622129139/27fab/ogUf7bj7IAI.jpg (150, 152, 75, 75)\n",
      "Procesing 135776598\n"
     ]
    },
    {
     "data": {
      "application/vnd.jupyter.widget-view+json": {
       "model_id": "3782f90460334810b5f6b40fd2500960",
       "version_major": 2,
       "version_minor": 0
      },
      "text/plain": [
       "HBox(children=(FloatProgress(value=0.0, max=4.0), HTML(value='')))"
      ]
     },
     "metadata": {},
     "output_type": "display_data"
    },
    {
     "name": "stdout",
     "output_type": "stream",
     "text": [
      "Added 86 rows\n",
      "\n",
      "Procesing 910902\n"
     ]
    },
    {
     "data": {
      "application/vnd.jupyter.widget-view+json": {
       "model_id": "5c225ee0a4e94ed3975bd11fbd46f1d3",
       "version_major": 2,
       "version_minor": 0
      },
      "text/plain": [
       "HBox(children=(FloatProgress(value=0.0, max=314.0), HTML(value='')))"
      ]
     },
     "metadata": {},
     "output_type": "display_data"
    },
    {
     "name": "stdout",
     "output_type": "stream",
     "text": [
      "\n",
      "\n",
      "135776598:\n",
      "Added 1 rows\n",
      "\n",
      "82049899:\n",
      "Added 1 rows\n",
      "Procesing 212204486\n"
     ]
    },
    {
     "data": {
      "application/vnd.jupyter.widget-view+json": {
       "model_id": "7e9d53e9988649628c8bdf15c46c243c",
       "version_major": 2,
       "version_minor": 0
      },
      "text/plain": [
       "HBox(children=(FloatProgress(value=0.0, max=64.0), HTML(value='')))"
      ]
     },
     "metadata": {},
     "output_type": "display_data"
    },
    {
     "name": "stdout",
     "output_type": "stream",
     "text": [
      "Procesing 119020624\n"
     ]
    },
    {
     "data": {
      "application/vnd.jupyter.widget-view+json": {
       "model_id": "bf533974198a4cd0b48bda1aecf002f4",
       "version_major": 2,
       "version_minor": 0
      },
      "text/plain": [
       "HBox(children=(FloatProgress(value=0.0, max=317.0), HTML(value='')))"
      ]
     },
     "metadata": {},
     "output_type": "display_data"
    },
    {
     "name": "stdout",
     "output_type": "stream",
     "text": [
      "\n",
      "Empty face: https://sun9-50.userapi.com/c1422/u227968/3857513/m_b61d391b.jpg (263, 236, 130, 98)\n",
      "Empty face: https://sun9-50.userapi.com/c1422/u227968/3857513/m_b61d391b.jpg (373, 236, 130, 98)\n",
      "Empty face: https://sun9-50.userapi.com/c1422/u227968/3857513/m_b61d391b.jpg (269, 127, 130, 98)\n",
      "Empty face: https://sun9-50.userapi.com/c1422/u227968/3857513/m_b61d391b.jpg (379, 125, 130, 98)\n",
      "Empty face: https://sun9-50.userapi.com/c1422/u227968/3857513/m_b61d391b.jpg (270, 363, 130, 98)\n",
      "Empty face: https://sun9-50.userapi.com/c1422/u227968/3857513/m_b61d391b.jpg (385, 365, 130, 98)\n",
      "Speed: 0.29995818482621484 obj/sec (9 in 30.00418210029602 seconds). AVG: 0.1669274920025499\n",
      "Active threads: 20\n",
      "Added 0 threads\n",
      "Active threads: 20\n",
      "81357139:\n",
      "Added 24 rows\n",
      "Procesing 96369203\n"
     ]
    },
    {
     "data": {
      "application/vnd.jupyter.widget-view+json": {
       "model_id": "881c473f286c4b9b91531bd697814e0b",
       "version_major": 2,
       "version_minor": 0
      },
      "text/plain": [
       "HBox(children=(FloatProgress(value=0.0, max=168.0), HTML(value='')))"
      ]
     },
     "metadata": {},
     "output_type": "display_data"
    },
    {
     "name": "stdout",
     "output_type": "stream",
     "text": [
      "Empty face: https://sun9-55.userapi.com/c636620/v636620107/28af5/-RAu04XnoOk.jpg (150, 148, 75, 70)\n",
      "Empty face: https://sun9-55.userapi.com/c636620/v636620107/28af5/-RAu04XnoOk.jpg (214, 148, 75, 70)\n",
      "Empty face: https://sun9-55.userapi.com/c636620/v636620107/28af5/-RAu04XnoOk.jpg (153, 215, 75, 70)\n",
      "Empty face: https://sun9-55.userapi.com/c636620/v636620107/28af5/-RAu04XnoOk.jpg (220, 218, 75, 70)\n",
      "Empty face: https://sun9-55.userapi.com/c636620/v636620107/28af5/-RAu04XnoOk.jpg (84, 147, 75, 70)\n",
      "Empty face: https://sun9-55.userapi.com/c636620/v636620107/28af5/-RAu04XnoOk.jpg (152, 81, 75, 70)\n",
      "Speed: 0.03330793701183913 obj/sec (1 in 30.022874116897583 seconds). AVG: 0.15356553650347882\n",
      "Active threads: 20\n",
      "Added 0 threads\n",
      "Active threads: 20\n",
      "162666116:\n",
      "Added 57 rows\n",
      "Procesing 170077424\n"
     ]
    },
    {
     "data": {
      "application/vnd.jupyter.widget-view+json": {
       "model_id": "554aa6317d5742c8aefbeefefd269576",
       "version_major": 2,
       "version_minor": 0
      },
      "text/plain": [
       "HBox(children=(FloatProgress(value=0.0, max=13.0), HTML(value='')))"
      ]
     },
     "metadata": {},
     "output_type": "display_data"
    },
    {
     "name": "stdout",
     "output_type": "stream",
     "text": [
      "\n",
      "181884459:\n",
      "Speed: 0.03332777884125646 obj/sec (1 in 30.00499987602234 seconds). AVG: 0.14154176073725658\n",
      "Active threads: 20\n",
      "Added 0 threads\n",
      "Active threads: 20\n",
      "\n",
      "\n",
      "212204486:\n",
      "Added 11 rows\n",
      "Procesing 225597500\n"
     ]
    },
    {
     "data": {
      "application/vnd.jupyter.widget-view+json": {
       "model_id": "9709e4731b7342dd966c8ed06b0ae9ed",
       "version_major": 2,
       "version_minor": 0
      },
      "text/plain": [
       "HBox(children=(FloatProgress(value=0.0, max=68.0), HTML(value='')))"
      ]
     },
     "metadata": {},
     "output_type": "display_data"
    },
    {
     "name": "stdout",
     "output_type": "stream",
     "text": [
      "\n",
      "Empty face: https://sun9-47.userapi.com/c198/u910902/42678634/m_d349b7d5.jpg (259, 240, 130, 97)\n",
      "Empty face: https://sun9-47.userapi.com/SbgrfbeW7MD8P7ZPt70wWZuCt7mWdsO2aSSdLA/Tjs8OFMF2DY.jpg (145, 144, 75, 75)\n",
      "Empty face: https://sun9-47.userapi.com/SbgrfbeW7MD8P7ZPt70wWZuCt7mWdsO2aSSdLA/Tjs8OFMF2DY.jpg (146, 82, 75, 75)\n",
      "Empty face: https://sun9-47.userapi.com/SbgrfbeW7MD8P7ZPt70wWZuCt7mWdsO2aSSdLA/Tjs8OFMF2DY.jpg (84, 144, 75, 75)\n",
      "Empty face: https://sun9-47.userapi.com/SbgrfbeW7MD8P7ZPt70wWZuCt7mWdsO2aSSdLA/Tjs8OFMF2DY.jpg (84, 80, 75, 75)\n",
      "170077424:\n",
      "Added 11 rows\n",
      "Procesing 370285501\n"
     ]
    },
    {
     "data": {
      "application/vnd.jupyter.widget-view+json": {
       "model_id": "6c9b85c5b6534376bea2cc8fbd91e030",
       "version_major": 2,
       "version_minor": 0
      },
      "text/plain": [
       "HBox(children=(FloatProgress(value=0.0, max=10.0), HTML(value='')))"
      ]
     },
     "metadata": {},
     "output_type": "display_data"
    },
    {
     "name": "stdout",
     "output_type": "stream",
     "text": [
      "Speed: 0.06662842614111059 obj/sec (2 in 30.017218112945557 seconds). AVG: 0.134050427277642\n",
      "Active threads: 20\n",
      "Added 0 threads\n",
      "Active threads: 20\n",
      "\n",
      "\n",
      "370285501:\n",
      "Added 7 rows\n",
      "Procesing 325596926\n"
     ]
    },
    {
     "data": {
      "application/vnd.jupyter.widget-view+json": {
       "model_id": "02921aad6d9d4cb6b61b91c42069a5b5",
       "version_major": 2,
       "version_minor": 0
      },
      "text/plain": [
       "HBox(children=(FloatProgress(value=0.0, max=7.0), HTML(value='')))"
      ]
     },
     "metadata": {},
     "output_type": "display_data"
    },
    {
     "name": "stdout",
     "output_type": "stream",
     "text": [
      "\n",
      "Speed: 0.06665763235678504 obj/sec (2 in 30.004065990447998 seconds). AVG: 0.1273111477855563\n",
      "Active threads: 20\n",
      "Added 0 threads\n",
      "Active threads: 20\n",
      "\n",
      "Added 413 rows\n",
      "Procesing 7690234\n"
     ]
    },
    {
     "data": {
      "application/vnd.jupyter.widget-view+json": {
       "model_id": "4c7607faf1a740bf9cf91d5ac7af2fb0",
       "version_major": 2,
       "version_minor": 0
      },
      "text/plain": [
       "HBox(children=(FloatProgress(value=0.0, max=7.0), HTML(value='')))"
      ]
     },
     "metadata": {},
     "output_type": "display_data"
    },
    {
     "name": "stdout",
     "output_type": "stream",
     "text": [
      "\n",
      "\n",
      "\n",
      "Speed: 0.06658187485240322 obj/sec (2 in 30.03820490837097 seconds). AVG: 0.12123822049224099\n",
      "Active threads: 20\n",
      "Added 0 threads\n",
      "Active threads: 20\n",
      "Empty face: https://sun9-47.userapi.com/c198/u910902/42678634/m_a60edb8d.jpg (260, 364, 130, 97)\n",
      "Empty face: https://sun9-47.userapi.com/c198/u910902/42678634/m_a60edb8d.jpg (258, 250, 130, 97)\n",
      "325596926:\n",
      "Added 4 rows\n",
      "Procesing 206943529\n",
      "146922343:"
     ]
    },
    {
     "data": {
      "application/vnd.jupyter.widget-view+json": {
       "model_id": "29164e80ac5e4a2da1334c67db53879b",
       "version_major": 2,
       "version_minor": 0
      },
      "text/plain": [
       "HBox(children=(FloatProgress(value=0.0, max=3.0), HTML(value='')))"
      ]
     },
     "metadata": {},
     "output_type": "display_data"
    },
    {
     "name": "stdout",
     "output_type": "stream",
     "text": [
      "\n",
      "7690234:\n",
      "Added 5 rows\n",
      "\n",
      "206943529:\n",
      "Added 0 rows\n",
      "Empty face: https://sun3-12.userapi.com/-Tl9omGTwrP3Qx8cqNQMhBrh--rV6kjaSjmwIw/LUO-DmRmCVk.jpg (133, 148, 50, 75)\n",
      "Procesing 376377979\n"
     ]
    },
    {
     "data": {
      "application/vnd.jupyter.widget-view+json": {
       "model_id": "4632d71073f14214b93dc4000a17c6dd",
       "version_major": 2,
       "version_minor": 0
      },
      "text/plain": [
       "HBox(children=(FloatProgress(value=0.0, max=1.0), HTML(value='')))"
      ]
     },
     "metadata": {},
     "output_type": "display_data"
    },
    {
     "name": "stdout",
     "output_type": "stream",
     "text": [
      "\n",
      "376377979:\n",
      "Added 0 rows\n",
      "Procesing 478418964\n"
     ]
    },
    {
     "data": {
      "application/vnd.jupyter.widget-view+json": {
       "model_id": "698fd7c24386408d9a1b576af836491c",
       "version_major": 2,
       "version_minor": 0
      },
      "text/plain": [
       "HBox(children=(FloatProgress(value=0.0, max=4.0), HTML(value='')))"
      ]
     },
     "metadata": {},
     "output_type": "display_data"
    },
    {
     "name": "stdout",
     "output_type": "stream",
     "text": [
      "Procesing 1000684\n"
     ]
    },
    {
     "data": {
      "application/vnd.jupyter.widget-view+json": {
       "model_id": "8d2b8633688a4a7c8b2e9220c017900b",
       "version_major": 2,
       "version_minor": 0
      },
      "text/plain": [
       "HBox(children=(FloatProgress(value=0.0, max=500.0), HTML(value='')))"
      ]
     },
     "metadata": {},
     "output_type": "display_data"
    },
    {
     "name": "stdout",
     "output_type": "stream",
     "text": [
      "\n",
      "Empty face: https://sun3-10.userapi.com/rn2_ZcAcvc5os1qtSk3nxGgz7rZLO0OImPupEg/94qIrWkWTV4.jpg (145, 84, 56, 75)\n",
      "Empty face: https://sun3-10.userapi.com/rn2_ZcAcvc5os1qtSk3nxGgz7rZLO0OImPupEg/94qIrWkWTV4.jpg (145, 147, 56, 75)\n",
      "Speed: 0.1666319402903697 obj/sec (5 in 30.00625205039978 seconds). AVG: 0.12577759247205386\n",
      "Active threads: 20\n",
      "Added 0 threads\n",
      "Active threads: 20\n",
      "Empty face: https://sun3-10.userapi.com/sBVW4P8YSVSo3WvTk4z_chGMS50WLXJcZJzXSw/CWsE7AvaydY.jpg (144, 155, 59, 75)\n",
      "Added 181 rows\n",
      "Procesing 287434318\n"
     ]
    },
    {
     "data": {
      "application/vnd.jupyter.widget-view+json": {
       "model_id": "d71ee13cd99444f8bf49a27ecc42f4c3",
       "version_major": 2,
       "version_minor": 0
      },
      "text/plain": [
       "HBox(children=(FloatProgress(value=0.0, max=1.0), HTML(value='')))"
      ]
     },
     "metadata": {},
     "output_type": "display_data"
    },
    {
     "name": "stdout",
     "output_type": "stream",
     "text": [
      "\n",
      "287434318:\n",
      "Added 0 rows\n",
      "Empty face: https://sun9-65.userapi.com/c626331/v626331684/bf59/M_4KVH-Hlco.jpg (1563, 1568, 807, 807)\n",
      "Empty face: https://sun9-18.userapi.com/c4416/u7303393/109982762/m_c44a081c.jpg (383, 246, 130, 97)\n",
      "Empty face: https://sun9-18.userapi.com/c4416/u7303393/109982762/m_c44a081c.jpg (272, 248, 130, 97)\n",
      "Speed: 0.0666461859169242 obj/sec (2 in 30.0092191696167 seconds). AVG: 0.11986445181654089\n",
      "Active threads: 19\n",
      "Added 1 threads\n",
      "Active threads: 20\n",
      "Procesing 65312989\n"
     ]
    },
    {
     "data": {
      "application/vnd.jupyter.widget-view+json": {
       "model_id": "06c71c664d554670a9ed30314dcca927",
       "version_major": 2,
       "version_minor": 0
      },
      "text/plain": [
       "HBox(children=(FloatProgress(value=0.0, max=3.0), HTML(value='')))"
      ]
     },
     "metadata": {},
     "output_type": "display_data"
    },
    {
     "name": "stdout",
     "output_type": "stream",
     "text": [
      "168201107:\n",
      "478418964:\n",
      "Added 2 rows\n",
      "\n",
      "65312989:\n",
      "Added 4 rows\n",
      "Procesing 264032989\n"
     ]
    },
    {
     "data": {
      "application/vnd.jupyter.widget-view+json": {
       "model_id": "23c1a16192a84e9aa918f4380c6b3a3f",
       "version_major": 2,
       "version_minor": 0
      },
      "text/plain": [
       "HBox(children=(FloatProgress(value=0.0, max=2.0), HTML(value='')))"
      ]
     },
     "metadata": {},
     "output_type": "display_data"
    },
    {
     "name": "stdout",
     "output_type": "stream",
     "text": [
      "\n",
      "264032989:\n",
      "Added 0 rows\n",
      "Added 86 rows\n",
      "Procesing 300872948\n"
     ]
    },
    {
     "data": {
      "application/vnd.jupyter.widget-view+json": {
       "model_id": "7f14627544d745e796cc06477cf2738a",
       "version_major": 2,
       "version_minor": 0
      },
      "text/plain": [
       "HBox(children=(FloatProgress(value=0.0, max=1.0), HTML(value='')))"
      ]
     },
     "metadata": {},
     "output_type": "display_data"
    },
    {
     "name": "stdout",
     "output_type": "stream",
     "text": [
      "Empty face: https://sun9-47.userapi.com/c198/u910902/42678634/m_846fd9ea.jpg (265, 245, 130, 97)\n",
      "\n",
      "Procesing 40981497\n"
     ]
    },
    {
     "data": {
      "application/vnd.jupyter.widget-view+json": {
       "model_id": "4386cc86aa6a44d699ad043f7e23d0aa",
       "version_major": 2,
       "version_minor": 0
      },
      "text/plain": [
       "HBox(children=(FloatProgress(value=0.0, max=206.0), HTML(value='')))"
      ]
     },
     "metadata": {},
     "output_type": "display_data"
    },
    {
     "name": "stdout",
     "output_type": "stream",
     "text": [
      "\n",
      "\n",
      "300872948:\n",
      "Added 1 rows\n",
      "Procesing 78674354\n"
     ]
    },
    {
     "data": {
      "application/vnd.jupyter.widget-view+json": {
       "model_id": "1c3c1f42ba5544e193cec11089b4b4d2",
       "version_major": 2,
       "version_minor": 0
      },
      "text/plain": [
       "HBox(children=(FloatProgress(value=0.0, max=64.0), HTML(value='')))"
      ]
     },
     "metadata": {},
     "output_type": "display_data"
    },
    {
     "name": "stdout",
     "output_type": "stream",
     "text": [
      "\n",
      "225597500:\n",
      "Speed: 0.23295358837334343 obj/sec (7 in 30.048903942108154 seconds). AVG: 0.13117336547222114\n",
      "Active threads: 19\n",
      "Added 1 threads\n",
      "Active threads: 20\n",
      "Procesing 417963674\n"
     ]
    },
    {
     "data": {
      "application/vnd.jupyter.widget-view+json": {
       "model_id": "0eca89773bb449cdbb10f1d6cd5e62af",
       "version_major": 2,
       "version_minor": 0
      },
      "text/plain": [
       "HBox(children=(FloatProgress(value=0.0, max=8.0), HTML(value='')))"
      ]
     },
     "metadata": {},
     "output_type": "display_data"
    },
    {
     "name": "stdout",
     "output_type": "stream",
     "text": [
      "Empty face: https://sun9-19.userapi.com/c543106/v543106294/cf93/U_8m8Rbs9KE.jpg (149, 147, 75, 75)\n",
      "Empty face: https://sun9-19.userapi.com/c543106/v543106294/cf93/U_8m8Rbs9KE.jpg (214, 146, 75, 75)\n",
      "Empty face: https://sun9-19.userapi.com/c543106/v543106294/cf93/U_8m8Rbs9KE.jpg (151, 218, 75, 75)\n",
      "Empty face: https://sun9-19.userapi.com/c543106/v543106294/cf93/U_8m8Rbs9KE.jpg (224, 223, 75, 75)\n",
      "Empty face: https://sun9-19.userapi.com/c543106/v543106294/cf93/U_8m8Rbs9KE.jpg (153, 80, 75, 75)\n",
      "Empty face: https://sun9-19.userapi.com/c543106/v543106294/cf93/U_8m8Rbs9KE.jpg (222, 80, 75, 75)\n",
      "Empty face: https://sun9-19.userapi.com/c543106/v543106294/cf93/U_8m8Rbs9KE.jpg (285, 145, 75, 75)\n",
      "Added 31 rows\n",
      "Procesing 49503650\n"
     ]
    },
    {
     "data": {
      "application/vnd.jupyter.widget-view+json": {
       "model_id": "bec81493ab3a4093820fe4cf05f2a05f",
       "version_major": 2,
       "version_minor": 0
      },
      "text/plain": [
       "HBox(children=(FloatProgress(value=0.0, max=84.0), HTML(value='')))"
      ]
     },
     "metadata": {},
     "output_type": "display_data"
    },
    {
     "name": "stdout",
     "output_type": "stream",
     "text": [
      "Empty face: https://sun9-39.userapi.com/c626224/v626224684/1823b/zpAUcyNSaJQ.jpg (1510, 1362, 750, 443)\n",
      "Empty face: https://sun9-39.userapi.com/c626224/v626224684/1823b/zpAUcyNSaJQ.jpg (894, 1379, 750, 443)\n",
      "\n",
      "\n",
      "\n",
      "417963674:\n",
      "Added 1 rows\n",
      "Speed: 0.1333107816910817 obj/sec (4 in 30.005074977874756 seconds). AVG: 0.1313871070941072\n",
      "Active threads: 20\n",
      "Added 0 threads\n",
      "Active threads: 20\n",
      "Procesing 82726484\n"
     ]
    },
    {
     "data": {
      "application/vnd.jupyter.widget-view+json": {
       "model_id": "d33b427106324f5283b975822861d6c3",
       "version_major": 2,
       "version_minor": 0
      },
      "text/plain": [
       "HBox(children=(FloatProgress(value=0.0, max=49.0), HTML(value='')))"
      ]
     },
     "metadata": {},
     "output_type": "display_data"
    },
    {
     "name": "stdout",
     "output_type": "stream",
     "text": [
      "Empty face: https://sun3-12.userapi.com/9Wch4i6nYtBAGDmgB1gnb_N4Su7zsjVAcvCfsg/4Jypch0NdQE.jpg (152, 147, 75, 60)\n",
      "Empty face: https://sun3-12.userapi.com/9Wch4i6nYtBAGDmgB1gnb_N4Su7zsjVAcvCfsg/4Jypch0NdQE.jpg (152, 210, 75, 60)\n",
      "172131362:\n",
      "Speed: 0.0 obj/sec (0 in 30.036924839019775 seconds). AVG: 0.11824839638469647\n",
      "Active threads: 20\n",
      "Added 0 threads\n",
      "Active threads: 20\n",
      "\n",
      "Empty face: https://sun3-10.userapi.com/5LdIULO7wkIbFYr4KeI9UmsaC9YOn7Nwgy8PPA/8v3tSeG9b3M.jpg (73, 148, 65, 75)\n",
      "Added 135 rows\n",
      "Speed: 0.0666654507540903 obj/sec (2 in 30.000547170639038 seconds). AVG: 0.11309010182163587\n",
      "Active threads: 19\n",
      "Added 1 threads\n",
      "Active threads: 20\n",
      "Procesing 186327094\n"
     ]
    },
    {
     "data": {
      "application/vnd.jupyter.widget-view+json": {
       "model_id": "e6e5e462dc4341b7abd92e07c0f13149",
       "version_major": 2,
       "version_minor": 0
      },
      "text/plain": [
       "HBox(children=(FloatProgress(value=0.0, max=7.0), HTML(value='')))"
      ]
     },
     "metadata": {},
     "output_type": "display_data"
    },
    {
     "name": "stdout",
     "output_type": "stream",
     "text": [
      "\n",
      "\n",
      "\n",
      "4674995:\n",
      "Added 88 rows\n",
      "Procesing 228894487\n"
     ]
    },
    {
     "data": {
      "application/vnd.jupyter.widget-view+json": {
       "model_id": "239ce40c31474d52884f8505d587b7c1",
       "version_major": 2,
       "version_minor": 0
      },
      "text/plain": [
       "HBox(children=(FloatProgress(value=0.0, max=2.0), HTML(value='')))"
      ]
     },
     "metadata": {},
     "output_type": "display_data"
    },
    {
     "name": "stdout",
     "output_type": "stream",
     "text": [
      "Speed: 0.03332246260827695 obj/sec (1 in 30.00978684425354 seconds). AVG: 0.10511333790029997\n",
      "Active threads: 20\n",
      "Added 0 threads\n",
      "Active threads: 20\n",
      "\n",
      "\n",
      "\n",
      "Speed: 0.0 obj/sec (0 in 30.04800510406494 seconds). AVG: 0.09460200411026998\n",
      "Active threads: 20\n",
      "Added 0 threads\n",
      "Active threads: 20\n",
      "Empty face: https://sun3-13.userapi.com/jFkHKiLEihSomQWiJITrY-f0ghJwe4enoLDmcQ/jXRf2xzeCjE.jpg (136, 144, 56, 75)\n",
      "Speed: 0.0 obj/sec (0 in 30.032696962356567 seconds). AVG: 0.08514180369924298\n",
      "Active threads: 20\n",
      "Added 0 threads\n",
      "Active threads: 20\n",
      "\n",
      "Empty face: https://sun9-52.userapi.com/J22DJlu4SLxla2a7k6pd2-xZEEdhu09WWa17ug/Z-jUI64RKZU.jpg (1248, 675, 612, 612)\n",
      "Empty face: https://sun9-52.userapi.com/J22DJlu4SLxla2a7k6pd2-xZEEdhu09WWa17ug/Z-jUI64RKZU.jpg (1261, 1193, 612, 612)\n",
      "Empty face: https://sun9-44.userapi.com/c4319/u1000684/94322348/m_0032d487.jpg (277, 244, 130, 87)\n",
      "Empty face: https://sun9-44.userapi.com/c4319/u1000684/94322348/m_0032d487.jpg (386, 245, 130, 87)\n",
      "\n",
      "\n",
      "Empty face: https://sun9-32.userapi.com/c631627/v631627684/17d25/99gy-uON7xw.jpg (1544, 1611, 807, 807)\n",
      "Empty face: https://sun9-32.userapi.com/c631627/v631627684/17d25/99gy-uON7xw.jpg (857, 1634, 807, 807)\n",
      "Empty face: https://sun9-32.userapi.com/c631627/v631627684/17d25/99gy-uON7xw.jpg (1551, 2301, 807, 807)\n",
      "Empty face: https://sun9-32.userapi.com/c631627/v631627684/17d25/99gy-uON7xw.jpg (890, 2373, 807, 807)\n",
      "Empty face: https://sun9-32.userapi.com/c631627/v631627684/17d25/99gy-uON7xw.jpg (2335, 1633, 807, 807)\n",
      "Empty face: https://sun9-32.userapi.com/c631627/v631627684/17d25/99gy-uON7xw.jpg (2379, 2385, 807, 807)\n",
      "Empty face: https://sun9-32.userapi.com/c631627/v631627684/17d25/99gy-uON7xw.jpg (1570, 875, 807, 807)\n",
      "\n",
      "227968:\n",
      "Empty face: https://sun9-10.userapi.com/c836227/v836227684/2a08e/-B3OTF6R0gM.jpg (1576, 1569, 807, 807)\n",
      "Empty face: https://sun9-10.userapi.com/c836227/v836227684/2a08e/-B3OTF6R0gM.jpg (2295, 1580, 807, 807)\n",
      "Empty face: https://sun9-10.userapi.com/c836227/v836227684/2a08e/-B3OTF6R0gM.jpg (1618, 2322, 807, 807)\n",
      "Empty face: https://sun9-10.userapi.com/c836227/v836227684/2a08e/-B3OTF6R0gM.jpg (860, 1580, 807, 807)\n",
      "Empty face: https://sun9-10.userapi.com/c836227/v836227684/2a08e/-B3OTF6R0gM.jpg (1623, 887, 807, 807)\n",
      "Empty face: https://sun9-10.userapi.com/c836227/v836227684/2a08e/-B3OTF6R0gM.jpg (2378, 2372, 807, 807)\n",
      "Empty face: https://sun9-10.userapi.com/c836227/v836227684/2a08e/-B3OTF6R0gM.jpg (2348, 863, 807, 807)\n",
      "Empty face: https://sun9-66.userapi.com/c621728/v621728641/ed9d/lWppzS_pcv0.jpg (152, 151, 75, 75)\n",
      "Speed: 0.0 obj/sec (0 in 30.17111897468567 seconds). AVG: 0.07662762332931869\n",
      "Active threads: 20\n",
      "Added 0 threads\n",
      "Active threads: 20\n",
      "228894487:\n",
      "Added 2 rows\n",
      "Procesing 136294042\n"
     ]
    },
    {
     "data": {
      "application/vnd.jupyter.widget-view+json": {
       "model_id": "b1b1876a4095404a8444533ec9a4ddc0",
       "version_major": 2,
       "version_minor": 0
      },
      "text/plain": [
       "HBox(children=(FloatProgress(value=0.0, max=21.0), HTML(value='')))"
      ]
     },
     "metadata": {},
     "output_type": "display_data"
    },
    {
     "name": "stdout",
     "output_type": "stream",
     "text": [
      "78674354:\n",
      "\n",
      "Added 144 rows\n",
      "Procesing 309186476\n"
     ]
    },
    {
     "data": {
      "application/vnd.jupyter.widget-view+json": {
       "model_id": "d4aeb47516e04741aabe92c3ac4ce2f8",
       "version_major": 2,
       "version_minor": 0
      },
      "text/plain": [
       "HBox(children=(FloatProgress(value=0.0, max=11.0), HTML(value='')))"
      ]
     },
     "metadata": {},
     "output_type": "display_data"
    },
    {
     "name": "stdout",
     "output_type": "stream",
     "text": [
      "Added 62 rows\n",
      "Procesing 14529200\n"
     ]
    },
    {
     "data": {
      "application/vnd.jupyter.widget-view+json": {
       "model_id": "bf90e6fa5d0f48ac8d31de44a223ecd7",
       "version_major": 2,
       "version_minor": 0
      },
      "text/plain": [
       "HBox(children=(FloatProgress(value=0.0, max=500.0), HTML(value='')))"
      ]
     },
     "metadata": {},
     "output_type": "display_data"
    },
    {
     "name": "stdout",
     "output_type": "stream",
     "text": [
      "\n",
      "Empty face: https://sun9-50.userapi.com/c630131/v630131684/1e868/yIpDYwQsg1o.jpg (1237, 1214, 640, 640)\n",
      "Empty face: https://sun9-50.userapi.com/c630131/v630131684/1e868/yIpDYwQsg1o.jpg (1249, 655, 640, 640)\n",
      "Empty face: https://sun9-50.userapi.com/c630131/v630131684/1e868/yIpDYwQsg1o.jpg (1877, 1223, 640, 640)\n",
      "Empty face: https://sun9-50.userapi.com/c630131/v630131684/1e868/yIpDYwQsg1o.jpg (636, 1231, 640, 640)\n",
      "Empty face: https://sun9-50.userapi.com/c630131/v630131684/1e868/yIpDYwQsg1o.jpg (1894, 681, 640, 640)\n",
      "Empty face: https://sun9-50.userapi.com/c630131/v630131684/1e868/yIpDYwQsg1o.jpg (674, 690, 640, 640)\n",
      "Empty face: https://sun9-50.userapi.com/c630131/v630131684/1e868/yIpDYwQsg1o.jpg (2461, 1232, 640, 640)\n",
      "Empty face: https://sun9-50.userapi.com/c630131/v630131684/1e868/yIpDYwQsg1o.jpg (38, 1234, 640, 640)\n",
      "\n",
      "Speed: 0.13326642534609784 obj/sec (4 in 30.015061855316162 seconds). AVG: 0.08229150353099661\n",
      "Active threads: 20\n",
      "Added 0 threads\n",
      "Active threads: 20\n",
      "Empty face: https://sun9-61.userapi.com/c841628/v841628760/2243e/ULnKFZi6UKM.jpg (1906, 1183, 640, 480)\n",
      "Empty face: https://sun9-61.userapi.com/c841628/v841628760/2243e/ULnKFZi6UKM.jpg (1911, 641, 640, 480)\n",
      "Empty face: https://sun9-61.userapi.com/c841628/v841628760/2243e/ULnKFZi6UKM.jpg (1376, 1175, 640, 480)\n",
      "Empty face: https://sun9-61.userapi.com/c841628/v841628760/2243e/ULnKFZi6UKM.jpg (2451, 1167, 640, 480)\n",
      "Empty face: https://sun9-69.userapi.com/V3Y7eSlBZbW1yDKEiVmcIkPx_mMWVWJca7BMuQ/uqaUp1wrhyc.jpg (140, 148, 57, 75)\n",
      "50924519:\n",
      "50924519:\n",
      "96369203:\n",
      "Added 126 rows\n",
      "Speed: 0.03332874387784663 obj/sec (1 in 30.004131078720093 seconds). AVG: 0.07739522756568161\n",
      "Active threads: 20\n",
      "Added 0 threads\n",
      "Active threads: 20\n",
      "Added 125 rows\n",
      "Added 94 rows\n",
      "Procesing 570323742\n"
     ]
    },
    {
     "data": {
      "application/vnd.jupyter.widget-view+json": {
       "model_id": "e836d065728d4061a57063e917b61ebf",
       "version_major": 2,
       "version_minor": 0
      },
      "text/plain": [
       "HBox(children=(FloatProgress(value=0.0, max=14.0), HTML(value='')))"
      ]
     },
     "metadata": {},
     "output_type": "display_data"
    },
    {
     "name": "stdout",
     "output_type": "stream",
     "text": [
      "Procesing 172395369\n",
      "186327094:\n"
     ]
    },
    {
     "data": {
      "application/vnd.jupyter.widget-view+json": {
       "model_id": "b54cac1d2c034342a078113f635d868d",
       "version_major": 2,
       "version_minor": 0
      },
      "text/plain": [
       "HBox(children=(FloatProgress(value=0.0, max=10.0), HTML(value='')))"
      ]
     },
     "metadata": {},
     "output_type": "display_data"
    },
    {
     "name": "stdout",
     "output_type": "stream",
     "text": [
      "Added 4 rows\n",
      "Procesing 76213730\n"
     ]
    },
    {
     "data": {
      "application/vnd.jupyter.widget-view+json": {
       "model_id": "3309c77c43504606bd9a7ef08c564af1",
       "version_major": 2,
       "version_minor": 0
      },
      "text/plain": [
       "HBox(children=(FloatProgress(value=0.0, max=500.0), HTML(value='')))"
      ]
     },
     "metadata": {},
     "output_type": "display_data"
    },
    {
     "name": "stdout",
     "output_type": "stream",
     "text": [
      "Procesing 529392097\n"
     ]
    },
    {
     "data": {
      "application/vnd.jupyter.widget-view+json": {
       "model_id": "68d5583c12d04016baaed4a947557a66",
       "version_major": 2,
       "version_minor": 0
      },
      "text/plain": [
       "HBox(children=(FloatProgress(value=0.0, max=1.0), HTML(value='')))"
      ]
     },
     "metadata": {},
     "output_type": "display_data"
    },
    {
     "name": "stdout",
     "output_type": "stream",
     "text": [
      "\n",
      "\n",
      "\n",
      "Speed: 0.166658393952619 obj/sec (5 in 30.00148916244507 seconds). AVG: 0.08632154420437535\n",
      "Active threads: 20\n",
      "Added 0 threads\n",
      "Active threads: 20\n",
      "Empty face: https://sun9-72.userapi.com/c624825/v624825684/64fc5/ABWM-4ZRfRw.jpg (1461, 1455, 750, 750)\n",
      "Empty face: https://sun9-72.userapi.com/c624825/v624825684/64fc5/ABWM-4ZRfRw.jpg (2059, 1452, 750, 750)\n",
      "Empty face: https://sun9-72.userapi.com/c624825/v624825684/64fc5/ABWM-4ZRfRw.jpg (1521, 865, 750, 750)\n",
      "Empty face: https://sun9-72.userapi.com/c624825/v624825684/64fc5/ABWM-4ZRfRw.jpg (1542, 2183, 750, 750)\n",
      "Empty face: https://sun9-72.userapi.com/c624825/v624825684/64fc5/ABWM-4ZRfRw.jpg (851, 1448, 750, 750)\n",
      "Empty face: https://sun9-72.userapi.com/c624825/v624825684/64fc5/ABWM-4ZRfRw.jpg (2131, 816, 750, 750)\n",
      "Empty face: https://sun9-72.userapi.com/c624825/v624825684/64fc5/ABWM-4ZRfRw.jpg (2152, 2195, 750, 750)\n",
      "Empty face: https://sun9-72.userapi.com/c624825/v624825684/64fc5/ABWM-4ZRfRw.jpg (872, 817, 750, 750)\n",
      "Empty face: https://sun9-72.userapi.com/c624825/v624825684/64fc5/ABWM-4ZRfRw.jpg (892, 2191, 750, 750)\n",
      "Speed: 0.0 obj/sec (0 in 30.01522397994995 seconds). AVG: 0.07768938978393782\n",
      "Active threads: 20\n",
      "Added 0 threads\n",
      "Active threads: 20\n",
      "7303393:\n",
      "49503650:\n",
      "Added 48 rows\n",
      "Procesing 173151503\n",
      "910902:\n"
     ]
    },
    {
     "data": {
      "application/vnd.jupyter.widget-view+json": {
       "model_id": "4254e11a4886494faa9b8e71f4381e76",
       "version_major": 2,
       "version_minor": 0
      },
      "text/plain": [
       "HBox(children=(FloatProgress(value=0.0, max=18.0), HTML(value='')))"
      ]
     },
     "metadata": {},
     "output_type": "display_data"
    },
    {
     "name": "stdout",
     "output_type": "stream",
     "text": [
      "Added 66 rows\n",
      "Added 192 rows\n",
      "Procesing 93209185\n"
     ]
    },
    {
     "data": {
      "application/vnd.jupyter.widget-view+json": {
       "model_id": "9698e286d9194e518a37d65e61edd90c",
       "version_major": 2,
       "version_minor": 0
      },
      "text/plain": [
       "HBox(children=(FloatProgress(value=0.0, max=138.0), HTML(value='')))"
      ]
     },
     "metadata": {},
     "output_type": "display_data"
    },
    {
     "name": "stdout",
     "output_type": "stream",
     "text": [
      "172395369:\n",
      "769038:\n",
      "Added 8 rows\n",
      "Procesing 254186419\n"
     ]
    },
    {
     "data": {
      "application/vnd.jupyter.widget-view+json": {
       "model_id": "b0498bfce7394ea4aa4fa6c0c711788c",
       "version_major": 2,
       "version_minor": 0
      },
      "text/plain": [
       "HBox(children=(FloatProgress(value=0.0, max=25.0), HTML(value='')))"
      ]
     },
     "metadata": {},
     "output_type": "display_data"
    },
    {
     "name": "stdout",
     "output_type": "stream",
     "text": [
      "82726484:\n",
      "Added 1 rows\n",
      "Empty face: https://sun9-72.userapi.com/c638729/v638729419/494b2/tFJA3x8jZAk.jpg (1507, 1577, 569, 807)\n",
      "Procesing 169068011\n"
     ]
    },
    {
     "data": {
      "application/vnd.jupyter.widget-view+json": {
       "model_id": "9a17542930044eb3a1f713d253686b1f",
       "version_major": 2,
       "version_minor": 0
      },
      "text/plain": [
       "HBox(children=(FloatProgress(value=0.0, max=97.0), HTML(value='')))"
      ]
     },
     "metadata": {},
     "output_type": "display_data"
    },
    {
     "name": "stdout",
     "output_type": "stream",
     "text": [
      "Speed: 0.3332903493580073 obj/sec (10 in 30.00386905670166 seconds). AVG: 0.10324948574134475\n",
      "Active threads: 19\n",
      "Added 1 threads\n",
      "Active threads: 20\n",
      "Procesing 80039522\n"
     ]
    },
    {
     "data": {
      "application/vnd.jupyter.widget-view+json": {
       "model_id": "add08b9458334122a7d2dc0471e179bc",
       "version_major": 2,
       "version_minor": 0
      },
      "text/plain": [
       "HBox(children=(FloatProgress(value=0.0, max=3.0), HTML(value='')))"
      ]
     },
     "metadata": {},
     "output_type": "display_data"
    },
    {
     "name": "stdout",
     "output_type": "stream",
     "text": [
      "\n",
      "570323742:\n",
      "Added 13 rows\n",
      "Procesing 57169605\n"
     ]
    },
    {
     "data": {
      "application/vnd.jupyter.widget-view+json": {
       "model_id": "a487772b415d431f9de0fd25b904d4b9",
       "version_major": 2,
       "version_minor": 0
      },
      "text/plain": [
       "HBox(children=(FloatProgress(value=0.0, max=376.0), HTML(value='')))"
      ]
     },
     "metadata": {},
     "output_type": "display_data"
    },
    {
     "name": "stdout",
     "output_type": "stream",
     "text": [
      "529392097:\n",
      "Added 1 rows\n",
      "Empty face: https://sun9-41.userapi.com/4XTYg3fwcFj-mQ9Pm7yN9widbAYg6MLmCkACqA/cD4LabEwOSg.jpg (1239, 1234, 612, 612)\n",
      "Procesing 1441477\n"
     ]
    },
    {
     "data": {
      "application/vnd.jupyter.widget-view+json": {
       "model_id": "51f71a63698e4169a108f0c7e0a8e662",
       "version_major": 2,
       "version_minor": 0
      },
      "text/plain": [
       "HBox(children=(FloatProgress(value=0.0, max=5.0), HTML(value='')))"
      ]
     },
     "metadata": {},
     "output_type": "display_data"
    },
    {
     "name": "stdout",
     "output_type": "stream",
     "text": [
      "\n",
      "1441477:\n",
      "Added 0 rows\n",
      "80039522:\n",
      "Added 1 rows\n",
      "\n",
      "Procesing 182217265\n"
     ]
    },
    {
     "data": {
      "application/vnd.jupyter.widget-view+json": {
       "model_id": "ae16bdb7f6e44818b88ca281736aaf24",
       "version_major": 2,
       "version_minor": 0
      },
      "text/plain": [
       "HBox(children=(FloatProgress(value=0.0, max=76.0), HTML(value='')))"
      ]
     },
     "metadata": {},
     "output_type": "display_data"
    },
    {
     "name": "stdout",
     "output_type": "stream",
     "text": [
      "Procesing 3963926\n"
     ]
    },
    {
     "data": {
      "application/vnd.jupyter.widget-view+json": {
       "model_id": "900cff27c28b415281cda273587897ca",
       "version_major": 2,
       "version_minor": 0
      },
      "text/plain": [
       "HBox(children=(FloatProgress(value=0.0, max=69.0), HTML(value='')))"
      ]
     },
     "metadata": {},
     "output_type": "display_data"
    },
    {
     "name": "stdout",
     "output_type": "stream",
     "text": [
      "Added 253 rows\n",
      "Procesing 18096108\n"
     ]
    },
    {
     "data": {
      "application/vnd.jupyter.widget-view+json": {
       "model_id": "dfca21a5fae348acb1abf7756eec6d34",
       "version_major": 2,
       "version_minor": 0
      },
      "text/plain": [
       "HBox(children=(FloatProgress(value=0.0, max=24.0), HTML(value='')))"
      ]
     },
     "metadata": {},
     "output_type": "display_data"
    },
    {
     "name": "stdout",
     "output_type": "stream",
     "text": [
      "Empty face: https://sun9-52.userapi.com/c621923/v621923333/42bd7/soHp2iyr36A.jpg (139, 152, 56, 75)\n",
      "Empty face: https://sun9-52.userapi.com/c621923/v621923333/42bd7/soHp2iyr36A.jpg (143, 221, 56, 75)\n",
      "Speed: 0.39929022120683816 obj/sec (12 in 30.053328037261963 seconds). AVG: 0.13285355928789408\n",
      "Active threads: 20\n",
      "Added 0 threads\n",
      "Active threads: 20\n",
      "Empty face: https://sun9-63.userapi.com/c46/v46926/645/TkZt7WCOZX4.jpg (150, 139, 75, 57)\n",
      "Empty face: https://sun9-63.userapi.com/c46/v46926/645/TkZt7WCOZX4.jpg (149, 73, 75, 57)\n",
      "Empty face: https://sun9-63.userapi.com/c46/v46926/645/TkZt7WCOZX4.jpg (87, 137, 75, 57)\n",
      "Speed: 0.0 obj/sec (0 in 30.053650856018066 seconds). AVG: 0.11956820335910467\n",
      "Active threads: 20\n",
      "Added 0 threads\n",
      "Active threads: 20\n",
      "Empty face: https://sun9-8.userapi.com/c840428/v840428760/1289d/ItpPoX3DFr0.jpg (1905, 1202, 640, 480)\n",
      "Empty face: https://sun9-8.userapi.com/c840428/v840428760/1289d/ItpPoX3DFr0.jpg (1373, 1190, 640, 480)\n",
      "Empty face: https://sun9-8.userapi.com/c840428/v840428760/1289d/ItpPoX3DFr0.jpg (1912, 646, 640, 480)\n",
      "Empty face: https://sun9-8.userapi.com/c840428/v840428760/1289d/ItpPoX3DFr0.jpg (2443, 1171, 640, 480)\n",
      "\n",
      "\n",
      "\n"
     ]
    },
    {
     "ename": "KeyboardInterrupt",
     "evalue": "",
     "output_type": "error",
     "traceback": [
      "\u001b[0;31m---------------------------------------------------------------------------\u001b[0m",
      "\u001b[0;31mKeyboardInterrupt\u001b[0m                         Traceback (most recent call last)",
      "\u001b[0;32m<ipython-input-19-6072eea63eb3>\u001b[0m in \u001b[0;36m<module>\u001b[0;34m\u001b[0m\n\u001b[1;32m     11\u001b[0m     \u001b[0mactive\u001b[0m \u001b[0;34m=\u001b[0m \u001b[0msum\u001b[0m\u001b[0;34m(\u001b[0m\u001b[0;34m[\u001b[0m\u001b[0mi\u001b[0m\u001b[0;34m.\u001b[0m\u001b[0misAlive\u001b[0m\u001b[0;34m(\u001b[0m\u001b[0;34m)\u001b[0m \u001b[0;32mfor\u001b[0m \u001b[0mi\u001b[0m \u001b[0;32min\u001b[0m \u001b[0mthreads\u001b[0m\u001b[0;34m]\u001b[0m\u001b[0;34m)\u001b[0m\u001b[0;34m\u001b[0m\u001b[0;34m\u001b[0m\u001b[0m\n\u001b[1;32m     12\u001b[0m     \u001b[0mprint\u001b[0m\u001b[0;34m(\u001b[0m\u001b[0;34m\"Active threads:\"\u001b[0m\u001b[0;34m,\u001b[0m \u001b[0mactive\u001b[0m\u001b[0;34m)\u001b[0m\u001b[0;34m\u001b[0m\u001b[0;34m\u001b[0m\u001b[0m\n\u001b[0;32m---> 13\u001b[0;31m     \u001b[0mtime\u001b[0m\u001b[0;34m.\u001b[0m\u001b[0msleep\u001b[0m\u001b[0;34m(\u001b[0m\u001b[0;36m30\u001b[0m\u001b[0;34m)\u001b[0m\u001b[0;34m\u001b[0m\u001b[0;34m\u001b[0m\u001b[0m\n\u001b[0m\u001b[1;32m     14\u001b[0m \u001b[0;34m\u001b[0m\u001b[0m\n\u001b[1;32m     15\u001b[0m     \u001b[0mprocessed_new\u001b[0m \u001b[0;34m=\u001b[0m \u001b[0;36m0\u001b[0m\u001b[0;34m\u001b[0m\u001b[0;34m\u001b[0m\u001b[0m\n",
      "\u001b[0;31mKeyboardInterrupt\u001b[0m: "
     ]
    }
   ],
   "source": [
    "while True:\n",
    "    processed_already = 0\n",
    "    prev_time = time.time()\n",
    "\n",
    "    for i in threads:\n",
    "        processed_already += i.processed_num\n",
    "    \n",
    "    active = sum([i.isAlive() for i in threads])\n",
    "    print(\"Active threads:\", active)\n",
    "    addThreads(active)\n",
    "    active = sum([i.isAlive() for i in threads])\n",
    "    print(\"Active threads:\", active)\n",
    "    time.sleep(30)\n",
    "    \n",
    "    processed_new = 0\n",
    "    new_time = time.time()\n",
    "    \n",
    "    for i in threads:\n",
    "        processed_new += i.processed_num\n",
    "    \n",
    "    delta_proc =  processed_new - processed_already\n",
    "    delta_time = new_time - prev_time\n",
    "    speed = delta_proc / delta_time\n",
    "    \n",
    "    avg = (1 - betta) * speed + betta * avg\n",
    "    \n",
    "    print(\"Speed: %s obj/sec (%s in %s seconds). AVG: %s\" % (speed, delta_proc, delta_time, avg))\n",
    "    i = 0\n",
    "    while i < len(threads):\n",
    "        if threads[i].isAlive():\n",
    "            i += 1\n",
    "        else:\n",
    "            threads.pop(i)\n",
    "    "
   ]
  },
  {
   "cell_type": "code",
   "execution_count": 29,
   "metadata": {},
   "outputs": [
    {
     "data": {
      "text/plain": [
       "0"
      ]
     },
     "execution_count": 29,
     "metadata": {},
     "output_type": "execute_result"
    }
   ],
   "source": [
    "i = 0\n",
    "while i < len(threads):\n",
    "        if threads[i].isAlive():\n",
    "            i += 1\n",
    "        else:\n",
    "            threads.pop(i)\n",
    "sum([i.isAlive() for i in threads])"
   ]
  },
  {
   "cell_type": "code",
   "execution_count": 43,
   "metadata": {},
   "outputs": [],
   "source": [
    "# conn = mysql.connector.connect(user='face', host=\"localhost\", password=\"Hr3mI3PM5JlFWrub\", database='global_scrape', port=8889, collation=\"utf8mb4_general_ci\")\n",
    "# processor = SocialProcessor(conn, model, prefix='/Users/aleksandrdremov/PycharmProjects/GlobalScraper/', batch=512)\n",
    "# processor.processVkUser(api, 1422)"
   ]
  },
  {
   "cell_type": "code",
   "execution_count": 20,
   "metadata": {},
   "outputs": [
    {
     "data": {
      "text/plain": [
       "[None,\n",
       " None,\n",
       " None,\n",
       " None,\n",
       " None,\n",
       " None,\n",
       " None,\n",
       " None,\n",
       " None,\n",
       " None,\n",
       " None,\n",
       " None,\n",
       " None,\n",
       " None,\n",
       " None,\n",
       " None,\n",
       " None,\n",
       " None,\n",
       " None,\n",
       " None]"
      ]
     },
     "execution_count": 20,
     "metadata": {},
     "output_type": "execute_result"
    }
   ],
   "source": [
    "[i.stop() for i in threads]"
   ]
  },
  {
   "cell_type": "code",
   "execution_count": null,
   "metadata": {},
   "outputs": [],
   "source": []
  }
 ],
 "metadata": {
  "kernelspec": {
   "display_name": "FaceScrape",
   "language": "python",
   "name": "facescrape"
  },
  "language_info": {
   "codemirror_mode": {
    "name": "ipython",
    "version": 3
   },
   "file_extension": ".py",
   "mimetype": "text/x-python",
   "name": "python",
   "nbconvert_exporter": "python",
   "pygments_lexer": "ipython3",
   "version": "3.7.7"
  }
 },
 "nbformat": 4,
 "nbformat_minor": 4
}
