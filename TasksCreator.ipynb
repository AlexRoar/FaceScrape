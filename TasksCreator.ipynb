{
 "cells": [
  {
   "cell_type": "code",
   "execution_count": 1,
   "metadata": {},
   "outputs": [],
   "source": [
    "from FaceLoader import FaceLoader\n",
    "from SocialProcessor import SocialProcessor\n",
    "\n",
    "import vk_api\n",
    "import mysql.connector\n",
    "import json\n",
    "\n",
    "\n",
    "%matplotlib inline"
   ]
  },
  {
   "cell_type": "code",
   "execution_count": 2,
   "metadata": {},
   "outputs": [],
   "source": [
    "conn = mysql.connector.connect(user='face', host=\"localhost\", password=\"Hr3mI3PM5JlFWrub\", database='global_scrape', port=8889, collation=\"utf8mb4_general_ci\")"
   ]
  },
  {
   "cell_type": "code",
   "execution_count": 3,
   "metadata": {},
   "outputs": [],
   "source": [
    "credentials = {}\n",
    "with open('credentials.json', 'r') as file:\n",
    "    credentials = json.load(file)"
   ]
  },
  {
   "cell_type": "code",
   "execution_count": 4,
   "metadata": {},
   "outputs": [],
   "source": [
    "def aunt_vk():\n",
    "    return input(), True\n",
    "\n",
    "\n",
    "def capt_vk(captcha):\n",
    "    print(captcha.get_url())\n",
    "    inp = input()\n",
    "    captcha.try_again(inp)"
   ]
  },
  {
   "cell_type": "code",
   "execution_count": 5,
   "metadata": {},
   "outputs": [],
   "source": [
    "vk_session = vk_api.VkApi(credentials['login'], credentials['password'], auth_handler=aunt_vk, captcha_handler=capt_vk)\n",
    "vk_session.auth()\n",
    "\n",
    "api = vk_session.get_api()"
   ]
  },
  {
   "cell_type": "code",
   "execution_count": 6,
   "metadata": {},
   "outputs": [],
   "source": [
    "ids_start = [185313244]"
   ]
  },
  {
   "cell_type": "code",
   "execution_count": 7,
   "metadata": {},
   "outputs": [],
   "source": [
    "processor = SocialProcessor(conn, None)"
   ]
  },
  {
   "cell_type": "code",
   "execution_count": 8,
   "metadata": {},
   "outputs": [
    {
     "name": "stdout",
     "output_type": "stream",
     "text": [
      "To be processed: 1\n",
      "To be processed: 236\n",
      "To be processed: 322\n",
      "To be processed: 577\n",
      "To be processed: 697\n",
      "To be processed: 867\n",
      "To be processed: 1066\n",
      "To be processed: 1230\n",
      "To be processed: 1320\n",
      "To be processed: 1673\n",
      "To be processed: 1832\n",
      "To be processed: 2065\n",
      "To be processed: 2556\n",
      "To be processed: 3026\n",
      "To be processed: 3239\n",
      "To be processed: 3314\n",
      "To be processed: 3479\n",
      "To be processed: 5942\n",
      "To be processed: 5975\n",
      "To be processed: 6203\n",
      "To be processed: 6516\n",
      "To be processed: 6617\n",
      "To be processed: 6707\n",
      "To be processed: 6774\n",
      "To be processed: 7073\n",
      "To be processed: 7346\n",
      "To be processed: 7403\n",
      "To be processed: 7517\n",
      "To be processed: 7773\n",
      "To be processed: 7940\n",
      "To be processed: 8197\n",
      "To be processed: 8329\n",
      "To be processed: 8613\n",
      "To be processed: 8840\n",
      "To be processed: 9196\n",
      "To be processed: 9438\n",
      "To be processed: 9764\n",
      "To be processed: 10079\n",
      "To be processed: 10140\n",
      "To be processed: 10442\n",
      "To be processed: 10521\n",
      "To be processed: 12392\n",
      "To be processed: 12707\n",
      "To be processed: 12855\n",
      "To be processed: 13400\n",
      "To be processed: 13631\n",
      "To be processed: 13857\n",
      "To be processed: 14386\n",
      "To be processed: 14461\n",
      "To be processed: 14604\n",
      "To be processed: 16040\n",
      "To be processed: 16188\n",
      "To be processed: 16253\n",
      "To be processed: 16410\n",
      "To be processed: 16549\n",
      "To be processed: 16673\n",
      "To be processed: 16802\n",
      "To be processed: 16972\n",
      "To be processed: 17328\n",
      "To be processed: 17403\n",
      "To be processed: 17520\n",
      "To be processed: 18129\n",
      "To be processed: 18251\n",
      "To be processed: 18456\n",
      "To be processed: 18526\n",
      "To be processed: 18638\n",
      "To be processed: 18662\n",
      "To be processed: 18827\n",
      "To be processed: 18879\n",
      "To be processed: 19537\n",
      "To be processed: 19638\n",
      "To be processed: 19638\n"
     ]
    }
   ],
   "source": [
    "i = 0\n",
    "while len(ids_start)<20000:\n",
    "    print(\"To be processed:\", len(ids_start))\n",
    "    new_batch = set(api.friends.get(user_id=ids_start[i])['items']) - set(ids_start)\n",
    "    ids_start += list(new_batch)\n",
    "    i += 1"
   ]
  },
  {
   "cell_type": "code",
   "execution_count": 12,
   "metadata": {},
   "outputs": [],
   "source": [
    "for i in ids_start:\n",
    "    processor.addTask(i, \"vk\")"
   ]
  },
  {
   "cell_type": "code",
   "execution_count": null,
   "metadata": {},
   "outputs": [],
   "source": []
  }
 ],
 "metadata": {
  "kernelspec": {
   "display_name": "FaceScrape",
   "language": "python",
   "name": "facescrape"
  },
  "language_info": {
   "codemirror_mode": {
    "name": "ipython",
    "version": 3
   },
   "file_extension": ".py",
   "mimetype": "text/x-python",
   "name": "python",
   "nbconvert_exporter": "python",
   "pygments_lexer": "ipython3",
   "version": "3.7.7"
  }
 },
 "nbformat": 4,
 "nbformat_minor": 4
}
