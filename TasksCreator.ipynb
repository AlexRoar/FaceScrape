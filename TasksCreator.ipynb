{
 "cells": [
  {
   "cell_type": "code",
   "execution_count": 5,
   "metadata": {},
   "outputs": [],
   "source": [
    "from FaceLoader import FaceLoader\n",
    "from SocialProcessor import SocialProcessor\n",
    "\n",
    "import vk_api\n",
    "import mysql.connector\n",
    "import json\n",
    "\n",
    "\n",
    "%matplotlib inline"
   ]
  },
  {
   "cell_type": "code",
   "execution_count": 6,
   "metadata": {},
   "outputs": [],
   "source": [
    "conn = mysql.connector.connect(user='face', host=\"localhost\", password=\"Hr3mI3PM5JlFWrub\", database='global_scrape', port=8889, collation=\"utf8mb4_general_ci\")"
   ]
  },
  {
   "cell_type": "code",
   "execution_count": 7,
   "metadata": {},
   "outputs": [],
   "source": [
    "credentials = {}\n",
    "with open('credentials.json', 'r') as file:\n",
    "    credentials = json.load(file)"
   ]
  },
  {
   "cell_type": "code",
   "execution_count": 8,
   "metadata": {},
   "outputs": [],
   "source": [
    "def aunt_vk():\n",
    "    return input(), True\n",
    "\n",
    "\n",
    "def capt_vk(captcha):\n",
    "    print(captcha.get_url())\n",
    "    inp = input()\n",
    "    captcha.try_again(inp)"
   ]
  },
  {
   "cell_type": "code",
   "execution_count": 9,
   "metadata": {},
   "outputs": [],
   "source": [
    "vk_session = vk_api.VkApi(credentials['login'], credentials['password'], auth_handler=aunt_vk, captcha_handler=capt_vk)\n",
    "vk_session.auth()\n",
    "\n",
    "api = vk_session.get_api()"
   ]
  },
  {
   "cell_type": "code",
   "execution_count": 10,
   "metadata": {},
   "outputs": [],
   "source": [
    "ids_start = [\"185313244\"]"
   ]
  },
  {
   "cell_type": "code",
   "execution_count": 11,
   "metadata": {},
   "outputs": [],
   "source": [
    "processor = SocialProcessor(conn, None)"
   ]
  },
  {
   "cell_type": "code",
   "execution_count": 12,
   "metadata": {},
   "outputs": [],
   "source": [
    "already = set(processor.alreadyParsed()).union(set([i[0] for i in processor.getAllTasks()]))"
   ]
  },
  {
   "cell_type": "code",
   "execution_count": 13,
   "metadata": {},
   "outputs": [
    {
     "data": {
      "text/plain": [
       "0"
      ]
     },
     "execution_count": 13,
     "metadata": {},
     "output_type": "execute_result"
    }
   ],
   "source": [
    "len(already)"
   ]
  },
  {
   "cell_type": "code",
   "execution_count": 14,
   "metadata": {},
   "outputs": [
    {
     "name": "stdout",
     "output_type": "stream",
     "text": [
      "To be processed: 1\n",
      "To be processed: 236\n",
      "To be processed: 430\n",
      "To be processed: 599\n",
      "To be processed: 658\n",
      "To be processed: 730\n",
      "To be processed: 807\n",
      "To be processed: 1042\n",
      "To be processed: 1568\n",
      "To be processed: 1653\n",
      "To be processed: 1843\n",
      "To be processed: 1912\n",
      "To be processed: 2092\n",
      "To be processed: 2282\n",
      "To be processed: 2663\n",
      "To be processed: 2719\n",
      "To be processed: 2837\n",
      "To be processed: 4399\n",
      "To be processed: 5682\n",
      "To be processed: 6006\n",
      "To be processed: 6312\n",
      "To be processed: 6464\n",
      "To be processed: 6622\n",
      "To be processed: 6991\n",
      "To be processed: 7276\n",
      "To be processed: 7439\n",
      "To be processed: 7642\n",
      "To be processed: 7738\n",
      "To be processed: 10925\n",
      "To be processed: 11192\n",
      "To be processed: 11469\n",
      "To be processed: 11874\n",
      "To be processed: 12330\n",
      "To be processed: 12427\n",
      "To be processed: 12687\n",
      "To be processed: 12979\n",
      "To be processed: 13297\n",
      "To be processed: 13419\n",
      "To be processed: 13944\n",
      "To be processed: 14011\n",
      "To be processed: 14168\n",
      "To be processed: 14390\n",
      "To be processed: 14487\n",
      "To be processed: 14924\n",
      "To be processed: 15880\n",
      "To be processed: 16195\n",
      "To be processed: 16799\n",
      "To be processed: 17028\n",
      "To be processed: 17340\n",
      "To be processed: 17461\n",
      "To be processed: 17524\n",
      "To be processed: 17867\n",
      "To be processed: 18043\n",
      "To be processed: 18154\n",
      "To be processed: 18386\n",
      "To be processed: 18495\n",
      "To be processed: 18532\n",
      "To be processed: 18852\n",
      "To be processed: 19417\n",
      "To be processed: 19658\n",
      "To be processed: 19990\n"
     ]
    }
   ],
   "source": [
    "i = 0\n",
    "while len(ids_start) < 20000:\n",
    "    print(\"To be processed:\", len(ids_start))\n",
    "    new_batch = (set(list(map(str,api.friends.get(user_id=ids_start[i])['items']))) - set(ids_start)) - set(already)\n",
    "    ids_start += list(new_batch)\n",
    "    i += 1"
   ]
  },
  {
   "cell_type": "code",
   "execution_count": 15,
   "metadata": {},
   "outputs": [],
   "source": [
    "for i in ids_start:\n",
    "    processor.addTask(i, \"vk\")"
   ]
  },
  {
   "cell_type": "code",
   "execution_count": null,
   "metadata": {},
   "outputs": [],
   "source": []
  }
 ],
 "metadata": {
  "kernelspec": {
   "display_name": "FaceScrape",
   "language": "python",
   "name": "facescrape"
  },
  "language_info": {
   "codemirror_mode": {
    "name": "ipython",
    "version": 3
   },
   "file_extension": ".py",
   "mimetype": "text/x-python",
   "name": "python",
   "nbconvert_exporter": "python",
   "pygments_lexer": "ipython3",
   "version": "3.7.7"
  }
 },
 "nbformat": 4,
 "nbformat_minor": 4
}